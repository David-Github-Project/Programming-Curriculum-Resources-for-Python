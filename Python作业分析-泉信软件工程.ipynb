{
 "cells": [
  {
   "cell_type": "markdown",
   "metadata": {},
   "source": [
    "# Python第1次作业分析"
   ]
  },
  {
   "cell_type": "code",
   "execution_count": null,
   "metadata": {},
   "outputs": [],
   "source": [
    "习题1. 重量计算。月球上物体的体重是在地球上的16.5%，假如你在地球上每年增长0.5kg，编写程序输出未来10年你在地球和月球上的体重状况。"
   ]
  },
  {
   "cell_type": "code",
   "execution_count": 49,
   "metadata": {},
   "outputs": [
    {
     "name": "stdout",
     "output_type": "stream",
     "text": [
      "输入十年前在地球上的体重：100\n",
      "十年后地球上的体重：105.00\n",
      "月球上：17.32\n"
     ]
    }
   ],
   "source": [
    "import math\n",
    "D=eval(input(\"输入十年前在地球上的体重：\"))\n",
    "d=D+10*0.5\n",
    "y=d*0.165\n",
    "print(\"十年后地球上的体重：{:.2f}\\n月球上：{:.2f}\".format(d,y))"
   ]
  },
  {
   "cell_type": "code",
   "execution_count": 17,
   "metadata": {},
   "outputs": [
    {
     "name": "stdout",
     "output_type": "stream",
     "text": [
      "十年前在地球的体重（kg）：100\n",
      "十年后在地球的体重：100.50kg,十年后在月球的体重：16.58kg\n",
      "十年后在地球的体重：101.00kg,十年后在月球的体重：16.66kg\n",
      "十年后在地球的体重：101.50kg,十年后在月球的体重：16.75kg\n",
      "十年后在地球的体重：102.00kg,十年后在月球的体重：16.83kg\n",
      "十年后在地球的体重：102.50kg,十年后在月球的体重：16.91kg\n",
      "十年后在地球的体重：103.00kg,十年后在月球的体重：17.00kg\n",
      "十年后在地球的体重：103.50kg,十年后在月球的体重：17.08kg\n",
      "十年后在地球的体重：104.00kg,十年后在月球的体重：17.16kg\n",
      "十年后在地球的体重：104.50kg,十年后在月球的体重：17.24kg\n",
      "十年后在地球的体重：105.00kg,十年后在月球的体重：17.32kg\n"
     ]
    }
   ],
   "source": [
    "#重量计算\n",
    "a=eval(input(\"十年前在地球的体重（kg）：\"))\n",
    "for i in range(1,11):\n",
    "    b=a+0.5*i\n",
    "    c=b*0.165\n",
    "    print(\"十年后在地球的体重：{:.2f}kg,十年后在月球的体重：{:.2f}kg\".format(b,c))"
   ]
  },
  {
   "cell_type": "code",
   "execution_count": null,
   "metadata": {},
   "outputs": [],
   "source": [
    "习题2：（教材4.2）输入一行字符，分别统计出其中英文字母、空格、数字和其它字符的个数。 \n",
    "提示：熟悉isalpha()，isspace()，isdigit()函数，并用于程序设计。"
   ]
  },
  {
   "cell_type": "code",
   "execution_count": 18,
   "metadata": {},
   "outputs": [
    {
     "name": "stdout",
     "output_type": "stream",
     "text": [
      "请输入一行字符：hkjhdf wejh sdf 88783 823jhjf djh,%$#@\n",
      "其中英文字母:20个,空格:5个,数字:8个,其它字符:5个\n"
     ]
    }
   ],
   "source": [
    "alpha=0\n",
    "space=0\n",
    "num=0\n",
    "others=0\n",
    "str = input(\"请输入一行字符：\")\n",
    "for i in range(0,len(str)):\n",
    "    if str[i].isalpha():\n",
    "        alpha += 1\n",
    "    elif str[i].isspace():\n",
    "        space += 1\n",
    "    elif str[i].isdigit():\n",
    "        num += 1\n",
    "    else:\n",
    "        others += 1\n",
    "print(\"其中英文字母:{}个,空格:{}个,数字:{}个,其它字符:{}个\".format(alpha,space,num,others))"
   ]
  },
  {
   "cell_type": "code",
   "execution_count": null,
   "metadata": {},
   "outputs": [],
   "source": [
    "习题3. 根据输入的句子判定是否是回文，输入Quit结束程序。\n",
    "示例1：客上天然居，居然天上客（乾隆出句）\n",
    "示例2：人过大佛寺，寺佛大过人"
   ]
  },
  {
   "cell_type": "code",
   "execution_count": 14,
   "metadata": {},
   "outputs": [
    {
     "name": "stdout",
     "output_type": "stream",
     "text": [
      "请输入要判定的语句（输入Quit为退出）：abcdedcba\n",
      "abcdedcba（是回文）\n"
     ]
    }
   ],
   "source": [
    "#习题3 回文判定\n",
    "str=input(\"请输入要判定的语句（输入Quit为退出）：\") \n",
    "while str!=\"Quit\": \n",
    "    str2=str[::-1] #取str的逆序\n",
    "    if str==str2: \n",
    "        print(str2 + \"（是回文）\") \n",
    "        break\n",
    "    else: \n",
    "        print(str2 + \"（不是回文）\") \n",
    "        str=input(\"请输入要判定的语句（输入Quit为退出）：\") "
   ]
  },
  {
   "cell_type": "code",
   "execution_count": 56,
   "metadata": {},
   "outputs": [
    {
     "data": {
      "text/plain": [
       "'7654321'"
      ]
     },
     "execution_count": 56,
     "metadata": {},
     "output_type": "execute_result"
    }
   ],
   "source": [
    "#s[::-1]是什么意思\n",
    "s=\"1234567\"\n",
    "s[::-1]"
   ]
  },
  {
   "cell_type": "code",
   "execution_count": null,
   "metadata": {},
   "outputs": [],
   "source": [
    "def huiWen(str):\n",
    "    for i in range(0,len(str)):\n",
    "        if str[i]!=str[-1-i]:   #i等于0时，与最后一个字符比较，其它类似\n",
    "            print(\"不是回文。\")\n",
    "    print(\"{}是回文\".format(str))\n",
    "\n",
    "    while 1:\n",
    "    str=input(\"根据输入的句子判定是否是回文，输入Quit结束程序:\")\n",
    "    if str!=\"Quit\":\n",
    "        huiWen(str)\n",
    "    else:\n",
    "        break"
   ]
  },
  {
   "cell_type": "code",
   "execution_count": null,
   "metadata": {},
   "outputs": [],
   "source": [
    "习题4. 元素数量统计。用户任意输入一个元素列表，找出其中数量最多的元素及个数，如果元素数量相同，选择列表中靠前的元素输出。"
   ]
  },
  {
   "cell_type": "code",
   "execution_count": 30,
   "metadata": {},
   "outputs": [
    {
     "name": "stdout",
     "output_type": "stream",
     "text": [
      "任意输入一个元素列表,用空格隔开：kshdfkjvkhkjsdfhksdh\n",
      "数量最多的元素:k,共有5个\n"
     ]
    }
   ],
   "source": [
    "def array(str):\n",
    "    temp=0\n",
    "    for i in str:\n",
    "        if str.count(i)>temp:\n",
    "            array= i\n",
    "            temp=str.count(i)\n",
    "    return print(\"数量最多的元素:{},共有{}个\".format(array,temp))\n",
    "a=input(\"任意输入一个元素列表,用空格隔开：\")\n",
    "#b=a.split()\n",
    "array(a)"
   ]
  },
  {
   "cell_type": "code",
   "execution_count": null,
   "metadata": {},
   "outputs": [],
   "source": [
    "习题6. 设计一个multi()函数，参数个数不限，返回所有参数的乘积。"
   ]
  },
  {
   "cell_type": "code",
   "execution_count": 15,
   "metadata": {},
   "outputs": [
    {
     "name": "stdout",
     "output_type": "stream",
     "text": [
      "120\n"
     ]
    }
   ],
   "source": [
    "#习题6参考代码\n",
    "def multi(a,*b):\n",
    "    for i in b:\n",
    "        a*=i\n",
    "    return a\n",
    "print(multi(1,2,3,4,5))"
   ]
  },
  {
   "cell_type": "code",
   "execution_count": null,
   "metadata": {},
   "outputs": [],
   "source": [
    "习题7：字符串 a =”Python is a programming language that lets you work quickly and integrate systems more effectively”，\n",
    "统计字符串出现字母”t”的单词，并输出成一个列表。 "
   ]
  },
  {
   "cell_type": "code",
   "execution_count": 51,
   "metadata": {},
   "outputs": [
    {
     "name": "stdout",
     "output_type": "stream",
     "text": [
      "Python\n",
      "that\n",
      "lets\n",
      "integrate\n",
      "systems\n",
      "effectively\n"
     ]
    }
   ],
   "source": [
    "#习题7：统计字符串出现字母”t”的单词，并输出成一个列表。\n",
    "a = \"Python is a programming language that lets you work quickly and integrate systems more effectively\"\n",
    "#a.split(\" \"): ['Python', 'is', 'a', 'programming', 'language', 'that', 'lets', 'you']\n",
    "b = a.split(\" \") # 按空格分隔\n",
    "for i in range(len(b)):\n",
    "    d = b[i]\n",
    "    c = 0\n",
    "    for j in range(len(b[i])):\n",
    "        if d[j] == \"t\":\n",
    "            c = 1\n",
    "    if c == 1:\n",
    "        print(b[i])"
   ]
  },
  {
   "cell_type": "code",
   "execution_count": null,
   "metadata": {},
   "outputs": [],
   "source": [
    "习题8质数判定。自定义isPrime()函数，参数为整数，要有异常处理。如果整数是质数，返回True，否则返回False。\n"
   ]
  },
  {
   "cell_type": "markdown",
   "metadata": {},
   "source": [
    "素数(质数)的定义：质数又称素数。一个大于1的自然数，除了1和它自身外，不能被其他自然数整除的数叫做质数；否则称为合数。\n",
    "我们可以从它的定义得到判断素数的方法: \n",
    "（1）从2到n - 1, 判断是否存在能被n整除的数，n%i == 0\n",
    "（2）快速判定方法：\n",
    "对于每个数n，其实并不需要从2判断到n-1，这样的效率比较低下.\n",
    "一个数若可以进行因数分解，那么分解时得到的两个数一定是一个小于等于sqrt(n)，一个大于等于sqrt(n)，\n",
    "据此，上述代码中并不需要遍历到n-1，遍历到sqrt(n)即可，因为若sqrt(n)左侧找不到约数，那么右侧也一定找不到约数。"
   ]
  },
  {
   "cell_type": "code",
   "execution_count": 42,
   "metadata": {},
   "outputs": [
    {
     "name": "stdout",
     "output_type": "stream",
     "text": [
      "请输入一个数：4\n"
     ]
    },
    {
     "data": {
      "text/plain": [
       "False"
      ]
     },
     "execution_count": 42,
     "metadata": {},
     "output_type": "execute_result"
    }
   ],
   "source": [
    "#方法1\n",
    "import math\n",
    "def isPrime(n):\n",
    "    for i in range(2, n):\n",
    "        if n % i == 0:\n",
    "            return False\n",
    "            break\n",
    "    else:\n",
    "        return True\n",
    "n=eval(input(\"请输入一个数：\"))\n",
    "isPrime(n)"
   ]
  },
  {
   "cell_type": "code",
   "execution_count": 46,
   "metadata": {},
   "outputs": [
    {
     "name": "stdout",
     "output_type": "stream",
     "text": [
      "请输入一个数：7\n"
     ]
    },
    {
     "data": {
      "text/plain": [
       "True"
      ]
     },
     "execution_count": 46,
     "metadata": {},
     "output_type": "execute_result"
    }
   ],
   "source": [
    "#方法2\n",
    "import math\n",
    "def isPrime(n):\n",
    "    for i in range(2, int(math.sqrt(n))):\n",
    "        if n % i == 0:\n",
    "            return False\n",
    "            break\n",
    "    else:\n",
    "        return True\n",
    "n=eval(input(\"请输入一个数：\"))\n",
    "isPrime(n)"
   ]
  },
  {
   "cell_type": "code",
   "execution_count": null,
   "metadata": {},
   "outputs": [],
   "source": [
    "课堂练习题：\n",
    "找出1-100之内的所有质数，并保存在列表prime中输出。"
   ]
  },
  {
   "cell_type": "code",
   "execution_count": 27,
   "metadata": {},
   "outputs": [
    {
     "name": "stdout",
     "output_type": "stream",
     "text": [
      "请输入整数:er54\n",
      "输入有误！请输入整数\n",
      "er54不是质数\n"
     ]
    }
   ],
   "source": [
    "#带异常错误捕捉\n",
    "#快速判断方法：从2到sqrt(n)是否存在其约数\n",
    "from math import *\n",
    "def isPrime(num):\n",
    "    \n",
    "    try:\n",
    "        num = eval(num)\n",
    "        if type(num) == type(1):\n",
    "            if num == 1:\n",
    "                return False\n",
    "            else:\n",
    "                for i in range(2,int(sqrt(num)+1)):\n",
    "                    if num % i == 0:\n",
    "                        return False                    \n",
    "            return True\n",
    "    except:\n",
    "        print(\"输入有误！请输入整数\")\n",
    "\n",
    "if __name__ == '__main__':\n",
    "    n = input(\"请输入整数:\")\n",
    "    if isPrime(n):\n",
    "        print(\"{}是质数\".format(n)) \n",
    "    else:\n",
    "        print(\"{}不是质数\".format(n))\n",
    "    "
   ]
  },
  {
   "cell_type": "code",
   "execution_count": 37,
   "metadata": {},
   "outputs": [
    {
     "name": "stdout",
     "output_type": "stream",
     "text": [
      "drddfgdsfg\n",
      "d             4\n",
      "f             2\n",
      "g             2\n",
      "r             1\n",
      "s             1\n"
     ]
    }
   ],
   "source": [
    "#统计输入字符串中字符出现的频率\n",
    "str=input()\n",
    "counts={}\n",
    "for c in str:\n",
    "    counts[c]=counts.get(c,0)+1\n",
    "    items=list(counts.items())\n",
    "    items.sort(key=lambda x:x[1],reverse=True)\n",
    "for i in range(len(counts)):\n",
    "    c,count=items[i]\n",
    "    print('{0:<10}{1:>5}'.format(c,count))"
   ]
  },
  {
   "cell_type": "markdown",
   "metadata": {},
   "source": [
    "### 课堂作业1：输出1-100的所有质数"
   ]
  },
  {
   "cell_type": "markdown",
   "metadata": {},
   "source": [
    "### 课堂作业2：随机产生20个60-100之间的小数，小数保留两位，然后将20个数字按降序排列。"
   ]
  },
  {
   "cell_type": "markdown",
   "metadata": {},
   "source": [
    "### 课堂作业3：手机品牌的字典定义如下： goods = {\"Apple\":4999, \"华为\":3600, \"Vivo\":2999, \"OPPO\":3200, \"三星\":4300 }\n",
    "试编程完成下列操作：\n",
    "1.修改Apple的值为5000\n",
    "2.向字典新增一个“小米”手机，价格为2800;\n",
    "3.输入任一品牌的名称，显示其价格;\n",
    "4.遍历字典，求出手机价格的最大值和最小值；\n",
    "5.返回所有的键值对；\n",
    "6.将键值对的键和值分别取出，对值从大到小进行排序。"
   ]
  },
  {
   "cell_type": "code",
   "execution_count": 48,
   "metadata": {},
   "outputs": [
    {
     "name": "stdout",
     "output_type": "stream",
     "text": [
      "[1, 2, 3, 5, 7, 11, 13, 17, 19, 23, 29, 31, 37, 41, 43, 47, 53, 59, 61, 67, 71, 73, 79, 83, 89, 97]\n"
     ]
    }
   ],
   "source": [
    "#作业1：输出1-100的所有质数\n",
    "import math \n",
    "prime = [] \n",
    "for i in range(1, 101): #第一层循环，从5到100\n",
    "    for j in range(2, int(math.sqrt(i))+1): #第二层循环，逐个判断是否有因子\n",
    "        if i%j == 0: #如果出现整除说明有因子\n",
    "            break #跳出循环判断下一个\n",
    "    else:   \n",
    "        prime.append(i) #说明是素数，加到列表里\n",
    "print(prime)"
   ]
  },
  {
   "cell_type": "code",
   "execution_count": null,
   "metadata": {},
   "outputs": [],
   "source": [
    "#习题2：随机产生20个60-100之间的小数，小数保留两位，然后将20个数字按降序排列。\n",
    "import random \n",
    "x=[] \n",
    "for i in range(20): \n",
    "    x.append((\"%.2f\" % random.uniform(60, 100))) \n",
    "    x.sort() \n",
    "    x.reverse() \n",
    "print(x) "
   ]
  },
  {
   "cell_type": "code",
   "execution_count": null,
   "metadata": {},
   "outputs": [],
   "source": [
    "#作业3：字典操作练习\n",
    "#定义一个字典\n",
    "goods = {\"Apple\":4999,\"华为\":3600,\"Vivo\":2999,\"OPPO\":3200,\"三星\":4300} \n",
    "\n",
    "#向字典新增一个“小米”手机，价格为2800;\n",
    "goods.update(小米=2800) \n",
    "\n",
    "#输入任一品牌的名称，显示其价格;\n",
    "print(goods[\"Apple\"]) \n",
    "\n",
    "#遍历字典，求出手机价格的最大值和最小值；\n",
    "max1=0 \n",
    "min1=99999 \n",
    "\n",
    "for key in goods: \n",
    "    if goods[key]>max1: \n",
    "        max1=goods[key] \n",
    "    if goods[key]<min1: \n",
    "        min1=goods[key] \n",
    "    print(key, ' value : ', goods[key]) \n",
    "print(\"最高的价格为：\" ,max1) \n",
    "print(\"最低的价格为：\" ,min1) \n",
    "\n",
    "#返回所有的键值对\n",
    "print(goods.items()) \n",
    "#返回键与值\n",
    "print(goods.keys())\n",
    "print(goods.values())"
   ]
  }
 ],
 "metadata": {
  "kernelspec": {
   "display_name": "Python 3",
   "language": "python",
   "name": "python3"
  },
  "language_info": {
   "codemirror_mode": {
    "name": "ipython",
    "version": 3
   },
   "file_extension": ".py",
   "mimetype": "text/x-python",
   "name": "python",
   "nbconvert_exporter": "python",
   "pygments_lexer": "ipython3",
   "version": "3.6.8"
  }
 },
 "nbformat": 4,
 "nbformat_minor": 2
}
