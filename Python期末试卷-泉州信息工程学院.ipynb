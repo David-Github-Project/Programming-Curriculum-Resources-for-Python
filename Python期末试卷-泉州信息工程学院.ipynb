{
 "cells": [
  {
   "cell_type": "markdown",
   "metadata": {},
   "source": [
    "## Python期末试卷-泉州信息工程学院"
   ]
  },
  {
   "cell_type": "markdown",
   "metadata": {},
   "source": [
    "# A卷评分标准"
   ]
  },
  {
   "cell_type": "markdown",
   "metadata": {},
   "source": [
    "一、某销售公司员工底薪为5000元，员工的月销售业绩与利润提成的关系如下表所示。编写程序，根据销售业绩计算每个档次的员工月薪（精确到小数点后两位）。(20分)\n",
    "\n",
    "销售业绩（元）\t利润提成比例\n",
    "       sales≤10000\t没有提成\n",
    "10000＜sales≤20000\t提成10%\n",
    "20000＜sales≤50000\t提成15%\n",
    "50000＜sales≤100000\t提成20%\n",
    "100000＜sales\t提成25%"
   ]
  },
  {
   "cell_type": "code",
   "execution_count": 12,
   "metadata": {},
   "outputs": [
    {
     "name": "stdout",
     "output_type": "stream",
     "text": [
      "收入:20000\n",
      "月薪: 7000.0\n"
     ]
    }
   ],
   "source": [
    "#第1题\n",
    "sales = int(input('收入:')) \n",
    "if sales<=10000:\n",
    "    p=0\n",
    "elif 10000<sales<=20000:\n",
    "    p=sales*0.1\n",
    "elif 20000<sales<=50000:\n",
    "    p=sales*0.15\n",
    "elif 50000<sales<=100000:\n",
    "    p=sales*0.2\n",
    "elif sales>100000:\n",
    "    p=sales*0.25\n",
    "print(\"月薪:\",5000+p)"
   ]
  },
  {
   "cell_type": "markdown",
   "metadata": {},
   "source": [
    "二、一个整数，它加上100后是一个完全平方数，再加上168又是一个完全平方数，请用程序计算该数是多少？(20分)"
   ]
  },
  {
   "cell_type": "code",
   "execution_count": 1,
   "metadata": {},
   "outputs": [
    {
     "name": "stdout",
     "output_type": "stream",
     "text": [
      "-99.0\n",
      "21.0\n",
      "261.0\n",
      "1581.0\n"
     ]
    }
   ],
   "source": [
    "for i in range(1,85): \n",
    "    if 168 % i == 0: \n",
    "        j = 168 / i; \n",
    "        if i > j and (i + j) % 2 == 0 and (i - j) % 2 == 0 : \n",
    "            m = (i + j) / 2 \n",
    "            n = (i - j) / 2 \n",
    "            x = n * n - 100 \n",
    "            print(x)"
   ]
  },
  {
   "cell_type": "code",
   "execution_count": null,
   "metadata": {},
   "outputs": [],
   "source": [
    "三、试编写一个函数，从键盘输入任意整数n,编程实现以下操作：\n",
    "（1）输入n为偶数时，调用函数func1:计算1/2+1/4+...+1/n的值（10分）\n",
    "(2)当输入n为奇数时，调用函数func2,计算1/1+1/3+...+1/n。(10分)\n"
   ]
  },
  {
   "cell_type": "code",
   "execution_count": 93,
   "metadata": {},
   "outputs": [
    {
     "name": "stdout",
     "output_type": "stream",
     "text": [
      "input a number:\n",
      "6\n",
      "0.9166666666666666\n"
     ]
    }
   ],
   "source": [
    "#试题3\n",
    "def func1(n): \n",
    "    i = 0 \n",
    "    s = 0.0 \n",
    "    for i in range(2,n + 1,2): \n",
    "        s += 1.0 / i\n",
    "    return s \n",
    "\n",
    "def func2(n): \n",
    "    s = 0.0 \n",
    "    for i in range(1, n + 1,2): \n",
    "        s += 1.0 / i\n",
    "    return s \n",
    "\n",
    "def dcall(fp,n): \n",
    "    s = fp(n) \n",
    "    return s \n",
    "\n",
    "n = int(input('input a number:\\n')) \n",
    "if n % 2 == 0: \n",
    "    sum = dcall(func1,n) \n",
    "else: \n",
    "    sum = dcall(func2,n) \n",
    "print (sum)"
   ]
  },
  {
   "cell_type": "markdown",
   "metadata": {},
   "source": [
    "四、从当前目录中读入名为text.txt的文本文件，要求：\n",
    "(1)将大写字母变成对应小写字母，小写字母变成对应大写字母，其余字符不变。\n",
    "然后将转换结果显示输出（15分）\n",
    "(2)将输出结果写入到文件\"text1.txt\"中(5分)。"
   ]
  },
  {
   "cell_type": "code",
   "execution_count": 85,
   "metadata": {},
   "outputs": [
    {
     "name": "stdout",
     "output_type": "stream",
     "text": [
      "Python Is a Programming Language That Lets You Work Quickly and Integrate Systems More Effectively.\n",
      "['p', 'Y', 'T', 'H', 'O', 'N', ' ', 'i', 'S', ' ', 'A', ' ', 'p', 'R', 'O', 'G', 'R', 'A', 'M', 'M', 'I', 'N', 'G', ' ', 'l', 'A', 'N', 'G', 'U', 'A', 'G', 'E', ' ', 't', 'H', 'A', 'T', ' ', 'l', 'E', 'T', 'S', ' ', 'y', 'O', 'U', ' ', 'w', 'O', 'R', 'K', ' ', 'q', 'U', 'I', 'C', 'K', 'L', 'Y', ' ', 'A', 'N', 'D', ' ', 'i', 'N', 'T', 'E', 'G', 'R', 'A', 'T', 'E', ' ', 's', 'Y', 'S', 'T', 'E', 'M', 'S', ' ', 'm', 'O', 'R', 'E', ' ', 'e', 'F', 'F', 'E', 'C', 'T', 'I', 'V', 'E', 'L', 'Y', '.']\n"
     ]
    }
   ],
   "source": [
    "\n",
    "\n",
    "fo = open(\"text.txt\" ,\"rt\", encoding='utf8')\n",
    "\n",
    "trans=[]\n",
    "\n",
    "s=fo.readlines()\n",
    "s1=s[0]#读入字符串\n",
    "print(s1)\n",
    "\n",
    "#判定大写字母处理\n",
    "for i in s1:\n",
    "    if i.isupper(): #如果是大写字母\n",
    "        trans.append(i.lower())#转换为小写字母\n",
    "        continue\n",
    "    if i.islower(): #如果是小写字母\n",
    "        trans.append(i.upper())#转换为大写字母\n",
    "    else:\n",
    "        trans.append(i)\n",
    "print(trans)\n",
    "#写文件\n",
    "f = open(\"text1.txt\",\"a+\",encoding='utf8')\n",
    "f.writelines(trans)  #将列表写入文件\n"
   ]
  },
  {
   "cell_type": "markdown",
   "metadata": {},
   "source": [
    "2013-2017年国内生产总值（GDP）如下表所示，试编程实现：\n",
    "年份\t2013\t2014\t2015\t2016\t2017\n",
    "国内生产总值（亿元）\t595244\t643974\t689052\t743585\t827122\n",
    "\n",
    "（1）初始化一个字典类型，将年份作为字典的keys，将对应的GDP值作为字典的values(5分)；\n",
    "（2）求出GDP的最大值并输出（5分）；\n",
    "（3）当从键盘上输入一个年份，输出对应GDP的值（10分）。"
   ]
  },
  {
   "cell_type": "code",
   "execution_count": 91,
   "metadata": {},
   "outputs": [
    {
     "name": "stdout",
     "output_type": "stream",
     "text": [
      "dict_values([595244, 643974, 689052, 743585, 827122])\n",
      "最大值: 827122\n",
      "year:2014\n",
      "643974\n"
     ]
    }
   ],
   "source": [
    "gdp={2013:595244,2014:643974,2015:689052,2016:743585,2017:827122}\n",
    "s=gdp.values()\n",
    "print(s)\n",
    "print(\"最大值:\",max(s))\n",
    "year=int(input(\"year:\"))\n",
    "print(gdp[year])"
   ]
  },
  {
   "cell_type": "markdown",
   "metadata": {},
   "source": [
    "# B卷评价标准\n"
   ]
  },
  {
   "cell_type": "code",
   "execution_count": null,
   "metadata": {},
   "outputs": [],
   "source": [
    "习题1：\n",
    "1.个人所得税计算公式为：\n",
    "个人所得税=（月工资收入-5000元）*税率\n",
    "当月工资超出5000元，假设应交纳的所得税按下表计算（20分）\n",
    "\n",
    "月收入（元）\t税率\n",
    "       sales≤5000\t不交税\n",
    "5000＜sales≤10000\t10%\n",
    "10000＜sales≤50000\t20%\n",
    "50000＜sales≤100000\t30%\n",
    "sales>100000\t40%\n",
    "试编写程序实现，当输入某个人的月收入时（例如18695元），计算应交的所得税金额（精确到小数点后两位）(20分)。"
   ]
  },
  {
   "cell_type": "code",
   "execution_count": 59,
   "metadata": {},
   "outputs": [
    {
     "name": "stdout",
     "output_type": "stream",
     "text": [
      "收入:12345\n",
      "应纳税: 1469.0\n"
     ]
    }
   ],
   "source": [
    "sales = int(input('收入:')) \n",
    "if sales<=5000:\n",
    "    p=0\n",
    "elif 5000<sales<=10000:\n",
    "    p=(sales-5000)*0.1\n",
    "elif 10000<sales<=50000:\n",
    "    p=(sales-5000)*0.2\n",
    "elif 50000<sales<=100000:\n",
    "    p=(sales-50000)*0.3\n",
    "elif sales>100000:\n",
    "    p=(sales-5000)*0.4\n",
    "print(\"应纳税:\",round(p,2))"
   ]
  },
  {
   "cell_type": "markdown",
   "metadata": {},
   "source": [
    "习题2：随机产生数值在100以内的20个整数，并用列表存放，然后按降序排序(20分)，并输出排序结果。"
   ]
  },
  {
   "cell_type": "code",
   "execution_count": 63,
   "metadata": {},
   "outputs": [
    {
     "name": "stdout",
     "output_type": "stream",
     "text": [
      "[100, 95, 74, 71, 62, 62, 51, 45, 45, 37, 31, 28, 27, 25, 21, 8, 6, 3, 3, 2]\n"
     ]
    }
   ],
   "source": [
    "import random\n",
    "nums = []\n",
    "for i in range(20):\n",
    "    num = int(random.randint(1,100))\n",
    "    nums.append(num)\n",
    "sort_nums = sorted(nums,reverse=True)\n",
    "print(sort_nums)"
   ]
  },
  {
   "cell_type": "code",
   "execution_count": null,
   "metadata": {},
   "outputs": [],
   "source": [
    "三、试编写一个函数，从键盘输入任意整数n,并编程实现以下操作：\n",
    "(1)当输入n为偶数时，调用函数func1，计算2到n所有偶数的值（10分）；\n",
    "(2)当输入n为奇数时，调用函数func2，计算1到n所有奇数的值(10分)。"
   ]
  },
  {
   "cell_type": "code",
   "execution_count": 92,
   "metadata": {},
   "outputs": [
    {
     "name": "stdout",
     "output_type": "stream",
     "text": [
      "input a number:\n",
      "5\n",
      "1-n之间奇数和为：9\n"
     ]
    }
   ],
   "source": [
    "#试题3\n",
    "\n",
    "def func1(n): \n",
    "    i = 0 \n",
    "    s = 0.0 \n",
    "    for i in range(2,n + 1,2): \n",
    "        s +=  i\n",
    "    return s \n",
    "\n",
    "def func2(n): \n",
    "    s = 0.0 \n",
    "    for i in range(1, n + 1,2): \n",
    "        s +=  i\n",
    "    return s \n",
    "\n",
    "def dcall(fp,n): \n",
    "    s = fp(n) \n",
    "    return s \n",
    "n = int(input('input a number:\\n')) \n",
    "if n % 2 == 0: \n",
    "    sum = dcall(func1,n) \n",
    "    print(\"1-n之间偶数和为：%d\" % sum)\n",
    "else: \n",
    "    sum = dcall(func2,n)\n",
    "    print(\"1-n之间奇数和为：%d\" % sum)"
   ]
  },
  {
   "cell_type": "markdown",
   "metadata": {},
   "source": [
    "四、从当前目录中读入名为text.txt的文本文件，要求：\n",
    "(1)分别统计并输出大写字母和小写字母的个数（10分）；\n",
    "(2)筛选出文本中的小写字母（不重复）进行显示，并写入到文件\"text1.txt\"中(10分)。"
   ]
  },
  {
   "cell_type": "code",
   "execution_count": 80,
   "metadata": {},
   "outputs": [
    {
     "name": "stdout",
     "output_type": "stream",
     "text": [
      "Python Is a Programming Language That Lets You Work Quickly and Integrate Systems More Effectively.\n",
      "大写字母个数： 13\n",
      "小写字母个数： 71\n",
      "['l', 't', 's', 'a', 'i', 'o', 'u', 'd', 'f', 'r', 'y', 'k', 'g', 'n', 'e', 'v', 'm', 'h', 'c']\n"
     ]
    }
   ],
   "source": [
    "#utf8是编码模式，如果去掉这一行试试是什么结果？\n",
    "f = open(\"text.txt\" ,\"rt\", encoding='utf8')\n",
    "\n",
    "trans=[]\n",
    "upp=0\n",
    "low=0\n",
    "lowlist=[]\n",
    "s=f.readlines()\n",
    "s1=s[0]#读入字符串\n",
    "print(s1)\n",
    "\n",
    "#判定大写字母处理\n",
    "for i in s1:\n",
    "    if i.isupper(): #如果是大写字母\n",
    "        upp=upp+1\n",
    "    if i.islower():#如果是小写字母\n",
    "        low=low+1\n",
    "        lowlist.append(i)\n",
    "print(\"大写字母个数：\",upp)\n",
    "print(\"小写字母个数：\",low)\n",
    "\n",
    "str=list(set(lowlist))#用集合命令set去除重复字母\n",
    "print(str)\n",
    "#写文件\n",
    "f = open(\"text1.txt\",\"a+\",encoding='utf8')\n",
    "f.writelines(str)  #将列表写入文件"
   ]
  },
  {
   "cell_type": "code",
   "execution_count": null,
   "metadata": {},
   "outputs": [],
   "source": [
    "五、手机品牌的名称和价格如下表所示，试编程实现：\n",
    "\n",
    "名称\tAPPLE\tHUAWEI\tSAMSUNG\tVIVO\tOPPO\n",
    "价格\t4900\t3600\t3900\t2800\t2300\n",
    "\n",
    "（1）初始化一个字典类型，将手机品牌作为字典的keys，将价格作为字典的values(5分)；\n",
    "（2）求出所列手机价格的最大值和最小值，并输出（5分）；\n",
    "（3）从键盘上输入一个手机名称，输出对应的价格（10分）。\n"
   ]
  },
  {
   "cell_type": "code",
   "execution_count": 83,
   "metadata": {},
   "outputs": [
    {
     "name": "stdout",
     "output_type": "stream",
     "text": [
      "dict_values([4900, 3600, 3900, 2800, 2300])\n",
      "4900\n",
      "Phone name:OPPO\n",
      "2300\n"
     ]
    }
   ],
   "source": [
    "phone={\"APPLE\":4900,\"HUAWEI\":3600,\"SAMSUNG\":3900,\"VIVO\":2800,\"OPPO\":2300}\n",
    "s=phone.values()\n",
    "print(s)\n",
    "print(max(s))\n",
    "pname=input(\"Phone name:\")\n",
    "print(phone[pname])"
   ]
  }
 ],
 "metadata": {
  "kernelspec": {
   "display_name": "Python 3",
   "language": "python",
   "name": "python3"
  },
  "language_info": {
   "codemirror_mode": {
    "name": "ipython",
    "version": 3
   },
   "file_extension": ".py",
   "mimetype": "text/x-python",
   "name": "python",
   "nbconvert_exporter": "python",
   "pygments_lexer": "ipython3",
   "version": "3.6.8"
  }
 },
 "nbformat": 4,
 "nbformat_minor": 2
}
