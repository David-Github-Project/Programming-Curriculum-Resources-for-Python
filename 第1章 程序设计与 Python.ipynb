{
 "cells": [
  {
   "cell_type": "markdown",
   "metadata": {},
   "source": [
    "Python下载与安装\n",
    "进入Python下载页面，打开 WEB 浏览器访问：\n",
    "https://www.python.org/downloads/windows/"
   ]
  },
  {
   "cell_type": "markdown",
   "metadata": {},
   "source": [
    "1.jupyter的安装\n",
    "可以直接在在Windows中的命令窗口中使用pip工具安装：\n",
    "  pip install jupyter notebook\n",
    "2.jupyter的运行\n",
    " \t然后在cmd中直接键入\n",
    ">jupyter notebook\n",
    "即可启动jupyter的交互式环境。启动成功后浏览器会自动跳转到jupyter notebook工作界面"
   ]
  },
  {
   "cell_type": "markdown",
   "metadata": {},
   "source": [
    "安装Pycharm，可访问官网链接：\n",
    "http://www.jetbrains.com/pycharm/download/#section=windows\n",
    "然后根据自己电脑的操作系统进行选择对应的安装包。"
   ]
  }
 ],
 "metadata": {
  "kernelspec": {
   "display_name": "Python 3",
   "language": "python",
   "name": "python3"
  },
  "language_info": {
   "codemirror_mode": {
    "name": "ipython",
    "version": 3
   },
   "file_extension": ".py",
   "mimetype": "text/x-python",
   "name": "python",
   "nbconvert_exporter": "python",
   "pygments_lexer": "ipython3",
   "version": "3.7.1"
  }
 },
 "nbformat": 4,
 "nbformat_minor": 2
}
