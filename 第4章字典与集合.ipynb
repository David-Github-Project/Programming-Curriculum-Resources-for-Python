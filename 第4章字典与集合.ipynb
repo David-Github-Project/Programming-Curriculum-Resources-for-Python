{
 "cells": [
  {
   "cell_type": "code",
   "execution_count": 1,
   "metadata": {},
   "outputs": [
    {
     "name": "stdout",
     "output_type": "stream",
     "text": [
      "请输出国家\n",
      "China France Japan \n",
      "请输出首都\n",
      "Beijing Paris Tokyo \n",
      "请输出国家和首都对\n",
      "('China', 'Beijing')\n",
      "('France', 'Paris')\n",
      "('Japan', 'Tokyo')\n",
      "请按格式输出国家和首都，如（China:Beijing）\n",
      "China:Beijing\n",
      "France:Paris\n",
      "Japan:Tokyo\n"
     ]
    }
   ],
   "source": [
    "#例4-1 国家与首都\n",
    "Capitals = {\"China\":\"Beijing\",\"France\":\"Paris\",\"Japan\":\"Tokyo\"}\n",
    "print(\"请输出国家\")\n",
    "for i in Capitals:    #也可以是  for i in Capitals.keys():\n",
    "\tprint(i,end = ' ')\n",
    "    \n",
    "print(\"\\n请输出首都\")\n",
    "for i in Capitals.values():\n",
    "\tprint(i,end = ' ')\n",
    "\n",
    "print(\"\\n请输出国家和首都对\")\n",
    "for i in Capitals.items():\n",
    "\tprint(i)\n",
    "\n",
    "print(\"请按格式输出国家和首都，如（China:Beijing）\")\n",
    "for i in Capitals:\n",
    "    print(i+\":\"+Capitals[i])"
   ]
  },
  {
   "cell_type": "code",
   "execution_count": 2,
   "metadata": {},
   "outputs": [
    {
     "name": "stdout",
     "output_type": "stream",
     "text": [
      "----2014年-2018年国内生产总值及其增长速度----\n",
      "年份        生产总值      比上年增长\n",
      "2014           64             7.3%\n",
      "2015           68             6.9%\n",
      "2016           74             6.7%\n",
      "2017           82             6.8%\n",
      "2018           90             6.6%\n"
     ]
    }
   ],
   "source": [
    "#例4-2 用字典表示2014年-2018年国内生产总值及其增长速度\n",
    "gdp = \\\n",
    "{2014:{\"product\":64.13,\"rate\":7.3},2015:{\"product\":68.60,\"rate\":6.9},2016: \\\n",
    "{\"product\":74.00,\"rate\":6.7},2017:{\"product\":82.07,\"rate\":6.8},2018:{\"product\":90.03,\"rate\":6.6}}\n",
    "year = 2014\n",
    "print(\"----2014年-2018年国内生产总值及其增长速度----\")\n",
    "print(\"%-10s%-10s%s\"%(\"年份\",\"生产总值\",\"比上年增长\"))\n",
    "for i in gdp:\n",
    "    print(\"%-15d%-15d%.1f%%\"%(year,gdp[year][\"product\"],gdp[year][\"rate\"]))\n",
    "    year += 1"
   ]
  },
  {
   "cell_type": "code",
   "execution_count": 3,
   "metadata": {},
   "outputs": [
    {
     "name": "stdout",
     "output_type": "stream",
     "text": [
      "最高的价格为： 5000\n",
      "最低的价格为： 2800\n",
      "----------手机列表---------------\n",
      "小米   value:   2800\n",
      "Vivo   value:   2999\n",
      "OPPO   value:   3200\n",
      "华为   value:   3600\n",
      "三星   value:   4300\n",
      "Apple   value:   5000\n",
      "---------------------------------\n",
      "请输入要查找的手机品牌：小米\n",
      "2800\n"
     ]
    }
   ],
   "source": [
    "#例4-3 手机品牌字典\n",
    "goods = {\"Apple\":4999,\"华为\":3600,\"Vivo\":2999,\"OPPO\":3200,\"三星\":4300} \n",
    "#(1) 修改Apple值为5000\n",
    "goods[\"Apple\"] = 5000\n",
    "\n",
    "#(2) 向字典新增一个“小米”手机，价格为2800\n",
    "goods.update({\"小米\":2800})   #或者goods.update(小米=2800) \n",
    "\n",
    "#(3)遍历字典，求出手机价格的最大值和最小值\n",
    "max1=0 \n",
    "min1=99999 \n",
    "\n",
    "for key in goods: \n",
    "    if goods[key]>max1: \n",
    "        max1=goods[key] \n",
    "    if goods[key]<min1: \n",
    "        min1=goods[key] \n",
    "print(\"最高的价格为：\" ,max1) \n",
    "print(\"最低的价格为：\" ,min1) \n",
    "\n",
    "#(4) 按手机价格从低到高输出列表\n",
    "phones = sorted(goods.items(),key = lambda good: good[1])\n",
    "print(\"----------手机列表---------------\")\n",
    "for i in phones:\n",
    "    print(i[0],\"value:\".center(10),i[1])\n",
    "print(\"---------------------------------\")\n",
    "\n",
    "#(5) 输入任一品牌的名称，显示其价格;\n",
    "name = input(\"请输入要查找的手机品牌：\")\n",
    "print(goods[name]) "
   ]
  },
  {
   "cell_type": "code",
   "execution_count": 4,
   "metadata": {},
   "outputs": [
    {
     "name": "stdout",
     "output_type": "stream",
     "text": [
      "keys:{'Tom', 'Jack', 'May'}\n",
      "values:{6166016, 6162381, 6167701}\n"
     ]
    }
   ],
   "source": [
    "#例4-4 字典转集合\n",
    "phone_book = {\"Tom\":6166016,\"Jack\":6167701,\"May\":6162381}\n",
    "key_set = set(phone_book.keys())\n",
    "value_set = set(phone_book.values())\n",
    "print(\"keys:{}\".format(key_set))\n",
    "print(\"values:{}\".format(value_set))"
   ]
  },
  {
   "cell_type": "code",
   "execution_count": 5,
   "metadata": {},
   "outputs": [
    {
     "name": "stdout",
     "output_type": "stream",
     "text": [
      "请输入一个福建省的地名：漳州\n",
      "漳州 is not in Fujian set, please insert it into the set.\n",
      "{'厦门', '漳州', '福州', '三明', '宁德', '南平', '龙岩', '泉州'}\n"
     ]
    }
   ],
   "source": [
    "#例4-5 创建福建省地名集合\n",
    "Fujian = {\"福州\",\"厦门\",\"泉州\",\"宁德\",\"三明\",\"南平\",\"龙岩\"}\n",
    "place = input(\"请输入一个福建省的地名：\")\n",
    "if place in Fujian:\n",
    "    print(\"%s is in Fujian.\"%(place))\n",
    "else:\n",
    "    print(\"%s is not in Fujian set, please insert it into the set.\"%(place))\n",
    "Fujian.add(place)\n",
    "print(Fujian)"
   ]
  },
  {
   "cell_type": "code",
   "execution_count": 6,
   "metadata": {},
   "outputs": [
    {
     "name": "stdout",
     "output_type": "stream",
     "text": [
      "请输入一个空气质量指数：51\n",
      "空气质量： 良\n",
      "预警等级： 黄色\n"
     ]
    }
   ],
   "source": [
    "# 字典与集合程序题-1\n",
    "AQI_dict = {(0,50 ):(\"优\",\"绿色\"),(51,100):(\"良\",\"黄色\"),(101,150):(\"轻度污染\",\"橙色\"),(151,200):(\"中度污染\",\"红色\"),(201,300):(\"重度污染\",\"紫色\")}\n",
    "aqi = int(input(\"请输入一个空气质量指数：\"))\n",
    "for i in AQI_dict.items():\n",
    "    if i[0][0]<= aqi <= i[0][1]:\n",
    "        print(\"空气质量：\",i[1][0])\n",
    "        print(\"预警等级：\",i[1][1])\n",
    "        break"
   ]
  },
  {
   "cell_type": "code",
   "execution_count": 7,
   "metadata": {},
   "outputs": [
    {
     "name": "stdout",
     "output_type": "stream",
     "text": [
      "请输入一个仅含26个字母的字符串：ablhjoakjlab\n",
      "字母出现的频率为：\n",
      "{'A': 3, 'B': 2, 'H': 1, 'J': 2, 'K': 1, 'L': 2, 'O': 1}\n"
     ]
    }
   ],
   "source": [
    "# 字典与集合程序题-2\n",
    "string = input(\"请输入一个仅含26个字母的字符串：\")\n",
    "count = [0]*26\n",
    "for i in string:\n",
    "    no = ord(i)\n",
    "    if no >= 97:\n",
    "        no = no - 32\n",
    "    count[no-65] += 1\n",
    "dict = {}\n",
    "for i in range(26):\n",
    "    if count[i] > 0:\n",
    "        elem = {chr(i+65):count[i]}\n",
    "        dict.update(elem)\n",
    "print(\"字母出现的频率为：\")\n",
    "print(dict)"
   ]
  },
  {
   "cell_type": "code",
   "execution_count": 8,
   "metadata": {},
   "outputs": [
    {
     "name": "stdout",
     "output_type": "stream",
     "text": [
      "Tom:['Robinson Crusoe', 'Peppa Pig']\n",
      "Jerry:['Little Price', 'The Old Man and the Sea']\n",
      "May:['Jane Eyre']\n",
      "请输入读者姓名:May\n",
      "请输入书名:Pride and Prejudice\n",
      "Tom:['Robinson Crusoe', 'Peppa Pig']\n",
      "Jerry:['Little Price', 'The Old Man and the Sea']\n",
      "May:['Jane Eyre', 'Pride and Prejudice']\n"
     ]
    }
   ],
   "source": [
    "# 字典与集合程序题-3\n",
    "favourite_book = {\"Tom\":[\"Robinson Crusoe\",\"Peppa Pig\"],\"Jerry\":[\"Little Price\",\"The Old Man and the Sea\"],\"May\":[\"Jane Eyre\"]}\n",
    "#(1)输出所有读者的名字及其喜欢的书\n",
    "for name in favourite_book.keys():\n",
    "    print(name+\":\"+str(favourite_book[name]))\n",
    "#(2)为读者添加书籍，并输出修改后的结果\n",
    "name = input(\"请输入读者姓名:\")\n",
    "book = input(\"请输入书名:\")\n",
    "favourite_book[name].append(book)\n",
    "for name in favourite_book.keys():\n",
    "    print(name+\":\"+str(favourite_book[name]))"
   ]
  },
  {
   "cell_type": "code",
   "execution_count": 9,
   "metadata": {},
   "outputs": [
    {
     "name": "stdout",
     "output_type": "stream",
     "text": [
      "第 1 名 学号： 1001  姓名：   Tom     成绩： 98\n",
      "第 2 名 学号： 1003  姓名：   Rose    成绩： 92\n",
      "第 3 名 学号： 1005  姓名：  Susan    成绩： 87\n",
      "第 4 名 学号： 1002  姓名：  Jerry    成绩： 85\n",
      "第 5 名 学号： 1004  姓名：   Jack    成绩： 80\n"
     ]
    }
   ],
   "source": [
    "# 字典与集合程序题-4\n",
    "scores = {1001:{\"name\":\"Tom\",\"score\":98},1002:{\"name\":\"Jerry\",\"score\":85},1003:{\"name\":\"Rose\",\"score\":92},1004:{\"name\":\"Jack\",\"score\":80},1005:{\"name\":\"Susan\",\"score\":87}}\n",
    "alist = sorted(scores.items(),key = lambda x:x[1][\"score\"],reverse = True)\n",
    "no = 1\n",
    "for i in alist:\n",
    "    print(\"第\",no,\"名 学号：\",i[0],\" 姓名：\",i[1][\"name\"].center(8),\" 成绩：\",i[1][\"score\"])\n",
    "    no=no+1"
   ]
  },
  {
   "cell_type": "code",
   "execution_count": 10,
   "metadata": {},
   "outputs": [
    {
     "name": "stdout",
     "output_type": "stream",
     "text": [
      "用户名：Jack\n",
      "密码：123\n",
      "用户名不存在！\n",
      "用户名：Tom\n",
      "密码：123\n",
      "密码错误！\n",
      "用户名：Tom\n",
      "密码：123abc\n",
      "登录成功！\n"
     ]
    }
   ],
   "source": [
    "# 字典与集合程序题-5\n",
    "login ={\"Tom\":\"123abc\",\"Jerry\":\"Je321\"}\n",
    "i=0\n",
    "while i < 3:\n",
    "    name = input(\"用户名：\")\n",
    "    password = input(\"密码：\")\n",
    "    if name in login:\n",
    "        if password == login[name]:\n",
    "            print(\"登录成功！\")\n",
    "            break\n",
    "        else:\n",
    "            print(\"密码错误！\")\n",
    "    else:\n",
    "        print(\"用户名不存在！\") \n",
    "    i = i+1\n",
    "else:\n",
    "    print(\"尝试登录超过三次，请稍后再试！\")"
   ]
  },
  {
   "cell_type": "code",
   "execution_count": 11,
   "metadata": {},
   "outputs": [
    {
     "name": "stdout",
     "output_type": "stream",
     "text": [
      "Tom:1\n",
      "Jack:2\n",
      "Jerry:2\n",
      "Alex:2\n",
      "Tom:2\n",
      "Jack:1\n",
      "None:0\n",
      "{'Tom': 3, 'Jack': 3, 'Jerry': 2, 'Alex': 2}\n",
      "The golden shoe award: ['Tom', 'Jack']\n"
     ]
    }
   ],
   "source": [
    "# 字典与集合程序题-6\n",
    "goal_list = {}\n",
    "while True:\n",
    "    item = input().split(\":\")     //输入每场球赛中进球球员及进球数，用:号隔开。以输入None:0结束\n",
    "    if item[0] == \"None\":\n",
    "        break\n",
    "    else:\n",
    "        if item[0] in goal_list:\n",
    "            goal_list[item[0]] += int(item[1])\n",
    "        else:\n",
    "            goal_list[item[0]] = int(item[1])\n",
    "print(goal_list)\n",
    "max_goal = max(goal_list.values())\n",
    "golden_shoe = []\n",
    "for i in goal_list.items():\n",
    "    if i[1]==max_goal:\n",
    "        golden_shoe.append(i[0])\n",
    "print(\"The golden shoe award:\",golden_shoe)"
   ]
  },
  {
   "cell_type": "code",
   "execution_count": 12,
   "metadata": {},
   "outputs": [
    {
     "name": "stdout",
     "output_type": "stream",
     "text": [
      "{2, 519, 523, 524, 535, 537, 545, 33, 552, 40, 42, 44, 557, 571, 65, 68, 608, 98, 611, 134, 646, 653, 151, 667, 158, 674, 178, 198, 710, 717, 719, 216, 733, 735, 737, 225, 748, 237, 751, 242, 244, 758, 248, 252, 269, 784, 273, 796, 287, 802, 299, 300, 825, 830, 325, 326, 327, 337, 340, 859, 878, 879, 884, 378, 381, 898, 907, 395, 396, 910, 397, 413, 415, 928, 424, 936, 937, 427, 431, 432, 953, 450, 963, 966, 969, 462, 977, 982, 486, 488, 496, 497, 498, 501, 503}\n"
     ]
    }
   ],
   "source": [
    "# 字典与集合程序题-7\n",
    "import random\n",
    "nums = set()\n",
    "for i in range(100):       \n",
    "    nums.add(random.randint(0,1000))  #在0~1000之间生产一个随机数添加到集合中\n",
    "print(nums)"
   ]
  },
  {
   "cell_type": "code",
   "execution_count": 13,
   "metadata": {},
   "outputs": [
    {
     "name": "stdout",
     "output_type": "stream",
     "text": [
      "{('刺桐苑', 309), ('凤凰苑', 301), ('紫荆苑', 103), ('刺桐苑', 305), ('凤凰苑', 201)}\n"
     ]
    }
   ],
   "source": [
    "# 字典与集合程序题-8\n",
    "dorms_set = set()\n",
    "dorms_list = [[\"张小西\",\"凤凰苑\",201],[\"顾小北\",\"凤凰苑\",301],[\"刘小东\",\"刺桐苑\",309],[\"吴小南\",\"紫荆苑\",103],[\"林小春\",\"刺桐苑\",309],[\"胡小夏\",\"紫荆苑\",103],[\"赖小秋\",\"刺桐苑\",305],[\"陈小冬\",\"凤凰苑\",201]]\n",
    "for i in dorms_list:\n",
    "      i.pop(0)                  #删除列表元素中的第一项\n",
    "      dorms_set.add(tuple(i))   #将删除后的列表转换为元组，然后加入集合中\n",
    "print(dorms_set)"
   ]
  },
  {
   "cell_type": "code",
   "execution_count": 14,
   "metadata": {},
   "outputs": [
    {
     "name": "stdout",
     "output_type": "stream",
     "text": [
      "两家包子店销售的相同食品是: {'馒头', '肉包'}\n",
      "第一家包子店特有的食品是: {'韭菜饼', '菜包', '花卷'}\n",
      "第二家包子店特有的食品是: {'葱油饼', '烧麦', '笋包'}\n",
      "顾客在两家包子店里可以买到的所有食品有: {'韭菜饼', '烧麦', '花卷', '笋包', '葱油饼', '馒头', '菜包', '肉包'}\n"
     ]
    }
   ],
   "source": [
    "# 字典与集合程序题-9\n",
    "shop1 = {\"肉包\",\"菜包\",\"馒头\",\"花卷\",\"韭菜饼\"}\n",
    "shop2 = {\"肉包\",\"笋包\",\"馒头\",\"烧麦\",\"葱油饼\"}\n",
    "set1 = shop1.intersection(shop2)\n",
    "set2 = shop1.difference(shop2)\n",
    "set3 = shop2.difference(shop1)\n",
    "set4 = shop1.union(shop2)\n",
    "print(\"两家包子店销售的相同食品是:\",set1)\n",
    "print(\"第一家包子店特有的食品是:\",set2)\n",
    "print(\"第二家包子店特有的食品是:\",set3)\n",
    "print(\"顾客在两家包子店里可以买到的所有食品有:\",set4)"
   ]
  },
  {
   "cell_type": "code",
   "execution_count": 15,
   "metadata": {},
   "outputs": [
    {
     "name": "stdout",
     "output_type": "stream",
     "text": [
      "请输入一位学生的姓名：张三\n",
      "张三 选修的课程： ['C语言', '哲学', '心理学']\n",
      "请输入一门课程名称：哲学\n",
      "选修该课程的学生：\n",
      "张三\n",
      "王五\n",
      "请输入两位同学的姓名：\n",
      "张三\n",
      "王五\n",
      "张三 与 王五 共同选修的课程： {'C语言', '哲学'}\n"
     ]
    }
   ],
   "source": [
    "# 字典与集合程序题-10\n",
    "selection = {\"张三\":[\"C语言\",\"哲学\",\"心理学\"],\"李四\":[\"古代汉语\",\"C语言\",\"人工智能\"],\"王五\":[\"古代汉语\",\"C语言\",\"哲学\"]}\n",
    "#(1)按输入的学生姓名输出其选课列表\n",
    "name = input(\"请输入一位学生的姓名：\")\n",
    "print(name,\"选修的课程：\",selection[name])\n",
    "#(2)按输入的课程输出选修该课的学生列表\n",
    "course = input(\"请输入一门课程名称：\")\n",
    "print(\"选修该课程的学生：\")\n",
    "for i in selection.items():\n",
    "    if course in i[1]:\n",
    "        print(i[0])\n",
    "#(3)输入两位同学，输出两者共同选修的课程\n",
    "print(\"请输入两位同学的姓名：\")\n",
    "name1 = input()\n",
    "name2 = input()\n",
    "set1 = {}\n",
    "set2 = {}\n",
    "for i in selection.items():\n",
    "    if i[0] == name1:\n",
    "        set1 = set(i[1])\n",
    "    if i[0] == name2:\n",
    "        set2 = set(i[1])\n",
    "set = set1.intersection(set2)\n",
    "print(name1,\"与\",name2,\"共同选修的课程：\",set)"
   ]
  },
  {
   "cell_type": "code",
   "execution_count": null,
   "metadata": {},
   "outputs": [],
   "source": []
  }
 ],
 "metadata": {
  "kernelspec": {
   "display_name": "Python 3",
   "language": "python",
   "name": "python3"
  },
  "language_info": {
   "codemirror_mode": {
    "name": "ipython",
    "version": 3
   },
   "file_extension": ".py",
   "mimetype": "text/x-python",
   "name": "python",
   "nbconvert_exporter": "python",
   "pygments_lexer": "ipython3",
   "version": "3.7.2"
  }
 },
 "nbformat": 4,
 "nbformat_minor": 2
}
