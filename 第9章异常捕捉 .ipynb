{
 "cells": [
  {
   "cell_type": "code",
   "execution_count": 1,
   "metadata": {},
   "outputs": [
    {
     "name": "stdout",
     "output_type": "stream",
     "text": [
      "1,2,3,"
     ]
    },
    {
     "ename": "IndexError",
     "evalue": "list index out of range",
     "output_type": "error",
     "traceback": [
      "\u001b[1;31m---------------------------------------------------------------------------\u001b[0m",
      "\u001b[1;31mIndexError\u001b[0m                                Traceback (most recent call last)",
      "\u001b[1;32m<ipython-input-1-42b4ec6c937e>\u001b[0m in \u001b[0;36m<module>\u001b[1;34m\u001b[0m\n\u001b[0;32m      1\u001b[0m \u001b[0ma\u001b[0m\u001b[1;33m=\u001b[0m\u001b[1;33m[\u001b[0m\u001b[1;36m1\u001b[0m\u001b[1;33m,\u001b[0m\u001b[1;36m2\u001b[0m\u001b[1;33m,\u001b[0m\u001b[1;36m3\u001b[0m\u001b[1;33m]\u001b[0m\u001b[1;33m\u001b[0m\u001b[1;33m\u001b[0m\u001b[0m\n\u001b[0;32m      2\u001b[0m \u001b[1;32mfor\u001b[0m \u001b[0mi\u001b[0m \u001b[1;32min\u001b[0m \u001b[0mrange\u001b[0m\u001b[1;33m(\u001b[0m\u001b[1;36m4\u001b[0m\u001b[1;33m)\u001b[0m\u001b[1;33m:\u001b[0m\u001b[1;33m\u001b[0m\u001b[1;33m\u001b[0m\u001b[0m\n\u001b[1;32m----> 3\u001b[1;33m     \u001b[0mprint\u001b[0m\u001b[1;33m(\u001b[0m\u001b[0ma\u001b[0m\u001b[1;33m[\u001b[0m\u001b[0mi\u001b[0m\u001b[1;33m]\u001b[0m\u001b[1;33m,\u001b[0m\u001b[0mend\u001b[0m\u001b[1;33m=\u001b[0m\u001b[1;34m\",\"\u001b[0m\u001b[1;33m)\u001b[0m\u001b[1;33m\u001b[0m\u001b[1;33m\u001b[0m\u001b[0m\n\u001b[0m",
      "\u001b[1;31mIndexError\u001b[0m: list index out of range"
     ]
    }
   ],
   "source": [
    "a=[1,2,3]\n",
    "for i in range(4):\n",
    "    print(a[i],end=\",\")\n"
   ]
  },
  {
   "cell_type": "code",
   "execution_count": 2,
   "metadata": {},
   "outputs": [
    {
     "name": "stdout",
     "output_type": "stream",
     "text": [
      "1,2,3,\n",
      "下标不能越界！\n"
     ]
    }
   ],
   "source": [
    "a=[1,2,3]\n",
    "for i in range(4):\n",
    "    try:\n",
    "        print(a[i],end=\",\")\n",
    "    except IndexError:\n",
    "        print(\"\\n下标不能越界！\")\n",
    "        break\n"
   ]
  },
  {
   "cell_type": "code",
   "execution_count": 3,
   "metadata": {},
   "outputs": [
    {
     "name": "stdout",
     "output_type": "stream",
     "text": [
      "请输入原始货币，退出请按Enter：$abc\n"
     ]
    },
    {
     "ename": "NameError",
     "evalue": "name 'abc' is not defined",
     "output_type": "error",
     "traceback": [
      "\u001b[1;31m---------------------------------------------------------------------------\u001b[0m",
      "\u001b[1;31mNameError\u001b[0m                                 Traceback (most recent call last)",
      "\u001b[1;32m<ipython-input-3-9f624320fe51>\u001b[0m in \u001b[0;36m<module>\u001b[1;34m\u001b[0m\n\u001b[0;32m      6\u001b[0m         \u001b[1;32mbreak\u001b[0m\u001b[1;33m\u001b[0m\u001b[1;33m\u001b[0m\u001b[0m\n\u001b[0;32m      7\u001b[0m     \u001b[1;32mif\u001b[0m \u001b[0mmoney\u001b[0m\u001b[1;33m[\u001b[0m\u001b[1;36m0\u001b[0m\u001b[1;33m]\u001b[0m \u001b[1;33m==\u001b[0m \u001b[1;34m'$'\u001b[0m\u001b[1;33m:\u001b[0m\u001b[1;33m\u001b[0m\u001b[1;33m\u001b[0m\u001b[0m\n\u001b[1;32m----> 8\u001b[1;33m         \u001b[0mvalue\u001b[0m\u001b[1;33m=\u001b[0m\u001b[0meval\u001b[0m\u001b[1;33m(\u001b[0m\u001b[0mmoney\u001b[0m\u001b[1;33m[\u001b[0m\u001b[1;36m1\u001b[0m\u001b[1;33m:\u001b[0m\u001b[1;33m]\u001b[0m\u001b[1;33m)\u001b[0m\u001b[1;33m*\u001b[0m\u001b[0mExchangeRate\u001b[0m\u001b[1;33m\u001b[0m\u001b[1;33m\u001b[0m\u001b[0m\n\u001b[0m\u001b[0;32m      9\u001b[0m         \u001b[0mprint\u001b[0m\u001b[1;33m(\u001b[0m\u001b[1;34m\"转换后是：￥{:<.2f}\"\u001b[0m\u001b[1;33m.\u001b[0m\u001b[0mformat\u001b[0m\u001b[1;33m(\u001b[0m\u001b[0mvalue\u001b[0m\u001b[1;33m)\u001b[0m\u001b[1;33m)\u001b[0m\u001b[1;33m\u001b[0m\u001b[1;33m\u001b[0m\u001b[0m\n\u001b[0;32m     10\u001b[0m     \u001b[1;32melif\u001b[0m \u001b[0mmoney\u001b[0m\u001b[1;33m[\u001b[0m\u001b[1;36m0\u001b[0m\u001b[1;33m]\u001b[0m\u001b[1;33m==\u001b[0m\u001b[1;34m'￥'\u001b[0m\u001b[1;33m:\u001b[0m\u001b[1;33m\u001b[0m\u001b[1;33m\u001b[0m\u001b[0m\n",
      "\u001b[1;32m<string>\u001b[0m in \u001b[0;36m<module>\u001b[1;34m\u001b[0m\n",
      "\u001b[1;31mNameError\u001b[0m: name 'abc' is not defined"
     ]
    }
   ],
   "source": [
    "#计算美元和人民币的相互兑换改进程序\n",
    "ExchangeRate=6.67\n",
    "while True:                                  \n",
    "    money=input(\"请输入原始货币，退出请按Enter：\")    #输入兑换钱币\n",
    "    if money==\"\":                                     #直接输入回车则退出程序\n",
    "        break\n",
    "    if money[0] == '$':\n",
    "        value=eval(money[1:])*ExchangeRate\n",
    "        print(\"转换后是：￥{:<.2f}\".format(value))\n",
    "    elif money[0]=='￥':\n",
    "        value=eval(money[1:])/ExchangeRate\n",
    "        print(\"转换后是：${:<.2f}\".format(value))\n",
    "    else:\n",
    "        print(\"输入格式错误,请重新输入!\")\n"
   ]
  },
  {
   "cell_type": "code",
   "execution_count": 6,
   "metadata": {},
   "outputs": [
    {
     "name": "stdout",
     "output_type": "stream",
     "text": [
      "请输入原始货币，退出请按Enter：$abc\n",
      "变量名不存在！\n",
      "请输入原始货币，退出请按Enter：$12a\n",
      "语法有错误！\n",
      "请输入原始货币，退出请按Enter：￥{}\n",
      "类型错误！\n",
      "请输入原始货币，退出请按Enter：\n"
     ]
    }
   ],
   "source": [
    "#带有异常处理机制的美元与人民币的兑换程序1\n",
    "ExchangeRate=6.67\n",
    "while True:                                  \n",
    "    try:\n",
    "        money=input(\"请输入原始货币，退出请按Enter：\")    #输入欲兑换的钱币\n",
    "        if money==\"\":                                   #直接输入回车则退出程序\n",
    "            break\n",
    "        if money[0] == '$':\n",
    "            value=eval(money[1:])*ExchangeRate\n",
    "            print(\"转换后是：￥{:<.2f}\".format(value))\n",
    "        elif money[0]=='￥':\n",
    "            value=eval(money[1:])/ExchangeRate\n",
    "            print(\"转换后是：${:<.2f}\".format(value))\n",
    "        else:\n",
    "            print(\"输入格式错误,请重新输入!\")\n",
    "    except NameError:\n",
    "        print(\"变量名不存在！\")\n",
    "    except SyntaxError:\n",
    "        print(\"语法有错误！\")\n",
    "    except TypeError:\n",
    "        print(\"类型错误！\")\n"
   ]
  },
  {
   "cell_type": "code",
   "execution_count": 7,
   "metadata": {},
   "outputs": [
    {
     "name": "stdout",
     "output_type": "stream",
     "text": [
      "请输入原始货币，退出请按Enter：$abc\n",
      "正确的输入数据格式为：￥+数字串，或$+数字串\n",
      "请输入原始货币，退出请按Enter：$12a\n",
      "正确的输入数据格式为：￥+数字串，或$+数字串\n",
      "请输入原始货币，退出请按Enter：￥{}\n",
      "正确的输入数据格式为：￥+数字串，或$+数字串\n",
      "请输入原始货币，退出请按Enter：$120\n",
      "转换后是：￥800.40\n",
      "请输入原始货币，退出请按Enter：\n"
     ]
    }
   ],
   "source": [
    "#带有异常处理机制的美元与人民币的兑换程序2\n",
    "ExchangeRate=6.67\n",
    "while True:                                  \n",
    "    try:\n",
    "        money=input(\"请输入原始货币，退出请按Enter：\")    #输入欲兑换的钱币\n",
    "        if money==\"\":                                   #直接输入回车则退出程序\n",
    "            break\n",
    "        if money[0] == '$':\n",
    "            value=eval(money[1:])*ExchangeRate\n",
    "            print(\"转换后是：￥{:<.2f}\".format(value))\n",
    "        elif money[0]=='￥':\n",
    "            value=eval(money[1:])/ExchangeRate\n",
    "            print(\"转换后是：${:<.2f}\".format(value))\n",
    "        else:\n",
    "            print(\"输入格式错误,请重新输入!\")\n",
    "    except  (NameError,SyntaxError,TypeError):      # 3种异常类型共享同一段异常处理程序\n",
    "        print(\"正确的输入数据格式为：￥+数字串，或$+数字串\")\n"
   ]
  },
  {
   "cell_type": "code",
   "execution_count": 8,
   "metadata": {},
   "outputs": [
    {
     "name": "stdout",
     "output_type": "stream",
     "text": [
      "请输入原始货币，退出请按Enter：$abc\n",
      "正确的输入数据格式为：￥+数字串，或$+数字串\n",
      "请输入原始货币，退出请按Enter：\n"
     ]
    }
   ],
   "source": [
    "#带有异常处理机制的美元与人民币的兑换程序3\n",
    "ExchangeRate=6.67\n",
    "while True:                                  \n",
    "    try:\n",
    "        money=input(\"请输入原始货币，退出请按Enter：\")    #输入欲兑换的钱币\n",
    "        if money==\"\":                                  #直接输入回车则退出程序\n",
    "            break\n",
    "        if money[0] == '$':\n",
    "            value=eval(money[1:])*ExchangeRate\n",
    "            print(\"转换后是：￥{:<.2f}\".format(value))\n",
    "        elif money[0]=='￥':\n",
    "            value=eval(money[1:])/ExchangeRate\n",
    "            print(\"转换后是：${:<.2f}\".format(value))\n",
    "        else:\n",
    "            print(\"输入格式错误,请重新输入!\")\n",
    "    except :                                      #处理所有的异常类型\n",
    "        print(\"正确的输入数据格式为：￥+数字串，或$+数字串\")\n"
   ]
  },
  {
   "cell_type": "code",
   "execution_count": 9,
   "metadata": {},
   "outputs": [
    {
     "name": "stdout",
     "output_type": "stream",
     "text": [
      "could not convert string to float: 'hi'\n",
      "could not convert string to float: \n",
      "9.6\n",
      "123.0\n",
      "float() argument must be a string or a number, not 'NoneType'\n",
      "1.0\n",
      "16.0\n",
      "3.6\n",
      "can't convert complex to float\n",
      "float() argument must be a string or a number, not 'tuple'\n",
      "float() argument must be a string or a number, not 'list'\n",
      "float() argument must be a string or a number, not 'set'\n",
      "float() argument must be a string or a number, not 'dict'\n"
     ]
    }
   ],
   "source": [
    "def ChangeToFloat(arg):\n",
    "    try:\n",
    "        a=float(arg)\n",
    "    except (ValueError,TypeError) as e:  #保存系统内置的异常提示信息到变量e中\n",
    "        print(e)                         #输出系统内置异常提示信息      \n",
    "    else:\n",
    "        print(a)                         #没有发生异常，输出转换结果\n",
    "\n",
    "for arg in [\"hi\",\"\",\"9.6\",\"123\",None,True,16,3.6,3+4j,\\\n",
    "            (1,2,3),[10,20],{\"a\",\"A\"},{\"a\":97,\"b\":98}]:\n",
    "    ChangeToFloat(arg)        \n"
   ]
  },
  {
   "cell_type": "code",
   "execution_count": 10,
   "metadata": {},
   "outputs": [
    {
     "name": "stdout",
     "output_type": "stream",
     "text": [
      "10+16=26.00\n",
      "函数运行完毕！\n",
      "6-(8+9j)=-2.00-9.00j\n",
      "函数运行完毕！\n",
      "计算发生了异常！\n",
      "函数运行完毕！\n",
      "计算发生了异常！\n",
      "函数运行完毕！\n",
      "计算发生了异常！\n",
      "函数运行完毕！\n",
      "计算发生了异常！\n",
      "函数运行完毕！\n",
      "计算发生了异常！\n",
      "函数运行完毕！\n",
      "运算符错误！\n",
      "函数运行完毕！\n"
     ]
    }
   ],
   "source": [
    "# 简易计算器函数\n",
    "def cal(*args):                   #收集参数\n",
    "    try:\n",
    "        x,c,y=args                #序列解包\n",
    "        if c not in {\"+\",\"-\",\"*\",\"/\",\"//\",\"%\",\"**\"}:\n",
    "            print(\"运算符错误！\")\n",
    "            return\n",
    "        result=eval(str(x)+c+str(y))\n",
    "    except:\n",
    "        print(\"计算发生了异常！\")\n",
    "    else:\n",
    "        print(\"{}{}{}={:.2f}\".format(x,c,y,result))\n",
    "    finally:\n",
    "        print(\"函数运行完毕！\")\n",
    "cal(10,\"+\",16)\n",
    "cal(6,\"-\",8+9j)\n",
    "cal(\"10a\",'*',2)                #引发异常\n",
    "cal(10.8,'/',0)                 #引发异常\n",
    "cal(25,\"+\")                     #引发异常\n",
    "cal(10)                         #引发异常\n",
    "cal(10,2,3,4)                   #引发异常\n",
    "cal(10,\"#\",2)                   #运算符错误\n"
   ]
  },
  {
   "cell_type": "code",
   "execution_count": null,
   "metadata": {},
   "outputs": [],
   "source": []
  }
 ],
 "metadata": {
  "kernelspec": {
   "display_name": "Python 3",
   "language": "python",
   "name": "python3"
  },
  "language_info": {
   "codemirror_mode": {
    "name": "ipython",
    "version": 3
   },
   "file_extension": ".py",
   "mimetype": "text/x-python",
   "name": "python",
   "nbconvert_exporter": "python",
   "pygments_lexer": "ipython3",
   "version": "3.7.1"
  }
 },
 "nbformat": 4,
 "nbformat_minor": 2
}
