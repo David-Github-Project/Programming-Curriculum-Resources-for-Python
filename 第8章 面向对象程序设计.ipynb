{
 "cells": [
  {
   "cell_type": "code",
   "execution_count": 2,
   "metadata": {},
   "outputs": [
    {
     "name": "stdout",
     "output_type": "stream",
     "text": [
      "red\n",
      "The apple color is red!\n"
     ]
    }
   ],
   "source": [
    "#例8-1创建python的类\n",
    "class Apple:                     #创建Apple类\n",
    "    color='red'                  #类的属性\n",
    "    def printColor():            #类的方法\n",
    "        print(\"The apple color is red!\")\n",
    "print(Apple.color)               #直接利用类对象调用类中属性\n",
    "Apple.printColor()               #直接利用类对象调用类中的方法，注意当方法有参数时，需要通过传递参数来调用\n"
   ]
  },
  {
   "cell_type": "code",
   "execution_count": 5,
   "metadata": {},
   "outputs": [
    {
     "name": "stdout",
     "output_type": "stream",
     "text": [
      "ZhangSan当前医保卡所剩余额为：100.0\n",
      "ZhangSan消费后医保卡所剩余额为:50.0\n"
     ]
    }
   ],
   "source": [
    "#例8-2创建Healthcare类及实例化对象\n",
    "class Healthcare:             #创建医疗保健类\n",
    "    name=\"Unknown\"            #投保人姓名属性，属于类属性，可以通过类名或对象名访问，下同\n",
    "    residual=100.0               #医疗保健余额属性\n",
    "    def printResidual(self):     #定义显示余额的方法\n",
    "        print (\"{}当前医保卡所剩余额为：{}\".format(self.name,self.residual))\n",
    "    def insure(self,money):      #定义投保的方法\n",
    "        self.residual+=money\n",
    "        print (\"{}参保后医保卡所剩余额为:{}\".format(self.name,self.residual))\n",
    "    def expense(self,money):     #定义用于消费的方法\n",
    "        self.residual-=money\n",
    "        print (\"{}消费后医保卡所剩余额为:{}\".format(self.name,self.residual))\n",
    "objectone=Healthcare()        #创建一个objectone的实例对象\n",
    "objectone.name=\"ZhangSan\"     #用实例对象objectone访问属性name\n",
    "objectone.printResidual()     #访问printResidual方法\n",
    "objectone.expense(50)         #访问expense方法\n"
   ]
  },
  {
   "cell_type": "code",
   "execution_count": 8,
   "metadata": {},
   "outputs": [
    {
     "name": "stdout",
     "output_type": "stream",
     "text": [
      "LiSi当前医保卡所剩余额为：500.0\n",
      "LiSi参保后医保卡所剩余额为:550.0\n"
     ]
    }
   ],
   "source": [
    "#例8-3创建类中的构造函数\n",
    "class Healthcare:\n",
    "    def __init__(self,personname,personresidual):  #定义构造函数\n",
    "        self.name=personname   #name属于实例对象属性，不能用类名来访问，下同\n",
    "        self.residual=personresidual\n",
    "    def printResidual(self):     #定义显示余额的方法\n",
    "        print (\"{}当前医保卡所剩余额为：{}\".format(self.name,self.residual))\n",
    "    def insure(self,money):      #定义投保的方法\n",
    "        self.residual+=money\n",
    "        print (\"{}参保后医保卡所剩余额为:{}\".format(self.name,self.residual))\n",
    "    def expense(self,money):     #定义用于消费的方法\n",
    "        self.residual-=money\n",
    "        print (\"{}消费后医保卡所剩余额为:{}\".format(self.name,self.residual))\n",
    "objectone=Healthcare(\"LiSi\",500.0)  #创建一个实例对象，需传递构造函数的参数\n",
    "objectone.printResidual()     #访问printResidual方法\n",
    "objectone.insure(50)          #访问insure方法\n",
    "\n"
   ]
  },
  {
   "cell_type": "code",
   "execution_count": 6,
   "metadata": {},
   "outputs": [
    {
     "name": "stdout",
     "output_type": "stream",
     "text": [
      "LiSi当前医保卡所剩余额为：500.0\n",
      "LiSi参保后医保卡所剩余额为:550.0\n",
      "LiSi用户当前医保卡已被删除！\n"
     ]
    }
   ],
   "source": [
    "#例8-5创建类中的析构函数\n",
    "class Healthcare:\n",
    "    def __init__(self,personname,personresidual):\n",
    "        self.name=personname\n",
    "        self.residual=personresidual\n",
    "    def __del__(self):                 #定义析构函数\n",
    "        print(\"{}用户当前医保卡已被删除！\".format(self.name))\n",
    "    def printResidual(self): \n",
    "        print (\"{}当前医保卡所剩余额为：{}\".format(self.name,self.residual))\n",
    "    def insure(self,money):  \n",
    "        self.residual+=money\n",
    "        print (\"{}参保后医保卡所剩余额为:{}\".format(self.name,self.residual))\n",
    "    def expense(self,money):\n",
    "        self.residual-=money\n",
    "        print (\"{}消费后医保卡所剩余额为:{}\".format(self.name,self.residual))\n",
    "objectone=Healthcare(\"LiSi\",500.0)    #创建一个objectone的实例对象\n",
    "objectone.printResidual()             #访问printResidual方法\n",
    "objectone.insure(50)                  #访问insure方法\n",
    "del objectone                         #删除objectone对象，自动调用析构函数\n",
    "\n"
   ]
  },
  {
   "cell_type": "code",
   "execution_count": 3,
   "metadata": {},
   "outputs": [
    {
     "name": "stdout",
     "output_type": "stream",
     "text": [
      "Unknown\n",
      "Unknown\n",
      "ZhangSan\n",
      "ZhangSan\n",
      "LiSi\n",
      "ZhangSan\n"
     ]
    }
   ],
   "source": [
    "#例8-7类属性实例\n",
    "class Healthcare:             \n",
    "    name=\"Unknown\"               #类属性，公有属性，默认值为“Unknown”\n",
    "    residual=100.0             \n",
    "    def printResidual(self):     #定义显示余额的方法\n",
    "        print (\"{}当前医保卡所剩余额为：{}\".format(self.name,self.residual))\n",
    "    def insure(self,money):      #定义投保的方法\n",
    "        self.residual+=money\n",
    "        print (\"{}参保后医保卡所剩余额为:{}\".format(self.name,self.residual))\n",
    "    def expense(self,money):     #定义用于消费的方法\n",
    "        self.residual-=money\n",
    "        print (\"{}消费后医保卡所剩余额为:{}\".format(self.name,self.residual))\n",
    "objectone=Healthcare()        #创建一个实例对象\n",
    "print(objectone.name)         #用实例对象来访问类属性\n",
    "print(Healthcare.name)        #用类对象来访问类属性\n",
    "Healthcare.name=\"ZhangSan\"    #利用类对象对类属性name进行修改\n",
    "print(objectone.name)\n",
    "print(Healthcare.name)\n",
    "objectone.name=\"LiSi\"       #用实例对象对类属性name进行修改\n",
    "print(objectone.name)\n",
    "print(Healthcare.name)\n",
    "    "
   ]
  },
  {
   "cell_type": "code",
   "execution_count": 8,
   "metadata": {},
   "outputs": [
    {
     "name": "stdout",
     "output_type": "stream",
     "text": [
      "LiSi\n"
     ]
    },
    {
     "ename": "AttributeError",
     "evalue": "type object 'Healthcare' has no attribute 'name'",
     "output_type": "error",
     "traceback": [
      "\u001b[1;31m---------------------------------------------------------------------------\u001b[0m",
      "\u001b[1;31mAttributeError\u001b[0m                            Traceback (most recent call last)",
      "\u001b[1;32m<ipython-input-8-d3e3fdc14ee9>\u001b[0m in \u001b[0;36m<module>\u001b[1;34m()\u001b[0m\n\u001b[0;32m     17\u001b[0m \u001b[0mobjectone\u001b[0m\u001b[1;33m=\u001b[0m\u001b[0mHealthcare\u001b[0m\u001b[1;33m(\u001b[0m\u001b[1;34m\"LiSi\"\u001b[0m\u001b[1;33m,\u001b[0m\u001b[1;36m500.0\u001b[0m\u001b[1;33m)\u001b[0m   \u001b[1;31m#创建实例对象\u001b[0m\u001b[1;33m\u001b[0m\u001b[1;33m\u001b[0m\u001b[0m\n\u001b[0;32m     18\u001b[0m \u001b[0mprint\u001b[0m\u001b[1;33m(\u001b[0m\u001b[0mobjectone\u001b[0m\u001b[1;33m.\u001b[0m\u001b[0mname\u001b[0m\u001b[1;33m)\u001b[0m   \u001b[1;31m#用实例对象来访问实例属性\u001b[0m\u001b[1;33m\u001b[0m\u001b[1;33m\u001b[0m\u001b[0m\n\u001b[1;32m---> 19\u001b[1;33m \u001b[0mprint\u001b[0m\u001b[1;33m(\u001b[0m\u001b[0mHealthcare\u001b[0m\u001b[1;33m.\u001b[0m\u001b[0mname\u001b[0m\u001b[1;33m)\u001b[0m  \u001b[1;31m#用类对象来访问实例属性，是错误\u001b[0m\u001b[1;33m\u001b[0m\u001b[1;33m\u001b[0m\u001b[0m\n\u001b[0m",
      "\u001b[1;31mAttributeError\u001b[0m: type object 'Healthcare' has no attribute 'name'"
     ]
    }
   ],
   "source": [
    "#例8-8实例属性访问\n",
    "class Healthcare:\n",
    "    def __init__(self,personname,personresidual):\n",
    "        self.name=personname\n",
    "        self.residual=personresidual\n",
    "    def __del__(self):                 #定义析构函数\n",
    "        print(\"{}用户当前医保卡已被删除！\".format(self.name))\n",
    "    def printResidual(self): \n",
    "        print (\"{}当前医保卡所剩余额为：{}\".format(self.name,self.residual))\n",
    "    def insure(self,money):  \n",
    "        self.residual+=money\n",
    "        print (\"{}参保后医保卡所剩余额为:{}\".format(self.name,self.residual))\n",
    "    def expense(self,money):\n",
    "        self.residual-=money\n",
    "        print (\"{}消费后医保卡所剩余额为:{}\".format(self.name,self.residual))\n",
    "                   \n",
    "objectone=Healthcare(\"LiSi\",500.0)   #创建实例对象\n",
    "print(objectone.name)   #用实例对象来访问实例属性\n",
    "print(Healthcare.name)  #用类对象来访问实例属性，是错误\n"
   ]
  },
  {
   "cell_type": "code",
   "execution_count": 10,
   "metadata": {},
   "outputs": [
    {
     "name": "stdout",
     "output_type": "stream",
     "text": [
      "ZHANG SAN用户当前医保卡已被删除！\n",
      "ZHANG SAN的单位名称为：中国人保\n",
      "LISI家庭地址为:福建省***县***村***号\n"
     ]
    }
   ],
   "source": [
    "#例8-9子类创建\n",
    "class Healthcare:\n",
    "    def __init__(self,personname,personresidual):\n",
    "        self.name=personname\n",
    "        self.residual=personresidual\n",
    "    def printResidual(self): \n",
    "        print (\"{}当前医保卡所剩余额为：{}\".format(self.name,self.residual))\n",
    "    def insure(self,money):  \n",
    "        self.residual+=money\n",
    "        print (\"{}参保后医保卡所剩余额为:{}\".format(self.name,self.residual))\n",
    "    def expense(self,money):\n",
    "        self.residual-=money\n",
    "        print (\"{}消费后医保卡所剩余额为:{}\".format(self.name,self.residual))\n",
    "class  URBMI(Healthcare):     #定义子类城镇医保\n",
    "    def __init__(self,personname,personresidual,company_name):  #给出父类和子类的参数\n",
    "        Healthcare.__init__(self,personname,personresidual)    #调用父类构造函数\n",
    "        self.company_name=company_name     #单位名称\n",
    "    def showcompany(self):\n",
    "        print(\"{}的单位名称为：{}\".format(self.name,self.company_name))\n",
    "class RMTI(Healthcare):              #定义子类农村医保\n",
    "    def __init__(self,personname,personresidual,family_address): \n",
    "        Healthcare.__init__(self,personname,personresidual)\n",
    "        self.family_address=family_address   #家庭地址\n",
    "    def showfamily(self):\n",
    "        print(\"{}家庭地址为:{}\".format(self.name,self.family_address))\n",
    "obj1=URBMI(\"ZHANG SAN\",500,\"中国人保\")\n",
    "obj2=RMTI(\"LISI\",600,\"福建省***县***村***号\")\n",
    "obj1.showcompany()\n",
    "obj2=obj2.showfamily()\n"
   ]
  },
  {
   "cell_type": "code",
   "execution_count": 12,
   "metadata": {},
   "outputs": [
    {
     "name": "stdout",
     "output_type": "stream",
     "text": [
      "欢迎咨询医疗保险，祝您健康！\n",
      "欢迎查看国家统计局网址：http://www.stats.gov.cn\n"
     ]
    },
    {
     "ename": "AttributeError",
     "evalue": "'URBMI' object has no attribute '__printResidual'",
     "output_type": "error",
     "traceback": [
      "\u001b[1;31m---------------------------------------------------------------------------\u001b[0m",
      "\u001b[1;31mAttributeError\u001b[0m                            Traceback (most recent call last)",
      "\u001b[1;32m<ipython-input-12-271d5773d95b>\u001b[0m in \u001b[0;36m<module>\u001b[1;34m()\u001b[0m\n\u001b[0;32m     22\u001b[0m \u001b[0mHealthcare\u001b[0m\u001b[1;33m.\u001b[0m\u001b[0mwelcome\u001b[0m\u001b[1;33m(\u001b[0m\u001b[1;33m)\u001b[0m              \u001b[1;31m#利用类对象调用类方法\u001b[0m\u001b[1;33m\u001b[0m\u001b[1;33m\u001b[0m\u001b[0m\n\u001b[0;32m     23\u001b[0m \u001b[0mobj1\u001b[0m\u001b[1;33m.\u001b[0m\u001b[0mslogon\u001b[0m\u001b[1;33m(\u001b[0m\u001b[1;33m)\u001b[0m                           \u001b[1;31m#利用子类实例对象调用静态方法\u001b[0m\u001b[1;33m\u001b[0m\u001b[1;33m\u001b[0m\u001b[0m\n\u001b[1;32m---> 24\u001b[1;33m \u001b[0mobj1\u001b[0m\u001b[1;33m.\u001b[0m\u001b[0m__printResidual\u001b[0m\u001b[1;33m(\u001b[0m\u001b[1;33m)\u001b[0m              \u001b[1;31m#利用子类实例对象调用类中的私有方法，但不能调用，报错\u001b[0m\u001b[1;33m\u001b[0m\u001b[1;33m\u001b[0m\u001b[0m\n\u001b[0m\u001b[0;32m     25\u001b[0m \u001b[0mHealthcare\u001b[0m\u001b[1;33m.\u001b[0m\u001b[0m__printResidual\u001b[0m\u001b[1;33m(\u001b[0m\u001b[1;33m)\u001b[0m  \u001b[1;31m#利用类对象调用私有方法，报错\u001b[0m\u001b[1;33m\u001b[0m\u001b[1;33m\u001b[0m\u001b[0m\n",
      "\u001b[1;31mAttributeError\u001b[0m: 'URBMI' object has no attribute '__printResidual'"
     ]
    }
   ],
   "source": [
    "#例8-10几种常用方法实例\n",
    "class Healthcare: \n",
    "    def __init__(self,personname,personresidual):  #定义构造函数\n",
    "        self.name=personname \n",
    "        self.residual=personresidual \n",
    "    def __printResidual(self):         #定义私有方法\n",
    "        print (\"{}当前医保卡所剩余额为：{}\".format(self.name,self.residual))\n",
    "    @classmethod\n",
    "    def welcome(cls):                  #定义类方法\n",
    "        print(\"欢迎咨询医疗保险，祝您健康！\")\n",
    "    @staticmethod\n",
    "    def slogon():                        #定义静态方法\n",
    "        print(\"欢迎查看国家统计局网址：http://www.stats.gov.cn\")\n",
    "\n",
    "class  URBMI(Healthcare):     #定义子类\n",
    "    def __init__(self,personname,personresidual,company_name):\n",
    "        Healthcare.__init__(self,personname,personresidual)\n",
    "        self.company_name=company_name\n",
    "    def showcompany(self):\n",
    "        print(\"{}的单位名称为：{}\".format(self.name,self.company_name))\n",
    "obj1=URBMI(\"ZHANG SAN\",500,\"中国人保\")   \n",
    "Healthcare.welcome()              #利用类对象调用类方法\n",
    "obj1.slogon()                           #利用子类实例对象调用静态方法\n",
    "obj1.__printResidual()              #利用子类实例对象调用类中的私有方法，但不能调用，报错\n",
    "Healthcare.__printResidual()  #利用类对象调用私有方法，报错\n"
   ]
  },
  {
   "cell_type": "code",
   "execution_count": null,
   "metadata": {},
   "outputs": [],
   "source": []
  }
 ],
 "metadata": {
  "kernelspec": {
   "display_name": "Python 3",
   "language": "python",
   "name": "python3"
  },
  "language_info": {
   "codemirror_mode": {
    "name": "ipython",
    "version": 3
   },
   "file_extension": ".py",
   "mimetype": "text/x-python",
   "name": "python",
   "nbconvert_exporter": "python",
   "pygments_lexer": "ipython3",
   "version": "3.6.8"
  }
 },
 "nbformat": 4,
 "nbformat_minor": 2
}
