{
 "cells": [
  {
   "cell_type": "code",
   "execution_count": 1,
   "metadata": {},
   "outputs": [
    {
     "name": "stdout",
     "output_type": "stream",
     "text": [
      "I love python!\n"
     ]
    }
   ],
   "source": [
    "#【例6-1】定义函数printme，功能：传入字符串并打印\n",
    "def printme( str ):\n",
    "   \"打印传入的字符串到标准显示设备上\"\n",
    "   print(str)\n",
    "printme(\"I love python!\")  #输出:  I love python! "
   ]
  },
  {
   "cell_type": "code",
   "execution_count": 2,
   "metadata": {},
   "outputs": [
    {
     "name": "stdout",
     "output_type": "stream",
     "text": [
      "男\n"
     ]
    }
   ],
   "source": [
    "#【例6-2】定义函数sex，功能：通过身份证号码查看性别，返回值：性别\n",
    "def sex(str1): #str1为身份证号码\n",
    "    if int(str1[-2])%2==0:\n",
    "        return '女'\n",
    "    else:\n",
    "        return '男'\n",
    "print(sex('350000198812120012'))   #输出: 男"
   ]
  },
  {
   "cell_type": "code",
   "execution_count": 3,
   "metadata": {},
   "outputs": [
    {
     "name": "stdout",
     "output_type": "stream",
     "text": [
      "身份证号码,性别： ('350000198812120012', '男')\n",
      "<class 'tuple'>\n",
      "身份证号码： 350000198812120012 性别： 男\n"
     ]
    }
   ],
   "source": [
    "#【例6-3】定义函数sex1，通过身份证号码查看性别并返回多个值，返回值：身份证号码，性别\n",
    "def sex1(str1):\n",
    "    if int(str1[-2])%2==0:\n",
    "        return str1,'女'\n",
    "    else:\n",
    "        return str1,'男'\n",
    "n1=sex1('350000198812120012')\n",
    "print(\"身份证号码,性别：\",n1)\n",
    "print(type(n1))\n",
    "n2,n2sex=sex1('350000198812120012')   #用相应个数的变量来接收多个返回值\n",
    "print('身份证号码：',n2,'性别：',n2sex)"
   ]
  },
  {
   "cell_type": "code",
   "execution_count": 4,
   "metadata": {},
   "outputs": [
    {
     "name": "stdout",
     "output_type": "stream",
     "text": [
      "[('孔明', 12), ('曹操', 31), ('刘备', 40)]\n",
      "[('刘备', 40), ('曹操', 31), ('孔明', 12)]\n"
     ]
    }
   ],
   "source": [
    "#【例6-4】定义匿名函数，并在排序中作为数据调用\n",
    "a = [(\"曹操\", 31), (\"孔明\", 12), (\"刘备\", 40)]\n",
    "a.sort(key=lambda x: x[1])\n",
    "print(a)\n",
    "a.sort(key=lambda x: x[1],reverse=True)\n",
    "print(a)"
   ]
  },
  {
   "cell_type": "code",
   "execution_count": 5,
   "metadata": {},
   "outputs": [
    {
     "name": "stdout",
     "output_type": "stream",
     "text": [
      "访客前篮子里的东西是:  ['苹果', '梨']\n",
      "客人拿到的篮子里的东西是:  ['苹果', '梨']\n",
      "客人改变了篮子里的东西:  ['香蕉']\n",
      "访客后篮子里的东西是:  ['苹果', '梨']\n"
     ]
    }
   ],
   "source": [
    "#【例6-5】值传递\n",
    "def visit_1(b):\n",
    "    print(\"客人拿到的篮子里的东西是: \",b)\n",
    "    b = ['香蕉']\n",
    "    print(\"客人改变了篮子里的东西: \",b)\n",
    "\n",
    "a= ['苹果','梨'];\n",
    "print(\"访客前篮子里的东西是: \",a)\n",
    "visit_1(a);                           #调用visit_1函数\n",
    "print(\"访客后篮子里的东西是: \", a)"
   ]
  },
  {
   "cell_type": "code",
   "execution_count": 6,
   "metadata": {},
   "outputs": [
    {
     "name": "stdout",
     "output_type": "stream",
     "text": [
      "访客前篮子里的东西是:  ['苹果', '梨']\n",
      "客人拿到的篮子里的东西是:  ['苹果', '梨']\n",
      "客人改变了篮子里的东西:  ['苹果', '梨', ['鲜花', '牛奶']]\n",
      "访客后篮子里的东西是:  ['苹果', '梨', ['鲜花', '牛奶']]\n"
     ]
    }
   ],
   "source": [
    "#【例6-6】引用传递\n",
    "def visit(b):\n",
    "   print(\"客人拿到的篮子里的东西是: \",b)\n",
    "   b.append(['鲜花','牛奶']); \n",
    "   print(\"客人改变了篮子里的东西: \",b)\n",
    "   return\n",
    "\n",
    "a= ['苹果','梨'];\n",
    "print(\"访客前篮子里的东西是: \",a)\n",
    "visit(a); \n",
    "print(\"访客后篮子里的东西是: \", a)"
   ]
  },
  {
   "cell_type": "code",
   "execution_count": 7,
   "metadata": {},
   "outputs": [
    {
     "name": "stdout",
     "output_type": "stream",
     "text": [
      "10\n",
      "150\n"
     ]
    }
   ],
   "source": [
    "#【例6-7】使用可变参数定义函数sum，求解任意个数值的和\n",
    "def sum ( arg1, *vartuple ):\n",
    "   total=arg1\n",
    "   for var in vartuple:\n",
    "      total=total+var\n",
    "   return total\n",
    "\n",
    "# 调用sum函数\n",
    "print(sum(10))    #1个参数\n",
    "print(sum(10,20,30,40,50)) #5个参数"
   ]
  },
  {
   "cell_type": "code",
   "execution_count": 8,
   "metadata": {},
   "outputs": [
    {
     "name": "stdout",
     "output_type": "stream",
     "text": [
      "姓名: Judy 年龄: 20\n",
      "姓名: Andy 年龄: 21\n"
     ]
    }
   ],
   "source": [
    "#【例6-8】定义函数printme1，参数age的默认值为20，功能：输出数据。\n",
    "def printme1( name, age=20 ): #age的默认值为20\n",
    "   print(\"姓名:\", name,\"年龄:\",age)\n",
    "   return;\n",
    "\n",
    "printme1(\"Judy\")  #此时age没传入，用默认值\n",
    "printme1(age=21, name=\"Andy\") #原始参数是name先，age后"
   ]
  },
  {
   "cell_type": "code",
   "execution_count": 9,
   "metadata": {},
   "outputs": [
    {
     "name": "stdout",
     "output_type": "stream",
     "text": [
      "5050\n"
     ]
    }
   ],
   "source": [
    "#【例6-9】用递归方式求解1+2+3+...100\n",
    "def sum_n(num1):\n",
    "    if num1==1:\n",
    "         return 1\n",
    "    else:\n",
    "        return num1+sum_n(num1-1)\n",
    "\n",
    "print(sum_n(100))"
   ]
  },
  {
   "cell_type": "code",
   "execution_count": 10,
   "metadata": {},
   "outputs": [],
   "source": [
    "#【例6-10】使用海龟画图，用递归方式绘制一棵二叉分形树。\n",
    "import turtle               #导入turtle模块\n",
    "def draw_brach(brach_length):\n",
    "    if brach_length>5:     #限定绘制的树枝长度至少大于5\n",
    "        #绘制右侧的树枝\n",
    "        turtle.forward(brach_length) #绘制树干\n",
    "        turtle.right(30)  #右转30度\n",
    "        draw_brach(brach_length-15)  #绘制每个节点分叉右侧的树枝\n",
    "        \n",
    "        #绘制左侧树枝\n",
    "        turtle.left(60)  #左转60度\n",
    "        draw_brach(brach_length-15)  #绘制每个节点分叉左侧的树枝\n",
    "        \n",
    "        #返回前一树枝\n",
    "        turtle.right(30)  #右转30度\n",
    "        turtle.backward(brach_length)  #左右侧树枝绘制好，返回节点处\n",
    "\n",
    "def main():\n",
    "    turtle.color('green')   #画笔颜色设为绿色\n",
    "    turtle.width(2)         #画笔宽度为2\n",
    "    turtle.left(90)         #绘制方向为向上\n",
    "    turtle.pendown()        #落笔\n",
    "    draw_brach(80)          #设置树干初始长度80,树枝随树的分叉深度长度递减15\n",
    "    turtle.exitonclick()    #绘制结果保持住，以便查看绘制结果。\n",
    "if __name__=='__main__':\n",
    "    main()\n"
   ]
  },
  {
   "cell_type": "code",
   "execution_count": 11,
   "metadata": {},
   "outputs": [
    {
     "name": "stdout",
     "output_type": "stream",
     "text": [
      "c:/python\\Auto\\C\\data.txt\n"
     ]
    }
   ],
   "source": [
    "#【例6-11】用递归法遍历文件夹，打印输出含路径的文件名。\n",
    "import os\n",
    "\n",
    "def file_display(filepath):\n",
    "    for each in os.listdir(filepath): # 得到文件的绝对路径:\n",
    "        absolute_path = os.path.join(filepath,each) \n",
    "# 得到是否为文件还是目录的布尔值:\n",
    "        is_file = os.path.isfile(absolute_path)\n",
    "        if is_file:         # 当前的绝对路径为文件:\n",
    "            print(absolute_path)\n",
    "        else:               # 当前的绝对路径为目录:\n",
    "            file_display(absolute_path) #递归调用\n",
    "\n",
    "file_display('c:/python') #可任意修改路径\n"
   ]
  },
  {
   "cell_type": "code",
   "execution_count": 12,
   "metadata": {},
   "outputs": [],
   "source": [
    "#【例6-12】使用海龟画图，用随机数绘制星星。\n",
    "import turtle as t\n",
    "import random as r\n",
    "for i in range(20):    #画20颗五角星\n",
    "   t.penup()\n",
    "   t.goto(r.randrange(-200,200),r.randrange(-200,200)) #随机生成五角星绘制位置，区间[-200,-200到[200,200]。\n",
    "   t.color(0,0,r.random())#随机生成深浅不一的蓝色。\n",
    "   n=r.randint(10,80) #随机生成五角星边长，范围[10,80]\n",
    "   t.begin_fill()    #开始定义填色的区域\n",
    "   for j in range(5):  #绘制五角星\n",
    "      t.forward(n)\n",
    "      t.right(144)\n",
    "   t.end_fill()      #结束定义填色区域并填色\n",
    "t.done()"
   ]
  },
  {
   "cell_type": "code",
   "execution_count": 13,
   "metadata": {},
   "outputs": [
    {
     "name": "stdout",
     "output_type": "stream",
     "text": [
      "随意抽取的5张牌是：\n",
      "♠2 , ♠Q , ♣J , ♥8 , ♥7 , None\n"
     ]
    }
   ],
   "source": [
    "#【例6-13】用随机数，随机抽取五张扑克牌\n",
    "import random\n",
    "def shuffle(x):  #洗牌\n",
    "    for i in x:\n",
    "        pokers.remove(i)\n",
    "    return pokers\n",
    "def deal(y):    #发牌\n",
    "    for i in y:\n",
    "        print(i[1],',',end=\" \")\n",
    "\n",
    "A=['♥','♠','♦','♣']\n",
    "B=['A','2','3','4','5','6','7','8','9','10','J','Q','K']\n",
    "poker=[]\n",
    "pokers=[]\n",
    "n=1\n",
    "for i in A:\n",
    "    for j in B:    #生成牌的序列\n",
    "         pokers.append((n,(i+j)))\n",
    "         n=n+1\n",
    "random.shuffle(pokers)  \n",
    "a=random.sample(pokers,5) #抽取5张牌\n",
    "pokers=shuffle(a)\n",
    "print(\"随意抽取的5张牌是：\")\n",
    "print(deal(a))\n"
   ]
  },
  {
   "cell_type": "code",
   "execution_count": 14,
   "metadata": {},
   "outputs": [
    {
     "name": "stdout",
     "output_type": "stream",
     "text": [
      "年龄: 30\n"
     ]
    }
   ],
   "source": [
    "#【例6-14】用身份证号码计算年龄。\n",
    "import datetime\n",
    "def calculate_age(str1):\n",
    " today = datetime.date.today()\n",
    " bornyear =int(str1[6:10])\n",
    " birthday =datetime.date(today.year,int(str1[10:12]),int(str1[12:14]))\n",
    " if birthday > today:\n",
    "    return today.year - bornyear - 1\n",
    " else:\n",
    "    return today.year - bornyear\n",
    "\n",
    "print(\"年龄:\", calculate_age (\"350000198812120012\"))"
   ]
  },
  {
   "cell_type": "code",
   "execution_count": 15,
   "metadata": {},
   "outputs": [
    {
     "name": "stdout",
     "output_type": "stream",
     "text": [
      "宝宝的生日是: 2019-04-17\n"
     ]
    }
   ],
   "source": [
    "#【例6-15】计算百日宴宝宝的生日是哪天？\n",
    "import datetime\n",
    "day100=datetime.datetime.today()\n",
    "birthday= (day100 - datetime.timedelta(days=100))\n",
    "print(\"宝宝的生日是:\",birthday.strftime(\"%Y-%m-%d\"))#将结构化时间转为格式化时间"
   ]
  },
  {
   "cell_type": "code",
   "execution_count": 16,
   "metadata": {},
   "outputs": [
    {
     "name": "stdout",
     "output_type": "stream",
     "text": [
      "在if语句块中定义的v1= 50\n",
      "在if语句块外可以访问，v1= 50\n"
     ]
    }
   ],
   "source": [
    "#【例6-16】演示语句块内不产生作用域的代码\n",
    "if True:\n",
    "    v1=50\n",
    "    print(\"在if语句块中定义的v1=\",v1)\n",
    "print(\"在if语句块外可以访问，v1=\",v1)"
   ]
  },
  {
   "cell_type": "code",
   "execution_count": 17,
   "metadata": {},
   "outputs": [
    {
     "name": "stdout",
     "output_type": "stream",
     "text": [
      "在调用outer函数前，a的值为: Apple\n",
      "\t在outer函数内，调用inner函数前，a和w的值为: Banana 18\n",
      "\t\t在inner函数内，a和w的值为: Lemon 24\n",
      "\t在outer函数内，调用inner函数后，a和w的值为: Lemon 24\n",
      "在调用outer函数后，a的值为: Lemon\n"
     ]
    }
   ],
   "source": [
    "#【例6-17】函数内声明的全局变量和非本地局部变量\n",
    "def outer():\n",
    "    w=18          # w为局部变量\n",
    "    global a      #声明全局变量a，可以在outer中修改a的值\n",
    "    a= 'Banana'\n",
    "    print(\"\\t在outer函数内，调用inner函数前，a和w的值为:\",a,w)\n",
    "    def inner():  \n",
    "       nonlocal w    # 声明非本地局部变量w，可以在inner中修改w的值\n",
    "       w=24\n",
    "       global a\n",
    "       a='Lemon'\n",
    "       print(\"\\t\\t在inner函数内，a和w的值为:\",a,w)\n",
    "    inner()           #调用inner函数\n",
    "    print(\"\\t在outer函数内，调用inner函数后，a和w的值为:\",a,w)\n",
    "\n",
    "a='Apple'            # a为全局变量\n",
    "print(\"在调用outer函数前，a的值为:\",a)\n",
    "outer()              #调用outer函数\n",
    "print(\"在调用outer函数后，a的值为:\",a)\n"
   ]
  }
 ],
 "metadata": {
  "kernelspec": {
   "display_name": "Python 3",
   "language": "python",
   "name": "python3"
  },
  "language_info": {
   "codemirror_mode": {
    "name": "ipython",
    "version": 3
   },
   "file_extension": ".py",
   "mimetype": "text/x-python",
   "name": "python",
   "nbconvert_exporter": "python",
   "pygments_lexer": "ipython3",
   "version": "3.7.3"
  }
 },
 "nbformat": 4,
 "nbformat_minor": 2
}
