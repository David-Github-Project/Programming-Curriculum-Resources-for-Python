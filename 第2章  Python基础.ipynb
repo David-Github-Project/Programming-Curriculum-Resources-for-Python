{
 "cells": [
  {
   "cell_type": "code",
   "execution_count": 1,
   "metadata": {},
   "outputs": [
    {
     "name": "stdout",
     "output_type": "stream",
     "text": [
      "2010 名义年度增长率: 18.25 %\n",
      "2011 名义年度增长率: 18.39 %\n",
      "2012 名义年度增长率: 10.39 %\n",
      "2013 名义年度增长率: 10.1 %\n",
      "2014 名义年度增长率: 8.15 %\n",
      "2015 名义年度增长率: 6.97 %\n",
      "2016 名义年度增长率: 7.87 %\n",
      "2017 名义年度增长率: 10.91 %\n",
      "2018 名义年度增长率: 9.7 %\n"
     ]
    }
   ],
   "source": [
    "#计算2009-2018 GD名义年度增长率\n",
    "i=0    #变量初始化\n",
    "year=(\"2009\",\"2010\",\"2011\",\"2012\",\"2013\",\"2014\",\"2015\",\"2016\",\"2017\",\"2018\") #年度列表\n",
    "gdp_value=(34.85,41.21,48.79,53.86,59.3,64.13,68.60,74.00,82.07,90.03) #定义年度GDP\n",
    "for i in range(9):             #循环结构\n",
    "    # 名义年度增长率计算公式\n",
    "    s=(gdp_value[i+1]-gdp_value[i])/gdp_value[i]*100\n",
    "    # 输出计算结果\n",
    "    print(year[i+1],\"名义年度增长率:\",round(s,2),\"%\")"
   ]
  },
  {
   "cell_type": "code",
   "execution_count": 7,
   "metadata": {},
   "outputs": [
    {
     "name": "stdout",
     "output_type": "stream",
     "text": [
      "Beautiful is better than ugly.\n"
     ]
    }
   ],
   "source": [
    "#代码续行，在该行代码末尾加上续行符“ \\”\n",
    "str=\"Beautiful is better\\\n",
    " than ugly.\"\n",
    "print(str)\n"
   ]
  },
  {
   "cell_type": "code",
   "execution_count": 8,
   "metadata": {},
   "outputs": [
    {
     "name": "stdout",
     "output_type": "stream",
     "text": [
      "Explicit is better thanimplicit.\n"
     ]
    }
   ],
   "source": [
    "#加上括号，() {}  []中不需要特别加换行符\n",
    "s=(\"Explicit is better than\"\n",
    "   \"implicit.\")\n",
    "print(s)"
   ]
  },
  {
   "cell_type": "code",
   "execution_count": null,
   "metadata": {},
   "outputs": [],
   "source": [
    "#注释 \n",
    "\"\"\" \n",
    "Beautiful is better than ugly. \n",
    "Explicit is better than implicit.\n",
    " \"\"\" "
   ]
  },
  {
   "cell_type": "code",
   "execution_count": 10,
   "metadata": {},
   "outputs": [
    {
     "name": "stdout",
     "output_type": "stream",
     "text": [
      "Hello,World\n",
      "你好，世界\n"
     ]
    }
   ],
   "source": [
    "#如果代码中包含中文，就需要在Python源文件开头加入 # -*- coding: UTF-8 -*-\n",
    "# -*- coding: UTF-8 -*-\n",
    "print(\"Hello,World\")\n",
    "print(\"你好，世界\")"
   ]
  },
  {
   "cell_type": "code",
   "execution_count": 16,
   "metadata": {},
   "outputs": [],
   "source": [
    "import this  #The Zen of Python（Python 之禅）"
   ]
  },
  {
   "cell_type": "code",
   "execution_count": 17,
   "metadata": {},
   "outputs": [],
   "source": [
    "import this "
   ]
  },
  {
   "cell_type": "code",
   "execution_count": 18,
   "metadata": {},
   "outputs": [
    {
     "name": "stdout",
     "output_type": "stream",
     "text": [
      "\n",
      "Here is a list of the Python keywords.  Enter any keyword to get more help.\n",
      "\n",
      "False               class               from                or\n",
      "None                continue            global              pass\n",
      "True                def                 if                  raise\n",
      "and                 del                 import              return\n",
      "as                  elif                in                  try\n",
      "assert              else                is                  while\n",
      "async               except              lambda              with\n",
      "await               finally             nonlocal            yield\n",
      "break               for                 not                 \n",
      "\n"
     ]
    }
   ],
   "source": [
    "help(\"keywords\") #查看所有关键字"
   ]
  },
  {
   "cell_type": "code",
   "execution_count": 19,
   "metadata": {},
   "outputs": [
    {
     "data": {
      "text/plain": [
       "False"
      ]
     },
     "execution_count": 19,
     "metadata": {},
     "output_type": "execute_result"
    }
   ],
   "source": [
    "import keyword  #导入keyword模块\n",
    "keyword.iskeyword('and')\n",
    "keyword.iskeyword('And')"
   ]
  },
  {
   "cell_type": "code",
   "execution_count": 20,
   "metadata": {},
   "outputs": [
    {
     "name": "stdout",
     "output_type": "stream",
     "text": [
      "9223372036854775807\n"
     ]
    }
   ],
   "source": [
    "#int类型表示的最大范围\n",
    "import sys\n",
    "max = sys.maxsize\n",
    "print (max)"
   ]
  },
  {
   "cell_type": "code",
   "execution_count": 21,
   "metadata": {},
   "outputs": [
    {
     "data": {
      "text/plain": [
       "2.2250738585072014e-308"
      ]
     },
     "execution_count": 21,
     "metadata": {},
     "output_type": "execute_result"
    }
   ],
   "source": [
    "#flot类型表示的数值范围\n",
    "import sys\n",
    "sys.float_info.max\n",
    "sys.float_info.min"
   ]
  },
  {
   "cell_type": "code",
   "execution_count": 22,
   "metadata": {},
   "outputs": [
    {
     "data": {
      "text/plain": [
       "-8.3"
      ]
     },
     "execution_count": 22,
     "metadata": {},
     "output_type": "execute_result"
    }
   ],
   "source": [
    "#复数可以用 z.real来获得实部，z.imag来获得虚部。\n",
    "z=7.4 - 8.3j\n",
    "z.real\n",
    "z.imag"
   ]
  },
  {
   "cell_type": "code",
   "execution_count": 23,
   "metadata": {},
   "outputs": [
    {
     "data": {
      "text/plain": [
       "('2016', 74.35)"
      ]
     },
     "execution_count": 23,
     "metadata": {},
     "output_type": "execute_result"
    }
   ],
   "source": [
    "#列表示例\n",
    "year=[\"2014\",64.39,\"2015\",68.91,\"2016\",74.35,\"2017\",82.71,\"2018\",90.03] \n",
    "year[4],year[5]"
   ]
  },
  {
   "cell_type": "code",
   "execution_count": 24,
   "metadata": {},
   "outputs": [
    {
     "data": {
      "text/plain": [
       "['2016', 74.35]"
      ]
     },
     "execution_count": 24,
     "metadata": {},
     "output_type": "execute_result"
    }
   ],
   "source": [
    "#列表切片\n",
    "year[4:6]"
   ]
  },
  {
   "cell_type": "code",
   "execution_count": 25,
   "metadata": {},
   "outputs": [
    {
     "data": {
      "text/plain": [
       "True"
      ]
     },
     "execution_count": 25,
     "metadata": {},
     "output_type": "execute_result"
    }
   ],
   "source": [
    "#字符串示例\n",
    "str1 = 'Hello,World!'\n",
    "\"H\" in str1"
   ]
  },
  {
   "cell_type": "code",
   "execution_count": 26,
   "metadata": {},
   "outputs": [
    {
     "data": {
      "text/plain": [
       "'Hello'"
      ]
     },
     "execution_count": 26,
     "metadata": {},
     "output_type": "execute_result"
    }
   ],
   "source": [
    "#字符串序列\n",
    "str1 = 'Hello,World!'\n",
    "str1[0:5]"
   ]
  },
  {
   "cell_type": "code",
   "execution_count": 27,
   "metadata": {},
   "outputs": [
    {
     "data": {
      "text/plain": [
       "('2016', 74.35)"
      ]
     },
     "execution_count": 27,
     "metadata": {},
     "output_type": "execute_result"
    }
   ],
   "source": [
    "#元组示例\n",
    "year=(\"2014\",64.39,\"2015\",68.91,\"2016\",74.35,\"2017\",82.71,\"2018\",90.03)\n",
    "year[4],year[5]"
   ]
  },
  {
   "cell_type": "code",
   "execution_count": 28,
   "metadata": {},
   "outputs": [
    {
     "data": {
      "text/plain": [
       "82.71"
      ]
     },
     "execution_count": 28,
     "metadata": {},
     "output_type": "execute_result"
    }
   ],
   "source": [
    "#字典示例\n",
    "year={\"2014\":64.39,\"2015\":68.91,\"2016\":74.35,\"2017\":82.71,\"2018\":90.03}\n",
    "year[\"2017\"]"
   ]
  },
  {
   "cell_type": "code",
   "execution_count": 30,
   "metadata": {},
   "outputs": [
    {
     "data": {
      "text/plain": [
       "3.0"
      ]
     },
     "execution_count": 30,
     "metadata": {},
     "output_type": "execute_result"
    }
   ],
   "source": [
    "#导入模块示例\n",
    "import math,random\n",
    "math.log2(8)"
   ]
  },
  {
   "cell_type": "code",
   "execution_count": 32,
   "metadata": {},
   "outputs": [
    {
     "data": {
      "text/plain": [
       "9"
      ]
     },
     "execution_count": 32,
     "metadata": {},
     "output_type": "execute_result"
    }
   ],
   "source": [
    "random.randint(1, 10)"
   ]
  },
  {
   "cell_type": "code",
   "execution_count": null,
   "metadata": {},
   "outputs": [],
   "source": []
  }
 ],
 "metadata": {
  "kernelspec": {
   "display_name": "Python 3",
   "language": "python",
   "name": "python3"
  },
  "language_info": {
   "codemirror_mode": {
    "name": "ipython",
    "version": 3
   },
   "file_extension": ".py",
   "mimetype": "text/x-python",
   "name": "python",
   "nbconvert_exporter": "python",
   "pygments_lexer": "ipython3",
   "version": "3.7.1"
  }
 },
 "nbformat": 4,
 "nbformat_minor": 2
}
