{
 "cells": [
  {
   "cell_type": "markdown",
   "metadata": {},
   "source": [
    "# 第5次课讲义"
   ]
  },
  {
   "cell_type": "markdown",
   "metadata": {},
   "source": [
    "# datetime类\n",
    "datatime模块提供的类有：date,time,datetime,timedelta,tzinfo\n",
    "1.datetime.date：表示日期的类\n",
    "2.datetime.datetime：表示日期时间的类\n",
    "3.datetime.time：表示时间的类\n",
    "4.datetime.timedelta：表示时间间隔，即两个时间点的间隔"
   ]
  },
  {
   "cell_type": "markdown",
   "metadata": {},
   "source": [
    "#  datetime.data类的使用\n",
    "1、date类 datetime.date(year, month, day) 静态方法和字段 date.max、date.min：date对象所能表示的最大、最小日期； date.resolution：date对象表示日期的最小单位。这里是天。 date.today()：返回一个表示当前本地日期的date对象； date.fromtimestamp(timestamp)：根据给定的时间戮，返回一个date对象；"
   ]
  },
  {
   "cell_type": "code",
   "execution_count": 25,
   "metadata": {},
   "outputs": [
    {
     "name": "stdout",
     "output_type": "stream",
     "text": [
      "2019-04-15\n",
      "9999-12-31\n",
      "0001-01-01\n",
      "1 day, 0:00:00\n"
     ]
    }
   ],
   "source": [
    "from datetime import date\n",
    "\n",
    "#返回一个表示当前本地日期的date对象\n",
    "print(date.today())\n",
    "\n",
    "#date对象所能表示的最大、最小日期；\n",
    "print(date.max)\n",
    "print(date.min)\n",
    "print(date.resolution)#date对象表示日期的最小单位。这里是天"
   ]
  },
  {
   "cell_type": "code",
   "execution_count": 17,
   "metadata": {},
   "outputs": [
    {
     "name": "stdout",
     "output_type": "stream",
     "text": [
      "2019\n",
      "4\n",
      "15\n"
     ]
    }
   ],
   "source": [
    "#data类的使用\n",
    "d = date.today() # 类实例化\n",
    "print(d.year)\n",
    "print(d.month)\n",
    "print(d.day)"
   ]
  },
  {
   "cell_type": "markdown",
   "metadata": {},
   "source": [
    "#  time类\n",
    "类方法/属性名称\n",
    "描述\n",
    "time.max\n",
    "time类所能表示的最大时间：time(23, 59, 59, 999999)\n",
    "time.min\n",
    "time类所能表示的最小时间：time(0, 0, 0, 0)\n",
    "time.resolution\n",
    "时间的最小单位，即两个不同时间的最小差值：1微秒\n",
    "print(time.max)"
   ]
  },
  {
   "cell_type": "code",
   "execution_count": 31,
   "metadata": {},
   "outputs": [
    {
     "name": "stdout",
     "output_type": "stream",
     "text": [
      "23:59:59.999999\n",
      "00:00:00\n",
      "0:00:00.000001\n"
     ]
    }
   ],
   "source": [
    "from datetime import time\n",
    "\n",
    "#time类所能表示的最大时间\n",
    "print(time.max)\n",
    "#time.min time类所能表示的最小时间\n",
    "print(time.min)\n",
    "#时间的最小单位1微秒\n",
    "print(time.resolution) "
   ]
  },
  {
   "cell_type": "code",
   "execution_count": 42,
   "metadata": {},
   "outputs": [
    {
     "name": "stdout",
     "output_type": "stream",
     "text": [
      "20\n",
      "25\n",
      "40\n"
     ]
    }
   ],
   "source": [
    "#显示时间\n",
    "t = time(20, 25, 40)\n",
    "print(t.hour)\n",
    "print(t.minute)\n",
    "print(t.second)"
   ]
  },
  {
   "cell_type": "markdown",
   "metadata": {},
   "source": [
    "### datetime.datetime类, 可以替代date类和time类\n",
    "datetime.datetime：表示日期时间的类\n"
   ]
  },
  {
   "cell_type": "code",
   "execution_count": 36,
   "metadata": {},
   "outputs": [
    {
     "data": {
      "text/plain": [
       "datetime.datetime(2019, 4, 15, 20, 23, 23, 316402)"
      ]
     },
     "execution_count": 36,
     "metadata": {},
     "output_type": "execute_result"
    }
   ],
   "source": [
    "#显示当前日期\n",
    "from datetime import datetime\n",
    "datetime.now()"
   ]
  },
  {
   "cell_type": "code",
   "execution_count": 45,
   "metadata": {
    "scrolled": true
   },
   "outputs": [
    {
     "name": "stdout",
     "output_type": "stream",
     "text": [
      "2019\n",
      "4\n",
      "15\n"
     ]
    }
   ],
   "source": [
    "from datetime import datetime\n",
    "someday=datetime.now()#创建一个datatime对象\n",
    "\n",
    "#如果不指定时区（tz）参数，返回值结果同上\n",
    "someday=datetime.today()\n",
    "\n",
    "#或初始化一个指定日期与时间\n",
    "#someday=datetime(2019,4,15,23,12,50)\n",
    "# 显示年-月-日\n",
    "print(someday.year)\n",
    "print(someday.month)\n",
    "print(someday.day)"
   ]
  },
  {
   "cell_type": "code",
   "execution_count": 82,
   "metadata": {},
   "outputs": [],
   "source": [
    "from datetime import datetime\n",
    "from datetime import timedelta\n",
    "star_day=datetime(2019,4,1)\n",
    "end_day=datetime(2019,4,30)\n",
    "\n"
   ]
  },
  {
   "cell_type": "code",
   "execution_count": 48,
   "metadata": {},
   "outputs": [
    {
     "name": "stdout",
     "output_type": "stream",
     "text": [
      "20\n",
      "58\n",
      "2\n"
     ]
    }
   ],
   "source": [
    "from datetime import datetime\n",
    "# 显示时间\n",
    "#创建一个datatime对象\n",
    "someday=datetime.now()\n",
    "\n",
    "print(someday.hour)\n",
    "print(someday.minute)\n",
    "print(someday.second)"
   ]
  },
  {
   "cell_type": "code",
   "execution_count": 52,
   "metadata": {},
   "outputs": [
    {
     "name": "stdout",
     "output_type": "stream",
     "text": [
      "0\n",
      "1\n"
     ]
    }
   ],
   "source": [
    "from datetime import datetime\n",
    "someday=datetime.now()\n",
    "#返回日期是星期几，[0, 6]，0表示星期一\n",
    "print(someday.weekday())\n",
    "#返回日期是星期几，[1, 7], 1表示星期一\n",
    "print(someday.isoweekday())"
   ]
  },
  {
   "cell_type": "code",
   "execution_count": 57,
   "metadata": {},
   "outputs": [
    {
     "name": "stdout",
     "output_type": "stream",
     "text": [
      "2019-04-15\n",
      "2019/04/15\n"
     ]
    }
   ],
   "source": [
    "from datetime import datetime\n",
    "d = date.today()\n",
    "print(d.isoformat())\n",
    "#返回指定格式的日期字符串\n",
    "print(d.strftime('%Y/%m/%d'))"
   ]
  },
  {
   "cell_type": "markdown",
   "metadata": {},
   "source": [
    "### datetime.timedelta：表示时间间隔，即两个时间点的间隔\n",
    "timedelta对象表示连个不同时间之间的差值。如果使用time模块对时间进行算术运行，只能将字符串格式的时间 和 struct_time格式的时间对象 先转换为时间戳格式，然后对该时间戳加上或减去n秒，最后再转换回struct_time格式或字符串格式，这显然很不方便。\n",
    "而datetime模块提供的timedelta类可以让我们很方面的对datetime.date, datetime.time和datetime.datetime对象做算术运算，且两个时间之间的差值单位也更加容易控制。"
   ]
  },
  {
   "cell_type": "code",
   "execution_count": 63,
   "metadata": {},
   "outputs": [
    {
     "data": {
      "text/plain": [
       "31536000.0"
      ]
     },
     "execution_count": 63,
     "metadata": {},
     "output_type": "execute_result"
    }
   ],
   "source": [
    "from datetime import timedelta \n",
    "timedelta(365).total_seconds()"
   ]
  },
  {
   "cell_type": "code",
   "execution_count": 71,
   "metadata": {},
   "outputs": [
    {
     "name": "stdout",
     "output_type": "stream",
     "text": [
      "2019-04-18 22:16:12.070768\n",
      "2019-04-12 22:16:12.070768\n",
      "2019-04-16 01:16:12.070768\n"
     ]
    },
    {
     "data": {
      "text/plain": [
       "datetime.datetime(2019, 4, 16, 1, 16, 42, 70768)"
      ]
     },
     "execution_count": 71,
     "metadata": {},
     "output_type": "execute_result"
    }
   ],
   "source": [
    "from datetime import timedelta\n",
    "from datetime import datetime\n",
    "dt =datetime.now()\n",
    "\n",
    " # 3天后\n",
    "print(dt + timedelta(3)) \n",
    "# 3天前\n",
    "print(dt + timedelta(-3))\n",
    "\n",
    "# 3小时后\n",
    "print(dt + timedelta(hours=3))\n",
    "#3小时30秒后\n",
    "dt+timedelta(hours=3, seconds=30) "
   ]
  },
  {
   "cell_type": "code",
   "execution_count": 77,
   "metadata": {},
   "outputs": [
    {
     "data": {
      "text/plain": [
       "-9"
      ]
     },
     "execution_count": 77,
     "metadata": {},
     "output_type": "execute_result"
    }
   ],
   "source": [
    "#计算今天与2000年1月1日相差多少天？\n",
    "import datetime\n",
    "d1 = datetime.datetime(2005, 2, 16)\n",
    "d2 = datetime.datetime(2005, 2, 7)\n",
    "\n",
    "datetime.timedelta()\n",
    "(d2 - d1).days"
   ]
  },
  {
   "cell_type": "code",
   "execution_count": 81,
   "metadata": {},
   "outputs": [
    {
     "data": {
      "text/plain": [
       "'2019-04-14 22:35:04'"
      ]
     },
     "execution_count": 81,
     "metadata": {},
     "output_type": "execute_result"
    }
   ],
   "source": [
    "#格式化时间\n",
    "import datetime\n",
    "now = datetime.datetime.now()\n",
    "yesterday = now + datetime.timedelta(days=-1)\n",
    "datetime.datetime.strftime(now, '%Y%m%d')\n",
    "datetime.datetime.strftime(yesterday, '%Y-%m-%d %H:%M:%S')"
   ]
  },
  {
   "cell_type": "code",
   "execution_count": null,
   "metadata": {},
   "outputs": [],
   "source": [
    "import time,sys,os\n",
    "for:\n",
    "  t = time.strftime('%H:%M:%S',time.localtime(time.time()))\n",
    "  time.sleep(1)\n",
    "  os.system('cls')"
   ]
  },
  {
   "cell_type": "markdown",
   "metadata": {},
   "source": [
    "### 课堂练习1：\n",
    "先取当前任意时间，每隔1秒输出一个时间，当60秒后程序停止，并输出结束时间。\n"
   ]
  },
  {
   "cell_type": "markdown",
   "metadata": {
    "raw_mimetype": "text/html"
   },
   "source": [
    "### 文件的概念\n",
    "文件是一个存储在辅助存储器上的数据序列，可以包含任何数据内容。\n",
    "概念上，文件是数据的集合和抽象，类似地，函数是程序的集合和抽象。\n",
    "用文件形式组织和表达数据更有效也更为灵活。文件包括两种类型：文本文件和二进制文件。\n",
    "二进制文件直接由比特0和比特1组成，没有统一字符编码，文件内部数据的组织格式与文件用途有关。\n",
    "二进制文件和文本文件最主要的区别在于是否有统一的字符编码\n",
    "无论文件创建为文本文件或者二进制文件，都可以用“文本文件方式”和“二进制文件方式”打开，打开后的操作不同。"
   ]
  },
  {
   "cell_type": "markdown",
   "metadata": {},
   "source": [
    "### 以下程序示例：\n",
    "采用文本方式读入文件，文件经过编码形成字符串，打印出有含义的字符；\n",
    "采用二进制方式打开文件，文件被解析为字节（byte）流。由于存在编码，字符串中的一个字符由2个字节表示。\n"
   ]
  },
  {
   "cell_type": "code",
   "execution_count": 4,
   "metadata": {},
   "outputs": [
    {
     "name": "stdout",
     "output_type": "stream",
     "text": [
      "文件是一个存储在辅助存储器上的数据序列，可以包含任何数据内容。\n",
      "b'\\xce\\xc4\\xbc\\xfe\\xca\\xc7\\xd2\\xbb\\xb8\\xf6\\xb4\\xe6\\xb4\\xa2\\xd4\\xda\\xb8\\xa8\\xd6\\xfa\\xb4\\xe6\\xb4\\xa2\\xc6\\xf7\\xc9\\xcf\\xb5\\xc4\\xca\\xfd\\xbe\\xdd\\xd0\\xf2\\xc1\\xd0\\xa3\\xac\\xbf\\xc9\\xd2\\xd4\\xb0\\xfc\\xba\\xac\\xc8\\xce\\xba\\xce\\xca\\xfd\\xbe\\xdd\\xc4\\xda\\xc8\\xdd\\xa1\\xa3'\n"
     ]
    }
   ],
   "source": [
    "textFile = open(\"./doc/text.txt\",\"rt\") #t表示文本文件方式\n",
    "print(textFile.readline())\n",
    "textFile.close()\n",
    "binFile = open(\"./doc/text.txt\",\"rb\")   #r表示二进制文件方式\n",
    "print(binFile.readline())\n",
    "binFile.close()"
   ]
  },
  {
   "cell_type": "markdown",
   "metadata": {},
   "source": [
    "### 文件的打开关闭\n",
    "Python对文本文件和二进制文件采用统一的操作步骤，即“打开-操作-关闭”\n",
    "Python通过解释器内置的open()函数打开一个文件，并实现该文件与一个程序变量的关联，open()函数格式如下：\n",
    "\n",
    "<变量名> = open(<文件名>, <打开模式>)\n",
    "     \n",
    "open()函数有两个参数：文件名和打开模式。文件名可以是文件的实际名字，也可以是包含完整路径的名字 \n"
   ]
  },
  {
   "cell_type": "markdown",
   "metadata": {},
   "source": [
    "# open()函数提供7种基本的打开模式\n",
    "\n",
    "打开模式\t                   含义\n",
    "'r'\t只读模式，如果文件不存在，返回异常FileNotFoundError，默认值\n",
    "'w'\t覆盖写模式，文件不存在则创建，存在则完全覆盖源文件\n",
    "'x'\t创建写模式，文件不存在则创建，存在则返回异常FileExistsError\n",
    "'a'\t追加写模式，文件不存在则创建，存在则在原文件最后追加内容\n",
    "'b'\t二进制文件模式\n",
    "'t'\t文本文件模式，默认值\n",
    "'+'\t与r/w/x/a一同使用，在原功能基础上增加同时读写功能"
   ]
  },
  {
   "cell_type": "markdown",
   "metadata": {
    "raw_mimetype": "text/latex"
   },
   "source": [
    "## 文件的读操作\n",
    "python文件对象提供了三个“读”方法： read()、readline() 和 readlines()。每种方法可以接受一个变量以限制每次读取的数据量。\n",
    "read() 每次读取整个文件，它通常用于将文件内容放到一个字符串变量中。如果文件大于可用内存，为了保险起见，可以反复调用read(size)方法，每次最多读取size个字节的内容。\n",
    "readlines() 之间的差异是后者一次读取整个文件，象 .read() 一样。.readlines() 自动将文件内容分析成一个行的列表，该列表可以由 Python 的 for ... in ... 结构进行处理。\n",
    "readline() 每次只读取一行，通常比readlines() 慢得多。仅当没有足够内存可以一次读取整个文件时，才应该使用 readline()。\n",
    "\n",
    "\n",
    "方法                                 含义\n",
    "\n",
    "<file>.read(size=-1)\t       从文件中读入整个文件内容，如果给出参数，读入前size长度的字符串或字节流\n",
    "<file>.readline(size = -1)\t   从文件中读入一行内容，如果给出参数，读入该行前size长度的字符串或字节流\n",
    "<file>.readlines(hint=-1)\t   从文件中读入所有行，以每行为元素形成一个列表，如果给出参数，读入hint行\n",
    "注意：这三种方法是把每行末尾的'\\n'也读进来了，它并不会默认的把'\\n'去掉，需要我们手动去掉。"
   ]
  },
  {
   "cell_type": "code",
   "execution_count": 37,
   "metadata": {},
   "outputs": [
    {
     "name": "stdout",
     "output_type": "stream",
     "text": [
      "﻿昨夜星辰昨夜风，\n",
      "画楼西畔桂堂东。\n",
      "身无彩凤双飞翼，\n",
      "心有灵犀一点通。\n",
      "\n"
     ]
    }
   ],
   "source": [
    "#read读入整个文件内容，返回一个字符串或字节流\n",
    "\n",
    "fname = \"./doc/poety1.txt\"\n",
    "#utf8是编码模式，如果去掉这一行试试是什么结果？\n",
    "fo = open(fname ,\"rt\", encoding='utf8')\n",
    "#fo = open(fname ,\"rt\", encoding='gbk')\n",
    "print(fo.read())\n",
    "\n",
    "fo.close()"
   ]
  },
  {
   "cell_type": "markdown",
   "metadata": {},
   "source": [
    "### 在文件中移动文件指针\n",
    "seek(offset,whence=0)方法用来在文件中移动文件指针。offset表示偏移多少。\n",
    "可选参数whence表示从哪里开始偏移，默认是0为文件开头，1为当前位置，2为文件尾部。"
   ]
  },
  {
   "cell_type": "code",
   "execution_count": 16,
   "metadata": {},
   "outputs": [
    {
     "name": "stdout",
     "output_type": "stream",
     "text": [
      "﻿昨夜星辰昨夜风，\n",
      "\n",
      "画楼西畔桂堂东。\n",
      "\n",
      "身无彩凤双飞翼，\n",
      "\n",
      "心有灵犀一点通。\n",
      "\n"
     ]
    }
   ],
   "source": [
    "#readlines()遍历文件的所有行\n",
    "#思考一个问题，为什么每行后有一个空行？\n",
    "fname = \"./doc/poety.txt\"\n",
    "\n",
    "#utf8是编码模式，如果去掉这一行试试是什么结果？\n",
    "fo = open(fname ,\"rt\", encoding='utf8')\n",
    "for line in fo.readlines():\n",
    "    print(line)\n",
    "fo.close()"
   ]
  },
  {
   "cell_type": "code",
   "execution_count": null,
   "metadata": {},
   "outputs": [],
   "source": [
    "#思考：如何将poety.txt的内容保存在列表中\n",
    "\n",
    "fname = \"./doc/poety.txt\"\n",
    "\n",
    "fo = open(fname ,\"rt\", encoding='utf8')\n",
    "for line in fo.readlines():\n",
    "    print(line)\n",
    "fo.close()"
   ]
  },
  {
   "cell_type": "markdown",
   "metadata": {},
   "source": [
    "### 文件读写错误捕捉\n",
    "由于文件读写时都有可能产生IOError，一旦出错，后面的f.close()就不会调用。\n",
    "所以，为了保证无论是否出错都能正确地关闭文件，我们可以使用try ... finally来实现："
   ]
  },
  {
   "cell_type": "code",
   "execution_count": 21,
   "metadata": {},
   "outputs": [
    {
     "name": "stdout",
     "output_type": "stream",
     "text": [
      "IOError\n"
     ]
    }
   ],
   "source": [
    "#读一个不存在的文件时捕捉异常\n",
    "try:\n",
    "    f = open('./doc/poety1.txt', 'r' ,encoding='utf8')\n",
    "    print(f.read())\n",
    "except  Exception as e:\n",
    "    print(\"IOError\")\n",
    "finally:\n",
    "    if f:\n",
    "        f.close()"
   ]
  },
  {
   "cell_type": "code",
   "execution_count": 44,
   "metadata": {},
   "outputs": [
    {
     "name": "stdout",
     "output_type": "stream",
     "text": [
      "﻿昨夜星辰昨夜风，\n",
      "画楼西畔桂堂东。\n",
      "身无彩凤双飞翼，\n",
      "心有灵犀一点通。\n",
      "\n"
     ]
    }
   ],
   "source": [
    "#Python引入了with语句打开文件，并调用close()方法\n",
    "#考虑如何给此命令加入文件异常捕捉？\n",
    "with open('./doc/poety1.txt', 'r',encoding='utf8') as f:\n",
    "    print(f.read())"
   ]
  },
  {
   "cell_type": "markdown",
   "metadata": {},
   "source": [
    "### 文件写入操作\n",
    "Python提供3个与文件内容写入有关的方法：\n",
    "方法                                   含义\n",
    "<file>.write(s)               向文件写入一个字符串或字节流\n",
    "<file>.writelines(lines)      将一个元素为字符串的列表写入文件\n",
    "<file>.seek(offset)           改变当前文件操作指针的位置，offset的值：\n",
    "0：文件开头； 1: 当前位置； 2: 文件结尾"
   ]
  },
  {
   "cell_type": "code",
   "execution_count": 50,
   "metadata": {},
   "outputs": [
    {
     "name": "stdout",
     "output_type": "stream",
     "text": [
      "唐诗宋词元曲\n"
     ]
    }
   ],
   "source": [
    "fname = './doc/test.txt'\n",
    "fo = open(fname, \"w+\")\n",
    "ls = [\"唐诗\", \"宋词\", \"元曲\"]\n",
    "fo.writelines(ls)\n",
    "\n",
    "#改变当前文件操作指针的位置\n",
    "fo.seek(0)\n",
    "for line in fo:\n",
    "    print(line)\n",
    "fo.close()"
   ]
  },
  {
   "cell_type": "code",
   "execution_count": 67,
   "metadata": {},
   "outputs": [
    {
     "name": "stdout",
     "output_type": "stream",
     "text": [
      "\n",
      "﻿昨夜星辰昨夜风，\n",
      "画楼西畔桂堂东。\n",
      "身无彩凤双飞翼，\n",
      "心有灵犀一点通。\n",
      "作者：李商隐作者：李商隐作者：李商隐作者：李商隐作者：李商隐作者：李商隐\n"
     ]
    }
   ],
   "source": [
    "fname = \"./doc/poety1.txt\"\n",
    "f = open(fname,\"a+\",encoding='utf8')\n",
    "print(f.read())\n",
    "f.seek(0)\n",
    "f.writelines([\"作者：李商隐\"])  #如何将”作者：李商隐“写入到文件头\n",
    "         \n",
    "## 把文件指针从末尾移到开头，没有这句话下面的read()就读不到正确的东西\n",
    "f.seek(0, 0)\n",
    "print(f.read())\n",
    "f.close()"
   ]
  },
  {
   "cell_type": "markdown",
   "metadata": {},
   "source": [
    "### 课堂作业1：在本程序的基础上，将读入的文件内容读到一个列表中，并输出\n",
    "fname = \"./doc/poety.txt\"\n",
    "fo = open(fname ,\"rt\", encoding='utf8')\n",
    "for line in fo.readlines():\n",
    "print(line)\n",
    "fo.close()"
   ]
  },
  {
   "cell_type": "markdown",
   "metadata": {},
   "source": [
    "### 课堂作业2：在课堂作业1的基础上，去除列表中每元素后面的换行符，并输出。"
   ]
  },
  {
   "cell_type": "markdown",
   "metadata": {},
   "source": [
    "### 课堂作业3：\n",
    "作业1：请在以下诗句的poety.txt文件中。\n",
    "昨夜星辰昨夜风，\n",
    "画楼西畔桂堂东。\n",
    "身无彩凤双飞翼，\n",
    "心有灵犀一点通。\n",
    "\n",
    "添加如下内容：\n",
    "隔座送钩春酒暖，\n",
    "分曹射覆蜡灯红。\n",
    "嗟余听鼓应官去，\n",
    "走马兰台类转蓬。 \n"
   ]
  },
  {
   "cell_type": "markdown",
   "metadata": {},
   "source": [
    "### 课堂练习4：参考三国演义文档分词程序，读入”红楼梦.txt”文件，进行词频统计"
   ]
  },
  {
   "cell_type": "markdown",
   "metadata": {},
   "source": [
    "## jieba中文分词库介绍"
   ]
  },
  {
   "cell_type": "markdown",
   "metadata": {},
   "source": [
    "jieba 是目前最好的 Python 中文分词组件，它主要有以下 3 种特性：\n",
    "支持 3 种分词模式：精确模式、全模式、搜索引擎模式\n",
    "支持繁体分词\n",
    "支持自定义词典\n",
    "可使用 jieba.cut 和 jieba.cut_for_search 方法进行分词，两者所返回的结构都是一个可迭代的 generator，\n",
    "可使用 for 循环来获得分词后得到的每一个词语（unicode），或者直接使用 jieba.lcut 以及 jieba.lcut_for_search 直接返回 list。\n",
    "\n",
    "精确模式：试图将语句最精确的切分，不存在冗余数据，适合做文本分析\n",
    "全模式：将语句中所有可能是词的词语都切分出来，速度很快，但是存在冗余数据\n",
    "搜索引擎模式：在精确模式的基础上，对长词再次进行切分"
   ]
  },
  {
   "cell_type": "code",
   "execution_count": 73,
   "metadata": {},
   "outputs": [
    {
     "name": "stdout",
     "output_type": "stream",
     "text": [
      "全模式：\n",
      " ['小', '明', '硕士', '毕业', '于', '中国', '中国科学院', '科学', '科学院', '学院', '计算', '计算所', '', '', '后', '在', '哈佛', '哈佛大学', '大学', '深造']\n",
      "精准模式：\n",
      " ['小明', '硕士', '毕业', '于', '中国科学院', '计算所', '，', '后', '在', '哈佛大学', '深造']\n",
      "搜索引擎模式：\n",
      " ['小明', '硕士', '毕业', '于', '中国', '科学', '学院', '科学院', '中国科学院', '计算', '计算所', '，', '后', '在', '哈佛', '大学', '哈佛大学', '深造']\n"
     ]
    }
   ],
   "source": [
    "#全模式和精确模式\n",
    "import jieba\n",
    "\n",
    "list0 = jieba.cut('小明硕士毕业于中国科学院计算所，后在哈佛大学深造', cut_all=True)\n",
    "print('全模式：\\n', list(list0))\n",
    "\n",
    "list1 = jieba.cut('小明硕士毕业于中国科学院计算所，后在哈佛大学深造', cut_all=False)\n",
    "print('精准模式：\\n', list(list1))\n",
    "\n",
    "list2 = jieba.cut_for_search('小明硕士毕业于中国科学院计算所，后在哈佛大学深造')\n",
    "print('搜索引擎模式：\\n', list(list2))\n"
   ]
  },
  {
   "cell_type": "code",
   "execution_count": 57,
   "metadata": {},
   "outputs": [
    {
     "name": "stdout",
     "output_type": "stream",
     "text": [
      "<class 'list'>\n",
      "刘备         1583\n",
      "曹操         1451\n",
      "孔明         1383\n",
      "关羽          784\n",
      "张飞          358\n",
      "吕布          300\n",
      "左右          294\n",
      "军马          293\n",
      "赵云          278\n",
      "引兵          276\n",
      "次日          271\n",
      "大喜          268\n",
      "孙权          264\n",
      "天下          255\n",
      "东吴          251\n",
      "于是          250\n",
      "今日          243\n",
      "不敢          239\n",
      "魏兵          233\n",
      "陛下          223\n"
     ]
    }
   ],
   "source": [
    "import jieba\n",
    "excludes = {\"将军\",\"却说\",\"荆州\",\"二人\",\"不可\",\"不能\",\"如此\",\"军士\",\"商议\",\"如何\"}\n",
    "txt = open(\"./doc/三国演义.txt\", \"r\", encoding='utf-8').read()\n",
    "words  = jieba.lcut(txt)#精确模式的分词函数，返回一个列表数据类型\n",
    "#print(type(words)) #words的数据类型\n",
    "counts = {}  #定义一个字典\n",
    "for word in words:\n",
    "    if len(word) == 1:\n",
    "        continue\n",
    "    elif word == \"诸葛亮\" or word == \"孔明曰\":\n",
    "        rword = \"孔明\"\n",
    "    elif word == \"关公\" or word == \"云长\":\n",
    "        rword = \"关羽\"\n",
    "    elif word == \"玄德\" or word == \"玄德曰\" or word==\"主公\":\n",
    "        rword = \"刘备\"\n",
    "    elif word == \"孟德\" or word == \"丞相\":\n",
    "        rword = \"曹操\"\n",
    "    else:\n",
    "        rword = word\n",
    "    counts[rword] = counts.get(rword,0) + 1 #词汇加入字典\n",
    "for word in excludes:\n",
    "    del(counts[word])  #从字典中删除无用词\n",
    "items = list(counts.items())#字典转换为列表\n",
    "\n",
    "#lambda是一个隐函数，是固定写法，以下命令的意思就是按照记录的第2列排序  \n",
    "\"\"\"x表示列表中的一个元素，x只是临时起的一个名字，\n",
    "你可以使用任意的名字\"\"\"\n",
    "items.sort(key=lambda x:x[1], reverse=True) \n",
    "\n",
    "for i in range(20): #出现的词频统计\n",
    "    word, count = items[i] #将键和值分别赋予列表word和count\n",
    "    print (\"{0:<10}{1:>5}\".format(word, count))#0:<10左对齐，宽度10，”>5\"右对齐\n"
   ]
  }
 ],
 "metadata": {
  "celltoolbar": "Raw Cell Format",
  "kernelspec": {
   "display_name": "Python 3",
   "language": "python",
   "name": "python3"
  },
  "language_info": {
   "codemirror_mode": {
    "name": "ipython",
    "version": 3
   },
   "file_extension": ".py",
   "mimetype": "text/x-python",
   "name": "python",
   "nbconvert_exporter": "python",
   "pygments_lexer": "ipython3",
   "version": "3.6.8"
  }
 },
 "nbformat": 4,
 "nbformat_minor": 2
}
