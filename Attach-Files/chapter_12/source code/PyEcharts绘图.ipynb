{
 "cells": [
  {
   "cell_type": "markdown",
   "metadata": {},
   "source": [
    "# PyEcharts绘图-案例"
   ]
  },
  {
   "cell_type": "markdown",
   "metadata": {},
   "source": [
    "注：程序运行后，可在本地目录中找到对应的html文件。"
   ]
  },
  {
   "cell_type": "markdown",
   "metadata": {},
   "source": [
    "柱状图"
   ]
  },
  {
   "cell_type": "code",
   "execution_count": 1,
   "metadata": {},
   "outputs": [],
   "source": [
    "from pyecharts import Bar\n",
    "# 设置横坐标\n",
    "years =['2014年','2015年','2016年','2017年','2018年']\n",
    "# 设置纵坐标\n",
    "GDP  =[641281, 685993, 740061, 820754,900309]\n",
    "# 调用Bar方法绘制柱状图，同时设置标题与副标题\n",
    "bar = Bar(\"标题：2014-2018年国内生产总值\", \"副标题：柱状图\")\n",
    "# 调用add方法添加柱状图的数据及配置项\n",
    "bar.add(\"图注：生产总值（亿元）\", years, GDP)\n",
    "# 生成本地html文件\n",
    "bar.render('年份-GDP-柱状图.html')"
   ]
  },
  {
   "cell_type": "markdown",
   "metadata": {},
   "source": [
    "多属性柱状图"
   ]
  },
  {
   "cell_type": "code",
   "execution_count": 2,
   "metadata": {},
   "outputs": [],
   "source": [
    "years =['2014年','2015年','2016年','2017年','2018年']\n",
    "GDP  =[641281, 685993, 740061, 820754,900309]\n",
    "Productivity=[83211, 88685,94443,100702,107327]\n",
    "# 调用Bar方法绘制柱状图，同时设置标题与副标题\n",
    "bar = Bar(\"2014-2018年经济数据\", \"多属性柱状图\")\n",
    "# 调用add方法添加柱状图的数据及配置项\n",
    "bar.add(\"生产总值（亿元）\", years, GDP  , mark_point=[\"max\", \"min\"], is_datazoom_show=True)\n",
    "bar.add(\"全员劳动生产率（元/人）\", years, Productivity ,  is_label_show=True,  mark_line=[\"average\"])\n",
    "# 生成本地html文件\n",
    "bar.render('年份-国内生产总值和全员劳动生产率-多属性柱状图.html')"
   ]
  },
  {
   "cell_type": "markdown",
   "metadata": {},
   "source": [
    "堆积柱状图"
   ]
  },
  {
   "cell_type": "code",
   "execution_count": 3,
   "metadata": {},
   "outputs": [],
   "source": [
    "# 调用Bar方法绘制柱状图，同时设置标题与副标题\n",
    "bar = Bar(\"2014-2018年经济数据\", \"堆积柱状图\")\n",
    "# 在add方法中添加“is_stack = True”即可绘制堆积柱状图\n",
    "bar.add(\"生产总值（亿元）\", years, GDP , mark_point=[\"max\", \"min\"], is_stack = True)\n",
    "bar.add(\"全员劳动生产率（元/人）\", years, Productivity, mark_point=[\"max\", \"min\"],is_stack = True)\n",
    "# 生成本地html文件\n",
    "bar.render('年份-经济数据-堆积柱状图.html')"
   ]
  },
  {
   "cell_type": "markdown",
   "metadata": {},
   "source": [
    "折线图"
   ]
  },
  {
   "cell_type": "code",
   "execution_count": 5,
   "metadata": {},
   "outputs": [],
   "source": [
    "from pyecharts import Line\n",
    "years =['2014年','2015年','2016年','2017年','2018年']\n",
    "GDP  =[641281, 685993, 740061, 820754,900309]\n",
    "Productivity=[83211, 88685,94443,100702,107327]\n",
    "# 调用Line方法绘制折线图\n",
    "line = Line('2014-2018年经济数据', '折线图')\n",
    "line.add(\"生产总值（亿元）\", years, GDP, is_label_show=True )\n",
    "line.add(\"全员劳动生产率（元/人）\", years, Productivity, is_label_show=True) \n",
    "line.render('年份-经济数据-折线图.html')"
   ]
  },
  {
   "cell_type": "markdown",
   "metadata": {},
   "source": [
    "多属性折线图"
   ]
  },
  {
   "cell_type": "code",
   "execution_count": 7,
   "metadata": {},
   "outputs": [],
   "source": [
    "from pyecharts import Line\n",
    "years =['2014年','2015年','2016年','2017年','2018年']\n",
    "GDP  =[641281, 685993, 740061, 820754,900309]\n",
    "Productivity=[83211, 88685,94443,100702,107327]\n",
    "line = Line('2014-2018年经济数据', '折线图')\n",
    "line.add(\"生产总值（亿元）\", years, GDP, is_smooth=True,mark_point=[\"max\", \"min\"])\n",
    "line.add(\"全员劳动生产率（元/人）\", years, Productivity, is_label_show=True,is_fill=True, area_color='#FFFF00', area_opacity=0.1) \n",
    "line.render('年份-经济数据-多属性折线图.html')"
   ]
  },
  {
   "cell_type": "markdown",
   "metadata": {},
   "source": [
    "地图的绘制"
   ]
  },
  {
   "cell_type": "code",
   "execution_count": 37,
   "metadata": {},
   "outputs": [],
   "source": [
    "#  2018年全国省份GDP前10名及其GDP（亿元）\n",
    "from pyecharts import Map, Geo\n",
    "attr = ['广东','江苏','山东', '浙江' ,'河南', '四川' ,'湖北' ,'湖南' ,'河北' ,'福建']\n",
    "value = [97277.77, 92595.40, 76469.67, 56197.15, 48055.86, 40678.13, 39366.55, 36425.78, 36010.27, 35804.04]\n",
    "chart = Map(\" 2018年全国省份GDP前10名及其GDP（亿元）\", width=600, height=400)\n",
    "chart.add(\"\", attr, value, maptype='china',\n",
    "    is_visualmap=True,\n",
    "    visual_range = [30000,100000],\n",
    "    visual_text_color=\"#000\",\n",
    "    is_map_symbol_show=False,\n",
    "    visual_orient=\"horizontal\"\n",
    "     )\n",
    "chart.render(\"2018年全国省份GDP前10名.html\")"
   ]
  },
  {
   "cell_type": "markdown",
   "metadata": {},
   "source": [
    "福建省各市GDP"
   ]
  },
  {
   "cell_type": "code",
   "execution_count": 44,
   "metadata": {},
   "outputs": [],
   "source": [
    "from pyecharts import Map, Geo\n",
    "data =  [('福州市', 7856.81), ('厦门市', 4791.41), ('漳州市', 3947.63),\n",
    "            ('泉州市', 8467.98), ('莆田市', 2242.41), ('龙岩市',2393.30), \n",
    "            ('三明市',2353.72), ('宁德市',1942.80), ('南平市',1792.51)]\n",
    "chart = Map(\"2018年福建省各市GDP（亿元）\")\n",
    "attr, value = chart.cast(data)\n",
    "chart.add(\"\", attr, value, maptype='福建', is_visualmap=True,\n",
    "    visual_range = [1700,8000],\n",
    "    visual_text_color=\"#000\",\n",
    "    is_map_symbol_show=False,\n",
    "    visual_orient=\"horizontal\"\n",
    "        )\n",
    "chart.render(\"2018年福建省各市GDP.html\")"
   ]
  }
 ],
 "metadata": {
  "kernelspec": {
   "display_name": "Python 3",
   "language": "python",
   "name": "python3"
  },
  "language_info": {
   "codemirror_mode": {
    "name": "ipython",
    "version": 3
   },
   "file_extension": ".py",
   "mimetype": "text/x-python",
   "name": "python",
   "nbconvert_exporter": "python",
   "pygments_lexer": "ipython3",
   "version": "3.7.2"
  }
 },
 "nbformat": 4,
 "nbformat_minor": 2
}
