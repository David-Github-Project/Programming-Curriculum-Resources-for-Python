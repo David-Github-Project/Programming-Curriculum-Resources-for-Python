{
 "cells": [
  {
   "cell_type": "code",
   "execution_count": 1,
   "metadata": {},
   "outputs": [
    {
     "name": "stdout",
     "output_type": "stream",
     "text": [
      "6\n",
      "16\n"
     ]
    }
   ],
   "source": [
    "x=2*3\n",
    "print(x)\n",
    "y=10+x \n",
    "print(y)\n"
   ]
  },
  {
   "cell_type": "code",
   "execution_count": 2,
   "metadata": {},
   "outputs": [
    {
     "name": "stdout",
     "output_type": "stream",
     "text": [
      "10 1596316960\n",
      "10 1596316960\n",
      "10 1596316960\n",
      "True\n"
     ]
    }
   ],
   "source": [
    "x=10\n",
    "print(x,id(x))\n",
    "y=x\n",
    "print(y,id(y))\n",
    "z=10\n",
    "print(z,id(z))\n",
    "print(z is x)"
   ]
  },
  {
   "cell_type": "code",
   "execution_count": 3,
   "metadata": {},
   "outputs": [
    {
     "name": "stdout",
     "output_type": "stream",
     "text": [
      "3.14 <class 'float'>\n",
      "(5-6j) <class 'complex'>\n",
      "abcd <class 'str'>\n",
      "[1, 2, 3] <class 'list'>\n"
     ]
    }
   ],
   "source": [
    "x=3.14\n",
    "print(x,type(x))\n",
    "x=5-6j\n",
    "print(x,type(x))\n",
    "x=\"abcd\"\n",
    "print(x,type(x))\n",
    "x=[1,2,3]\n",
    "print(x,type(x))\n"
   ]
  },
  {
   "cell_type": "code",
   "execution_count": 4,
   "metadata": {},
   "outputs": [
    {
     "name": "stdout",
     "output_type": "stream",
     "text": [
      "55\n",
      "python\n"
     ]
    }
   ],
   "source": [
    "x=5\n",
    "y=6\n",
    "x*=y+5\n",
    "print(x)\n",
    "s=\"pyth\"\n",
    "s+=\"on\"\n",
    "print(s)\n"
   ]
  },
  {
   "cell_type": "code",
   "execution_count": 5,
   "metadata": {},
   "outputs": [
    {
     "name": "stdout",
     "output_type": "stream",
     "text": [
      "10\n",
      "['hello', 'world']\n",
      "{}\n"
     ]
    }
   ],
   "source": [
    "x,y,z=10,[\"hello\",\"world\"],dict()       #同步赋值\n",
    "print(x)\n",
    "print(y)\n",
    "print(z)\n"
   ]
  },
  {
   "cell_type": "code",
   "execution_count": 6,
   "metadata": {},
   "outputs": [],
   "source": [
    "temp=x\n",
    "x=y\n",
    "y=temp"
   ]
  },
  {
   "cell_type": "code",
   "execution_count": 7,
   "metadata": {},
   "outputs": [
    {
     "name": "stdout",
     "output_type": "stream",
     "text": [
      "100 200\n",
      "200 100\n"
     ]
    }
   ],
   "source": [
    "x,y=100,200\n",
    "print(x,y)\n",
    "x,y=y,x                    #交换变量x和变量y的值\n",
    "print(x,y)"
   ]
  },
  {
   "cell_type": "code",
   "execution_count": 8,
   "metadata": {},
   "outputs": [
    {
     "name": "stdout",
     "output_type": "stream",
     "text": [
      "{1, 2, 3}\n",
      "{1, 2, 3}\n",
      "{1, 2, 3}\n",
      "54017360 54017360 54017360\n"
     ]
    }
   ],
   "source": [
    "a=b=c={1,2,3}          #链式赋值\n",
    "print(a)\n",
    "print(b)\n",
    "print(c)\n",
    "print(id(a),id(b),id(c))\n"
   ]
  },
  {
   "cell_type": "code",
   "execution_count": 9,
   "metadata": {},
   "outputs": [
    {
     "name": "stdout",
     "output_type": "stream",
     "text": [
      "请输入您的姓名：张宇\n",
      "张宇 <class 'str'>\n",
      "请输入您的年龄：20\n",
      "20 <class 'int'>\n",
      "请输入您的成绩列表:[86,100,95,69]\n",
      "[86, 100, 95, 69] <class 'list'>\n",
      "请输入您的身高和体重（用逗号分隔）：1.82,60\n",
      "1.82 60\n"
     ]
    }
   ],
   "source": [
    "x=input(\"请输入您的姓名：\")\n",
    "print(x,type(x))\n",
    "y=int(input(\"请输入您的年龄：\"))                #int函数把字符串转换为整型数\n",
    "print(y,type(y))\n",
    "g=eval(input(\"请输入您的成绩列表:\"))            #eval函数把字符串还原为列表\n",
    "print(g,type(g))\n",
    "h,w=eval(input(\"请输入您的身高和体重（用逗号分隔）：\"))   #同步赋值\n",
    "print(h,w)    \n"
   ]
  },
  {
   "cell_type": "code",
   "execution_count": 10,
   "metadata": {},
   "outputs": [
    {
     "name": "stdout",
     "output_type": "stream",
     "text": [
      "1 2 3\n",
      "1,(2-3j),3.14\n",
      "python\t程序\t设计\n"
     ]
    }
   ],
   "source": [
    "print(1,2,3)\n",
    "print(1,2-3j,3.14,sep=\",\")\n",
    "print(\"python\",\"程序\",\"设计\",sep=\"\\t\")\n"
   ]
  },
  {
   "cell_type": "code",
   "execution_count": 11,
   "metadata": {},
   "outputs": [
    {
     "name": "stdout",
     "output_type": "stream",
     "text": [
      "12********************34\n"
     ]
    }
   ],
   "source": [
    "print(12,end=\"\")\n",
    "print(\"*\"*20,end=\"\")\n",
    "print(34)\n"
   ]
  },
  {
   "cell_type": "code",
   "execution_count": 12,
   "metadata": {},
   "outputs": [
    {
     "name": "stdout",
     "output_type": "stream",
     "text": [
      "请输入一个3位整数:365\n",
      "整数365各数位数字之和是:14\n"
     ]
    }
   ],
   "source": [
    "#计算3位整数的各数位数字之和\n",
    "x=int(input(\"请输入一个3位整数:\"))  #字符串转换成整数\n",
    "a=x%10                               #计算个位数\n",
    "b=x//10%10                           #计算十位数 \n",
    "c=x//100                             #计算百位数\n",
    "print(\"整数{0:3}各数位数字之和是:{1:2}\".format(x,a+b+c))\n"
   ]
  },
  {
   "cell_type": "code",
   "execution_count": 13,
   "metadata": {},
   "outputs": [
    {
     "name": "stdout",
     "output_type": "stream",
     "text": [
      "请输入一个整数:1234567890\n",
      "整数1234567890各数位数字之和是:45\n"
     ]
    }
   ],
   "source": [
    "#计算任意位整数的各数位数字之和\n",
    "x=input(\"请输入一个整数:\")   #输入长度任意的整数字符串\n",
    "ls=list(map(int,x))         #把字符串中各元素映射到int函数上，再转换成列表对象\n",
    "s=sum(ls)                    #求列表元素之和\n",
    "print(\"整数{0:}各数位数字之和是:{1:}\".format(x,s))\n"
   ]
  },
  {
   "cell_type": "code",
   "execution_count": 14,
   "metadata": {},
   "outputs": [
    {
     "name": "stdout",
     "output_type": "stream",
     "text": [
      "请输入年份：2020\n",
      "                                  2020\n",
      "\n",
      "      January                   February                   March\n",
      "Mo Tu We Th Fr Sa Su      Mo Tu We Th Fr Sa Su      Mo Tu We Th Fr Sa Su\n",
      "       1  2  3  4  5                      1  2                         1\n",
      " 6  7  8  9 10 11 12       3  4  5  6  7  8  9       2  3  4  5  6  7  8\n",
      "13 14 15 16 17 18 19      10 11 12 13 14 15 16       9 10 11 12 13 14 15\n",
      "20 21 22 23 24 25 26      17 18 19 20 21 22 23      16 17 18 19 20 21 22\n",
      "27 28 29 30 31            24 25 26 27 28 29         23 24 25 26 27 28 29\n",
      "                                                    30 31\n",
      "\n",
      "       April                      May                       June\n",
      "Mo Tu We Th Fr Sa Su      Mo Tu We Th Fr Sa Su      Mo Tu We Th Fr Sa Su\n",
      "       1  2  3  4  5                   1  2  3       1  2  3  4  5  6  7\n",
      " 6  7  8  9 10 11 12       4  5  6  7  8  9 10       8  9 10 11 12 13 14\n",
      "13 14 15 16 17 18 19      11 12 13 14 15 16 17      15 16 17 18 19 20 21\n",
      "20 21 22 23 24 25 26      18 19 20 21 22 23 24      22 23 24 25 26 27 28\n",
      "27 28 29 30               25 26 27 28 29 30 31      29 30\n",
      "\n",
      "        July                     August                  September\n",
      "Mo Tu We Th Fr Sa Su      Mo Tu We Th Fr Sa Su      Mo Tu We Th Fr Sa Su\n",
      "       1  2  3  4  5                      1  2          1  2  3  4  5  6\n",
      " 6  7  8  9 10 11 12       3  4  5  6  7  8  9       7  8  9 10 11 12 13\n",
      "13 14 15 16 17 18 19      10 11 12 13 14 15 16      14 15 16 17 18 19 20\n",
      "20 21 22 23 24 25 26      17 18 19 20 21 22 23      21 22 23 24 25 26 27\n",
      "27 28 29 30 31            24 25 26 27 28 29 30      28 29 30\n",
      "                          31\n",
      "\n",
      "      October                   November                  December\n",
      "Mo Tu We Th Fr Sa Su      Mo Tu We Th Fr Sa Su      Mo Tu We Th Fr Sa Su\n",
      "          1  2  3  4                         1          1  2  3  4  5  6\n",
      " 5  6  7  8  9 10 11       2  3  4  5  6  7  8       7  8  9 10 11 12 13\n",
      "12 13 14 15 16 17 18       9 10 11 12 13 14 15      14 15 16 17 18 19 20\n",
      "19 20 21 22 23 24 25      16 17 18 19 20 21 22      21 22 23 24 25 26 27\n",
      "26 27 28 29 30 31         23 24 25 26 27 28 29      28 29 30 31\n",
      "                          30\n",
      "\n"
     ]
    }
   ],
   "source": [
    "#输出指定年历\n",
    "import calendar                   #导入标准库calendar\n",
    "year=int(input(\"请输入年份：\"))\n",
    "result=calendar.calendar(year)\n",
    "print(result)\n"
   ]
  },
  {
   "cell_type": "code",
   "execution_count": 15,
   "metadata": {},
   "outputs": [
    {
     "name": "stdout",
     "output_type": "stream",
     "text": [
      "请输入数字：19\n",
      "数字19是奇数\n"
     ]
    }
   ],
   "source": [
    "#判断奇数\n",
    "a=int(input(\"请输入数字：\"))\n",
    "if a%2!=0:\n",
    "    print(\"数字{}是奇数\".format(a))  \n"
   ]
  },
  {
   "cell_type": "code",
   "execution_count": 16,
   "metadata": {},
   "outputs": [
    {
     "name": "stdout",
     "output_type": "stream",
     "text": [
      "请输入数字：1234321\n",
      "数字1234321是回文\n"
     ]
    }
   ],
   "source": [
    "#回文数判断\n",
    "a=input(\"请输入数字：\")\n",
    "if a==a[::-1]:                       #反向切片\n",
    "    print(\"数字{}是回文\".format(a))\n",
    "else:\n",
    "    print(\"数字{}不是回文\".format(a))\n"
   ]
  },
  {
   "cell_type": "code",
   "execution_count": 17,
   "metadata": {},
   "outputs": [
    {
     "name": "stdout",
     "output_type": "stream",
     "text": [
      "请输入数字：3456\n",
      "数字3456不是回文\n"
     ]
    }
   ],
   "source": [
    "#回文数判断\n",
    "a=input(\"请输入数字：\")\n",
    "b=\"是\" if a==a[::-1] else \"不是\"\n",
    "print(\"数字{}{}回文\".format(a,b))\n"
   ]
  },
  {
   "cell_type": "code",
   "execution_count": 18,
   "metadata": {},
   "outputs": [
    {
     "name": "stdout",
     "output_type": "stream",
     "text": [
      "请输入员工当月销售业绩（元）：35000\n",
      "您的月薪为10250.00元!\n"
     ]
    }
   ],
   "source": [
    "#计算员工月薪\n",
    "salary=5000\n",
    "sales=int(input(\"请输入员工当月销售业绩（元）：\"))\n",
    "if sales>100000:\n",
    "    ratio=0.25\n",
    "elif sales>50000:   #这里只需要判断下界sales>50000，sales≤100000是隐含成立的\n",
    "    ratio=0.2\n",
    "elif sales>20000:\n",
    "    ratio=0.15\n",
    "elif sales>10000:\n",
    "    ratio=0.10\n",
    "else:\n",
    "    ratio=0\n",
    "salary+=sales*ratio\n",
    "print(\"您的月薪为{:.2f}元!\".format(round(salary,2)))\n"
   ]
  },
  {
   "cell_type": "code",
   "execution_count": 19,
   "metadata": {},
   "outputs": [
    {
     "name": "stdout",
     "output_type": "stream",
     "text": [
      "请输入会员标志（0：会员  1：非会员），订单金额（元）:0,650\n",
      "应付货款：617.50元。共优惠32.50元。\n"
     ]
    }
   ],
   "source": [
    "#计算货款\n",
    "mumber,amount=eval(input(\"请输入会员标志（0：会员  1：非会员），订单金额（元）:\"))\n",
    "if mumber not in {0,1} or amount<=0:\n",
    "    print(\"输入数据错误！\")\n",
    "else:\n",
    "    if mumber==0:                                  #会员\n",
    "        if amount<500:\n",
    "            discount=0.02\n",
    "        else:\n",
    "            discount=0.05\n",
    "    else:                                          #非会员\n",
    "        if amount<1000:\n",
    "            discount=0\n",
    "        else:\n",
    "            discount=0.03\n",
    "    payment=amount*(1-discount)            #计算货款\n",
    "    print(\"应付货款：{:.2f}元。共优惠{:.2f}元。\".format(round(payment,2),round((amount-payment),2)))      \n"
   ]
  },
  {
   "cell_type": "code",
   "execution_count": 20,
   "metadata": {},
   "outputs": [
    {
     "name": "stdout",
     "output_type": "stream",
     "text": [
      "请输入查询年份(2013-2018):2013\n",
      "2013年国内生产总值为59.30万亿！\n"
     ]
    }
   ],
   "source": [
    "#根据输入年份计算GDP及其增长率\n",
    "gdp={\"2013\":59.3,\"2014\":64.13,\"2015\":68.60,\"2016\":74.00,\"2017\":82.07,\"2018\":90.03}\n",
    "year=input(\"请输入查询年份(2013-2018):\")\n",
    "value1=gdp.get(year,0)                            #查字典，获取当年GDP值\n",
    "value2=gdp.get(str(int(year)-1),0)                #获取前一年GDP值\n",
    "if value1==0:                                     #当年数据不在字典中\n",
    "    print(\"输入的年份数据有误！\")\n",
    "else:\n",
    "    if value2==0:                                 #前一年数据不在字典中\n",
    "        print(\"{}年国内生产总值为{:.2f}万亿！\".format(year,value1))\n",
    "    else:\n",
    "        r=(value1-value2)/value2\n",
    "        print(\"{}年国内生产总值为{:.2f}万亿！名义年度增长率为{:.2%}\".format(year,value1,r))\n"
   ]
  },
  {
   "cell_type": "code",
   "execution_count": 21,
   "metadata": {},
   "outputs": [
    {
     "name": "stdout",
     "output_type": "stream",
     "text": [
      "sum=5.002068272680166,n=83\n"
     ]
    }
   ],
   "source": [
    "#计算序列和\n",
    "sum,n=0,1\n",
    "while sum<=5:\n",
    "    sum+=1/n\n",
    "    n+=1\n",
    "print(\"sum={},n={}\".format(sum,n-1))"
   ]
  },
  {
   "cell_type": "code",
   "execution_count": 22,
   "metadata": {},
   "outputs": [
    {
     "name": "stdout",
     "output_type": "stream",
     "text": [
      "请输入原始货币，退出请按Enter：￥3000\n",
      "转换后是：$449.78\n",
      "请输入原始货币，退出请按Enter：$120\n",
      "转换后是：￥800.40\n",
      "请输入原始货币，退出请按Enter：360\n",
      "输入格式错误,请重新输入!\n",
      "请输入原始货币，退出请按Enter：$360\n",
      "转换后是：￥2401.20\n",
      "请输入原始货币，退出请按Enter：\n"
     ]
    }
   ],
   "source": [
    "#计算美元和人民币的相互兑换\n",
    "ExchangeRate=6.67\n",
    "money=input(\"请输入原始货币，退出请按Enter：\")       #首次输入数据\n",
    "while money!=\"\":                                     #money不是空串时循环 \n",
    "    if money[0] == '$':\n",
    "        value=eval(money[1:])*ExchangeRate\n",
    "        print(\"转换后是：￥{:<.2f}\".format(value))\n",
    "    elif money[0]=='￥':\n",
    "        value=eval(money[1:])/ExchangeRate\n",
    "        print(\"转换后是：${:<.2f}\".format(value))\n",
    "    else:\n",
    "        print(\"输入格式错误,请重新输入!\")\n",
    "    money=input(\"请输入原始货币，退出请按Enter：\")   #后续输入数据\n"
   ]
  },
  {
   "cell_type": "code",
   "execution_count": 23,
   "metadata": {},
   "outputs": [
    {
     "name": "stdout",
     "output_type": "stream",
     "text": [
      "15!=1307674368000\n"
     ]
    }
   ],
   "source": [
    "#计算15！\n",
    "sum=1\n",
    "for n in range(1,16):        #遍历了序列1,2,3，…,15\n",
    "    sum*=n\n",
    "print(\"15!={}\".format(sum))\n"
   ]
  },
  {
   "cell_type": "code",
   "execution_count": 24,
   "metadata": {},
   "outputs": [
    {
     "name": "stdout",
     "output_type": "stream",
     "text": [
      "请输入一个字符串：asd23Df2SF 23M3=-,12.MS\"?  wefcs26\n",
      "大写字符:6\n",
      "小写字符:9\n",
      "空格:3\n",
      "数字字符:10\n",
      "其它字符:6\n"
     ]
    }
   ],
   "source": [
    "#统计输出字符串中包含的各类字符个数（使用关系运算符实现）\n",
    "c1=c2=c3=c4=c5=0                    #5个计数器链式赋初值为0\n",
    "str1=input(\"请输入一个字符串：\")\n",
    "for s in str1:                      #遍历字符串\n",
    "    if s>='A' and s<='Z':           #大写字母 \n",
    "        c1+=1\n",
    "    elif s>='a' and s<='z':         #小写字母  \n",
    "        c2+=1\n",
    "    elif s==\" \":                    #空格\n",
    "        c3+=1\n",
    "    elif s>='0' and s<='9':        #数字字符 \n",
    "        c4+=1\n",
    "    else:\n",
    "        c5+=1                      #其它字符\n",
    "print(\"大写字符:{}\\n小写字符:{}\\n空格:{}\\n数字字符:{}\\n其它字符:{}\".format(c1,c2,c3,c4,c5))\n"
   ]
  },
  {
   "cell_type": "code",
   "execution_count": 25,
   "metadata": {},
   "outputs": [
    {
     "name": "stdout",
     "output_type": "stream",
     "text": [
      "请输入一个字符串：asd23Df2SF 23M3=-,12.MS\"?  wefcs26\n",
      "大写字符:6\n",
      "小写字符:9\n",
      "空格:3\n",
      "数字字符:10\n",
      "其它字符:6\n"
     ]
    }
   ],
   "source": [
    "#统计输出字符串中包含的各类字符数目（使用字符串方法实现）\n",
    "c1=c2=c3=c4=c5=0                     #链式赋值\n",
    "str1=input(\"请输入一个字符串：\")\n",
    "for s in str1:\n",
    "    if s.isupper():                #大写字母\n",
    "        c1+=1\n",
    "    elif s.islower():              #小写字母\n",
    "        c2+=1\n",
    "    elif s.isspace():              #空格\n",
    "        c3+=1\n",
    "    elif s.isnumeric():            #数字字符\n",
    "        c4+=1\n",
    "    else:                          #其它字符\n",
    "        c5+=1                  \n",
    "print(\"大写字符:{0}\\n小写字符:{1}\\n空格:{2}\\n数字字符:{3}\\n其它字符:{4}\".format(c1,c2,c3,c4,c5))\n"
   ]
  },
  {
   "cell_type": "code",
   "execution_count": 26,
   "metadata": {},
   "outputs": [
    {
     "name": "stdout",
     "output_type": "stream",
     "text": [
      "请输入一个列表：[1,34,2654,99,0,6182451]\n",
      "[1, 2, 4, 2, 1, 7]\n"
     ]
    }
   ],
   "source": [
    "#输出列表各元素位长\n",
    "alst=eval(input(\"请输入一个列表：\"))           \n",
    "blst=[]\n",
    "for item in alst:                              #遍历列表\n",
    "    blst.append(len(str(item)))\n",
    "print(blst)\n"
   ]
  },
  {
   "cell_type": "code",
   "execution_count": 27,
   "metadata": {},
   "outputs": [
    {
     "name": "stdout",
     "output_type": "stream",
     "text": [
      "1×1= 1  \n",
      "2×1= 2  2×2= 4  \n",
      "3×1= 3  3×2= 6  3×3= 9  \n",
      "4×1= 4  4×2= 8  4×3=12  4×4=16  \n",
      "5×1= 5  5×2=10  5×3=15  5×4=20  5×5=25  \n",
      "6×1= 6  6×2=12  6×3=18  6×4=24  6×5=30  6×6=36  \n",
      "7×1= 7  7×2=14  7×3=21  7×4=28  7×5=35  7×6=42  7×7=49  \n",
      "8×1= 8  8×2=16  8×3=24  8×4=32  8×5=40  8×6=48  8×7=56  8×8=64  \n",
      "9×1= 9  9×2=18  9×3=27  9×4=36  9×5=45  9×6=54  9×7=63  9×8=72  9×9=81  \n"
     ]
    }
   ],
   "source": [
    "#输出九九乘法表\n",
    "for i in range(1,10):              #外循环\n",
    "    for j in range(1,i+1):         #内循环\n",
    "        print(\"{}×{}={:2d} \".format(i,j,i*j),end=\" \")\n",
    "    print()                        #输出回车换行\n"
   ]
  },
  {
   "cell_type": "code",
   "execution_count": 28,
   "metadata": {},
   "outputs": [
    {
     "name": "stdout",
     "output_type": "stream",
     "text": [
      "主对角线元素之和:34\n",
      "副对角线元素之和:34\n",
      "左上三角元素之和:60\n",
      "左下三角元素和:36\n",
      "第0列元素和:28\n",
      "第3行元素和:58\n",
      "全部元素和:136\n"
     ]
    }
   ],
   "source": [
    "#计算矩阵元素和\n",
    "ls=[[1,2,3,4],\n",
    "    [5,6,7,8],\n",
    "    [9,10,11,12],\n",
    "    [13,14,15,16]]                      #定义嵌套列表存放矩阵数据\n",
    "sum1=sum2=sum3=sum4=sum5=sum6=sum7=0\n",
    "for i in range(4):\n",
    "    for j in range(4):\n",
    "        if i==j:\n",
    "            sum1+=ls[i][j]              #计算主对角线元素和 \n",
    "        if i+j==3:\n",
    "            sum2+=ls[i][j]              #计算副对角线元素和 \n",
    "        if i+j<=3:\n",
    "            sum3+=ls[i][j]              #计算左上三角元素和      \n",
    "        if i<j:\n",
    "            sum4+=ls[i][j]              #计算左下三角元素和  \n",
    "        if j==0:\n",
    "            sum5+=ls[i][j]              #计算第0列元素和  \n",
    "        if i==3:\n",
    "            sum6+=ls[i][j]              #计算第3行元素和  \n",
    "        sum7+=ls[i][j]                  #计算矩阵全部元素和  \n",
    "print(\"主对角线元素之和:{}\".format(sum1))\n",
    "print(\"副对角线元素之和:{}\".format(sum2))\n",
    "print(\"左上三角元素之和:{}\".format(sum3))\n",
    "print(\"左下三角元素和:{}\".format(sum4))\n",
    "print(\"第0列元素和:{}\".format(sum5))\n",
    "print(\"第3行元素和:{}\".format(sum6))\n",
    "print(\"全部元素和:{}\".format(sum7))\n"
   ]
  },
  {
   "cell_type": "code",
   "execution_count": 29,
   "metadata": {},
   "outputs": [
    {
     "name": "stdout",
     "output_type": "stream",
     "text": [
      "请输入一个整数：16\n",
      "请输入一个整数：34\n",
      "请输入一个整数：56\n",
      "累加和是：106\n"
     ]
    }
   ],
   "source": [
    "#计算累加和\n",
    "sum=0\n",
    "while True:\n",
    "    x=int(input(\"请输入一个整数：\"))\n",
    "    sum+=x\n",
    "    if sum>=100:\n",
    "        break               #满足条件时跳出循环，否则继续循环。\n",
    "print(\"累加和是：{}\".format(sum))\n"
   ]
  },
  {
   "cell_type": "code",
   "execution_count": 30,
   "metadata": {},
   "outputs": [
    {
     "name": "stdout",
     "output_type": "stream",
     "text": [
      "7\t14\t21\t28\t42\t49\t\n",
      "56\t63\t77\t84\t91\t98\t\n"
     ]
    }
   ],
   "source": [
    "#输出100以内能整除7，不能整除5的数\n",
    "count=0\n",
    "for i in range(0,101,7):\n",
    "    if i%5==0:\n",
    "        continue         #如果能整除5，则返回去取下一个数判断\n",
    "    count+=1             #统计满足条件的数据个数\n",
    "    print(i,end=\"\\t\")\n",
    "    if count%6==0:       #控制每行输出6个数\n",
    "        print()          #输出回车换行 \n"
   ]
  },
  {
   "cell_type": "code",
   "execution_count": 31,
   "metadata": {},
   "outputs": [
    {
     "name": "stdout",
     "output_type": "stream",
     "text": [
      "请输入原始货币，退出请按Enter：$100\n",
      "转换后是：￥667.00\n",
      "请输入原始货币，退出请按Enter：\n"
     ]
    }
   ],
   "source": [
    "#计算美元和人民币的相互兑换改进程序\n",
    "ExchangeRate=6.67\n",
    "while True:                                  \n",
    "    money=input(\"请输入原始货币，退出请按Enter：\")    #输入兑换钱币\n",
    "    if money==\"\":                                     #直接输入回车则退出程序\n",
    "        break\n",
    "    if money[0] == '$':\n",
    "        value=eval(money[1:])*ExchangeRate\n",
    "        print(\"转换后是：￥{:<.2f}\".format(value))\n",
    "    elif money[0]=='￥':\n",
    "        value=eval(money[1:])/ExchangeRate\n",
    "        print(\"转换后是：${:<.2f}\".format(value))\n",
    "    else:\n",
    "        print(\"输入格式错误,请重新输入!\")\n"
   ]
  },
  {
   "cell_type": "code",
   "execution_count": 32,
   "metadata": {},
   "outputs": [
    {
     "name": "stdout",
     "output_type": "stream",
     "text": [
      " 101   103   107   109   113   127   131   137   139   149  \n",
      " 151   157   163   167   173   179   181   191   193   197  \n",
      " 199   211   223   227   229   233   239   241   251   257  \n",
      " 263   269   271   277   281   283   293   307   311   313  \n",
      " 317   331   337   347   349   353   359   367   373   379  \n",
      " 383   389   397   401   409   419   421   431   433   439  \n",
      " 443   449   457   461   463   467   479   487   491   499  \n"
     ]
    }
   ],
   "source": [
    "#输出[100,500]区间的素数\n",
    "c=0                              #素数计数器\n",
    "for i in range(101,500,2):       #过滤掉偶数\n",
    "    for j in range(2,i):         #从2开始试除到i-1\n",
    "        if i%j==0:     #找到一个能整除i的j，i不是素数，跳到外层循环遍历下一项\n",
    "            break         \n",
    "    else:                        #内层循环正常结束，说明i是素数\n",
    "        c+=1 \n",
    "        print(\"{:>4d}  \".format(i),end=\"\")\n",
    "        if c%10==0:              #控制每行输出10项\n",
    "            print()\n"
   ]
  },
  {
   "cell_type": "code",
   "execution_count": 33,
   "metadata": {},
   "outputs": [
    {
     "name": "stdout",
     "output_type": "stream",
     "text": [
      "请输入图案字符,结束程序请按Enter：*\n",
      "请输入图案行数（要求奇数）：9\n",
      "        *         \n",
      "       ***        \n",
      "      *****       \n",
      "     *******      \n",
      "    *********     \n",
      "     *******      \n",
      "      *****       \n",
      "       ***        \n",
      "        *         \n",
      "请输入图案字符,结束程序请按Enter：9\n",
      "请输入图案行数（要求奇数）：13\n",
      "            9             \n",
      "           999            \n",
      "          99999           \n",
      "         9999999          \n",
      "        999999999         \n",
      "       99999999999        \n",
      "      9999999999999       \n",
      "       99999999999        \n",
      "        999999999         \n",
      "         9999999          \n",
      "          99999           \n",
      "           999            \n",
      "            9             \n",
      "请输入图案字符,结束程序请按Enter：\n"
     ]
    }
   ],
   "source": [
    "#输出菱形图案\n",
    "while True:\n",
    "    ch=input(\"请输入图案字符,结束程序请按Enter：\")\n",
    "    if ch==\"\":\n",
    "        break                          #退出循坏，结束程序运行     \n",
    "    n=int(input(\"请输入图案行数（要求奇数）：\"))\n",
    "    if n%2==0:                         #n为偶数，返回重新输入\n",
    "        continue\n",
    "    for i in range(1,n//2+1):\n",
    "        print((ch*(2*i-1)).center(2*n))\n",
    "    for j in range(n//2+1,0,-1):\n",
    "        print((ch*(2*j-1)).center(2*n))\n"
   ]
  },
  {
   "cell_type": "code",
   "execution_count": 34,
   "metadata": {},
   "outputs": [
    {
     "name": "stdout",
     "output_type": "stream",
     "text": [
      "2018年CPI最大涨幅在2月，同比涨幅是2.9%。最低涨幅在1月，同比涨幅是1.5%\n"
     ]
    }
   ],
   "source": [
    "#输出2018年居民消费价格月度最大涨跌幅度数据（同比）\n",
    "cpi={1:101.5,2:102.9,3:102.1,4:101.8,5:101.8,6:101.9,7:102.1,8:102.3,9:102.5,10:102.5,11:102.2,12:101.9}\n",
    "maxmonth=minmonth=1\n",
    "maxcpi=mincpi=cpi.get(1)              #查字典，获得1月cpi\n",
    "for month in range(2,13):             #循环查2月-12月cpi\n",
    "    mcpi=cpi.get(month)\n",
    "    if mcpi>maxcpi:\n",
    "        maxmonth,maxcpi=month,mcpi\n",
    "    if mcpi<mincpi:\n",
    "        minmonth,mincpi=month,mcpi\n",
    "print(\"2018年CPI最大涨幅在{}月，同比涨幅是{:.1f}%。最低涨幅在{}月，同比涨幅是{:.1f}%\".format(maxmonth,maxcpi-100,minmonth,mincpi-100))"
   ]
  },
  {
   "cell_type": "code",
   "execution_count": 35,
   "metadata": {},
   "outputs": [
    {
     "name": "stdout",
     "output_type": "stream",
     "text": [
      "请输入18位身份证号码,退出请按Enter：152101193806241525\n",
      "身份证号码正确，女性。\n",
      "请输入18位身份证号码,退出请按Enter：350521199010274575\n",
      "身份证号码正确，男性。\n",
      "请输入18位身份证号码,退出请按Enter：513602198110191820\n",
      "身份证号码非法！请重新输入\n",
      "请输入18位身份证号码,退出请按Enter：513601198110191820\n",
      "身份证号码正确，女性。\n",
      "请输入18位身份证号码,退出请按Enter：23010\n",
      "身份证号码非法！请重新输入\n",
      "请输入18位身份证号码,退出请按Enter：\n"
     ]
    }
   ],
   "source": [
    "#判断身份证真伪\n",
    "fact=[7,9,10,5,8,4,2,1,6,3,7,9,10,5,8,4,2]             #系数列表\n",
    "last=[\"1\",\"0\",\"X\",\"9\",\"8\",\"7\",\"6\",\"5\",\"4\",\"3\",\"2\"]     #身份证末位列表\n",
    "while True:\n",
    "    idstr=input(\"请输入18位身份证号码,退出请按Enter：\")\n",
    "    if idstr==\"\":                                      #结束程序\n",
    "        break\n",
    "    elif len(idstr)!=18:                               #输入的号码不是18位 \n",
    "        print(\"身份证号码非法！请重新输入\")\n",
    "    else:\n",
    "        sum=0 \n",
    "        for i in range(17):\n",
    "            sum=sum+int(idstr[i])*fact[i]              #运算求和\n",
    "        laststr=last[sum%11]                           #生成身份证号码校验位\n",
    "        if laststr==idstr[-1]:             #生成的校验位与身份证号码末位一致\n",
    "            male=\"女性\" if int(idstr[-2])%2==0 else \"男性\"\n",
    "            print(\"身份证号码正确，{}。\".format(male))\n",
    "        else:\n",
    "            print(\"身份证号码非法！请重新输入\")\n"
   ]
  },
  {
   "cell_type": "code",
   "execution_count": null,
   "metadata": {},
   "outputs": [],
   "source": []
  }
 ],
 "metadata": {
  "kernelspec": {
   "display_name": "Python 3",
   "language": "python",
   "name": "python3"
  },
  "language_info": {
   "codemirror_mode": {
    "name": "ipython",
    "version": 3
   },
   "file_extension": ".py",
   "mimetype": "text/x-python",
   "name": "python",
   "nbconvert_exporter": "python",
   "pygments_lexer": "ipython3",
   "version": "3.7.1"
  }
 },
 "nbformat": 4,
 "nbformat_minor": 2
}
