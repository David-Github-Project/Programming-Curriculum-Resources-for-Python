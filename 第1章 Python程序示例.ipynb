{
 "cells": [
  {
   "cell_type": "code",
   "execution_count": 2,
   "metadata": {},
   "outputs": [
    {
     "name": "stdout",
     "output_type": "stream",
     "text": [
      "人生苦短，我学Python\n"
     ]
    }
   ],
   "source": [
    "#【例1-9】由ascii码的值并输出对应的ASCII字符\n",
    "for i in range(65,91):\n",
    "    print(\"{}:→{}\".format(i,chr(i)),end=\", \")"
   ]
  },
  {
   "cell_type": "code",
   "execution_count": 1,
   "metadata": {},
   "outputs": [
    {
     "name": "stdout",
     "output_type": "stream",
     "text": [
      "人生苦短，我学Python\n"
     ]
    }
   ],
   "source": [
    "s = u'\\u4eba\\u751f\\u82e6\\u77ed\\uff0c\\u6211\\u5b66Python' #汉字的Unicode码\n",
    "print(s)   #显示Unicode码所对应的汉字"
   ]
  },
  {
   "cell_type": "code",
   "execution_count": 4,
   "metadata": {},
   "outputs": [
    {
     "data": {
      "text/plain": [
       "'0x33'"
      ]
     },
     "execution_count": 4,
     "metadata": {},
     "output_type": "execute_result"
    }
   ],
   "source": [
    "#【例1-12】用Python内置函数实现不同进制转换\n",
    "int('1101', 2)  #二进制转十进制\n",
    "bin(13)      #十进制转为二进制\n",
    "int('0xa0',16)  #十六进制转十进制\n",
    "hex(160)         #十进制转十六进制\n",
    "bin(0x33)       #十六进制转二进制\n",
    "hex(0b110011)   #二进制转十六进制"
   ]
  },
  {
   "cell_type": "code",
   "execution_count": 6,
   "metadata": {},
   "outputs": [
    {
     "name": "stdout",
     "output_type": "stream",
     "text": [
      "1010"
     ]
    }
   ],
   "source": [
    "#实现十进制到任意进制的转换\n",
    "def f(n,x):\n",
    "    #n为待转换的十进制数，x为机制，取值为2-16\n",
    "    a=[0,1,2,3,4,5,6,7,8,9,'A','b','C','D','E','F']\n",
    "    b=[]\n",
    "    while True:\n",
    "        s=n//x    #商\n",
    "        y=n%x     #余数\n",
    "        b=b+[y]\n",
    "        if s==0:\n",
    "            break\n",
    "        n=s\n",
    "    b.reverse() #按逆序排序\n",
    "    for i in b:\n",
    "        print(a[i],end='')\n",
    "\n",
    "f(10,2)\n"
   ]
  },
  {
   "cell_type": "code",
   "execution_count": 4,
   "metadata": {},
   "outputs": [
    {
     "name": "stdout",
     "output_type": "stream",
     "text": [
      "输入二进制数：2345\n",
      "0\n"
     ]
    }
   ],
   "source": [
    "#二进制到十进制转换\n",
    "bin=str(input('输入二进制数：'))\n",
    "count = 0\n",
    "for i in range(0,len(bin)):\n",
    "    if bin[i] == str(1):\n",
    "        sum=2**(len(bin)-i-1)\n",
    "        count=count+sum\n",
    "print(count)"
   ]
  },
  {
   "cell_type": "code",
   "execution_count": 7,
   "metadata": {},
   "outputs": [
    {
     "data": {
      "text/plain": [
       "2"
      ]
     },
     "execution_count": 7,
     "metadata": {},
     "output_type": "execute_result"
    }
   ],
   "source": [
    "def bin2dec(s):\n",
    "    total = 0\n",
    "    for i in s:\n",
    "        total = 2*total + (0 if i=='0' else 1)\n",
    "    return total\n",
    "bin2dec(\"10\")"
   ]
  },
  {
   "cell_type": "code",
   "execution_count": null,
   "metadata": {},
   "outputs": [],
   "source": []
  }
 ],
 "metadata": {
  "kernelspec": {
   "display_name": "Python 3",
   "language": "python",
   "name": "python3"
  },
  "language_info": {
   "codemirror_mode": {
    "name": "ipython",
    "version": 3
   },
   "file_extension": ".py",
   "mimetype": "text/x-python",
   "name": "python",
   "nbconvert_exporter": "python",
   "pygments_lexer": "ipython3",
   "version": "3.6.0"
  }
 },
 "nbformat": 4,
 "nbformat_minor": 2
}
