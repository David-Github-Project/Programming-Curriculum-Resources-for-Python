{
 "cells": [
  {
   "cell_type": "code",
   "execution_count": 1,
   "metadata": {},
   "outputs": [
    {
     "name": "stdout",
     "output_type": "stream",
     "text": [
      "0.0\n",
      "0.25\n",
      "0.5\n",
      "0.75\n",
      "1.0\n"
     ]
    }
   ],
   "source": [
    "#例3-1：对序列元素进行归一化\n",
    "alist = [1,2,3,4,5]\n",
    "max_val = max(alist)\n",
    "min_val = min(alist)\n",
    "for i in alist:\n",
    "   norm= (i-min_val)/(max_val-min_val)\n",
    "   print(norm)"
   ]
  },
  {
   "cell_type": "code",
   "execution_count": 2,
   "metadata": {},
   "outputs": [
    {
     "name": "stdout",
     "output_type": "stream",
     "text": [
      "Please input the students' name,age and sex:\n",
      "name:Mike\n",
      "age:18\n",
      "sex:M\n",
      "name:Jerry\n",
      "age:17\n",
      "sex:M\n",
      "name:Carol\n",
      "age:17\n",
      "sex:F\n",
      "name:Jack\n",
      "age:18\n",
      "sex:M\n",
      "name:Elizabeth\n",
      "age:19\n",
      "sex:F\n",
      "[['Carol', '17', 'F'], ['Elizabeth', '19', 'F'], ['Jack', '18', 'M'], ['Jerry', '17', 'M'], ['Mike', '18', 'M']]\n",
      "[['Carol', '17', 'F'], ['Jerry', '17', 'M'], ['Jack', '18', 'M'], ['Mike', '18', 'M'], ['Elizabeth', '19', 'F']]\n"
     ]
    }
   ],
   "source": [
    "#例3-2：对序列成员进行排序\n",
    "print(\"Please input the students' name,age and sex:\")\n",
    "n = 5\n",
    "i = 0\n",
    "students = []\n",
    "while i<n:\n",
    "    name = input(\"name:\")\n",
    "    age = input(\"age:\")\n",
    "    sex = input(\"sex:\")\n",
    "    students += [[name,age,sex]]\n",
    "    i=i+1\n",
    "#按姓名字母顺序进行排序\n",
    "print(sorted(students ))\n",
    "#先按年龄排序，年龄相同的按姓名排序\n",
    "print(sorted(students,key = lambda student: (student[1],student[0])))"
   ]
  },
  {
   "cell_type": "code",
   "execution_count": 3,
   "metadata": {},
   "outputs": [
    {
     "name": "stdout",
     "output_type": "stream",
     "text": [
      "Angle, I love you!\n"
     ]
    }
   ],
   "source": [
    "#3-3：使用translate方法对给定密文进行解密\n",
    "intab = \"1234567\"\n",
    "outtab = \"eIlouvy\"\n",
    "trantab = str.maketrans(intab,outtab)   #利用maketrans函数创建字符映射转换表\n",
    "mywords = \" Angle, 2 3461 745!\"         #解密前 \n",
    "words = mywords.strip(\" \")              #使用strip去除mywords前后的空格   \n",
    "print(words.translate(trantab))         #解密后"
   ]
  },
  {
   "cell_type": "code",
   "execution_count": 4,
   "metadata": {},
   "outputs": [
    {
     "name": "stdout",
     "output_type": "stream",
     "text": [
      "Please input a line:What a beautiful day.\n",
      "There are 4 words in this line.\n"
     ]
    }
   ],
   "source": [
    "#3-4：统计句子中的单词个数\n",
    "line = input(\"Please input a line:\")\n",
    "words = line.split()\n",
    "num = len(words)\n",
    "print(\"There are %d words in this line.\"%(num))"
   ]
  },
  {
   "cell_type": "code",
   "execution_count": 5,
   "metadata": {},
   "outputs": [
    {
     "name": "stdout",
     "output_type": "stream",
     "text": [
      "----2014年-2018年国内生产总值及其增长速度----\n",
      "年份        生产总值      比上年增长\n",
      "2014           64.13          7.3%\n",
      "2015           68.60          6.9%\n",
      "2016           74.00          6.7%\n",
      "2017           82.07          6.8%\n",
      "2018           90.03          6.6%\n"
     ]
    }
   ],
   "source": [
    "#例3-5：用列表表示2014年—2018年国内生产总值及其增长速度\n",
    "title = [\"年份\",\"生产总值\",\"比上年增长\"]\n",
    "gdp= [[2014,64.13,7.3],[2015,68.60,6.9],[2016,74.00,6.7],[2017,82.07,6.8],[2018,90.03,6.6]]\n",
    "print(\"----2014年-2018年国内生产总值及其增长速度----\")\n",
    "print(\"%-10s%-10s%s\"%(title[0],title[1],title[2]))\n",
    "for i in gdp:\n",
    "    print(\"%-15d%-15.2f%.1f%%\"%(i[0],i[1],i[2]))"
   ]
  },
  {
   "cell_type": "code",
   "execution_count": 6,
   "metadata": {},
   "outputs": [
    {
     "name": "stdout",
     "output_type": "stream",
     "text": [
      "学号      姓名  Java  C语言  Python  平均成绩\n",
      "20177458  小李  65     83     85     77.67  \n",
      "20176735  小陈  87     81     85     84.33  \n",
      "20175020  小陈  74     87     60     73.67  \n",
      "20174406  小李  72     82     95     83.00  \n",
      "20171141  小白  62     99     94     85.00  \n",
      "java的平均成绩为：72.00\n",
      "C语言的平均成绩为：86.40\n",
      "python的平均成绩为：83.80\n",
      "java的成绩最高为：87.00，成绩最低为：62.00\n",
      "C语言的成绩最高为：99.00，成绩最低为：81.00\n",
      "python的成绩最高为：95.00，成绩最低为：60.00\n"
     ]
    }
   ],
   "source": [
    "#例3-6：学生成绩数据\n",
    "import random as r    #导入random模块，并重命名为r。random模块用于生成随机数。\n",
    "name_list = [\"白\", \"黄\", \"王\", \"陈\", \"赵\",\"章\",\"李\",\"陈\"]\n",
    "java_sum = []\n",
    "Cyy_sum = []\n",
    "pyt_sum = []\n",
    "print(\"学号      姓名  Java  C语言  Python  平均成绩\")\n",
    "j = 5\n",
    "for i in range(j):   #range(5)表示分别取0,1,2,3,4五个值\n",
    "     #用r.choise函数从name_list中随机选取一个元素组成姓名\n",
    "     name = \"小\"+r.choice(name_list) \n",
    "     #用r.randint函数从0~9999中随机生成一个整数组成学号\n",
    "     number = 20170000+r.randint(0, 9999) \n",
    "     #用r.randint函数从60~100中随机生成一个整数作为课程成绩    \n",
    "     java = r.randint(60, 100)\n",
    "     Cyy = r.randint(60, 100)\n",
    "     pyt = r.randint(60, 100)\n",
    "     java_sum.append(java)\n",
    "     Cyy_sum.append(Cyy)\n",
    "     pyt_sum.append(pyt)\n",
    "     avg =(java+Cyy+pyt)/3\n",
    "     print(\"{:d}{:^6s}{:<7d}{:<7d}{:<7d}{:<7.2f}\".format(number,name,java,Cyy,pyt,avg))\n",
    "avg_1 = sum(java_sum)/len(java_sum)\n",
    "avg_2 = sum(Cyy_sum)/len(Cyy_sum)\n",
    "avg_3 = sum(pyt_sum)/len(pyt_sum)\n",
    " \n",
    "max_1 = max(java_sum)\n",
    "min_1 = min(java_sum)\n",
    "\n",
    "max_2 = max(Cyy_sum)\n",
    "min_2 = min(Cyy_sum)\n",
    " \n",
    "max_3 = max(pyt_sum)\n",
    "min_3 = min(pyt_sum)\n",
    " \n",
    "print(\"java的平均成绩为：%.2f\" % avg_1)\n",
    "print(\"C语言的平均成绩为：%.2f\" % avg_2)\n",
    "print(\"python的平均成绩为：%.2f\" % avg_3)\n",
    "print(\"java的成绩最高为：%.2f，成绩最低为：%.2f\" % (max_1, min_1))\n",
    "print(\"C语言的成绩最高为：%.2f，成绩最低为：%.2f\" % (max_2, min_2))\n",
    "print(\"python的成绩最高为：%.2f，成绩最低为：%.2f\" % (max_3, min_3))"
   ]
  },
  {
   "cell_type": "code",
   "execution_count": 7,
   "metadata": {},
   "outputs": [
    {
     "name": "stdout",
     "output_type": "stream",
     "text": [
      "\t\t医疗保健      教育文化娱乐    交通通信      生活用品服务    房屋居住      衣着        食品烟酒      其他用品和服务   \n",
      "消费支出（元）\t1685           2226           2675           1223           4647           1289           5631           447            \n",
      "占比（%）\t8.5            11.2           13.5           6.2            23.4           6.5            28.4           2.4            \n"
     ]
    }
   ],
   "source": [
    "#例3-7：用元组表示2018年全国居民人均消费支出及其占比\n",
    "classification = (\"医疗保健\",\"教育文化娱乐\",\"交通通信\",\"生活用品服务\",\"房屋居住\",\"衣着\",\"食品烟酒\",\"其他用品和服务\")\n",
    "expenditure = (1685,2226,2675,1223,4647,1289,5631,447)\n",
    "proportion = (8.5,11.2,13.5,6.2,23.4,6.5,28.4,2.4)\n",
    "\n",
    "#输出消费分类\n",
    "print(\"\\t\\t\",end = '')\n",
    "for i in classification:\n",
    "    print(\"%-10s\"%(i),end = '')\n",
    "    \n",
    "#输出消费支出\n",
    "print(\"\\n消费支出（元）\\t\",end = '')\n",
    "for i in expenditure:\n",
    "    print(\"%-15d\"%(i),end = '')\n",
    "    \n",
    "#输出消费占比\n",
    "print(\"\\n占比（%）\\t\",end = '')\n",
    "for i in proportion:\n",
    "    print(\"%-15.1f\"%(i),end = '')\n",
    "print()"
   ]
  },
  {
   "cell_type": "code",
   "execution_count": 8,
   "metadata": {},
   "outputs": [
    {
     "name": "stdout",
     "output_type": "stream",
     "text": [
      "编号：1，特产：土笋冻，单价：3\n",
      "编号：2，特产：馅饼，单价：5\n",
      "编号：3，特产：满煎糕，单价：2\n",
      "请输入选购特产编号及个数（编号<空格>个数，以“0 0”结束）：\n",
      "1 3\n",
      "2 2\n",
      "3 1\n",
      "0 0\n",
      "购物清单：[['土笋冻', 3], ['馅饼', 2], ['满煎糕', 1]]\n",
      "合计：21元\n"
     ]
    }
   ],
   "source": [
    "#例3-8：特产小店\n",
    "#（1）特产基本信息\n",
    "products = ((1,\"土笋冻\",3),(2,\"馅饼\",5),(3,\"满煎糕\",2))\n",
    "#（2）输出特产信息\n",
    "for i in products :\n",
    "        print(\"编号：%d，特产：%s，单价：%d\"%(i[0],i[1],i[2]))\n",
    "#（3）购物篮\n",
    "cart = []\n",
    "Sum = 0\n",
    "print(\"请输入选购特产编号及个数（编号<空格>个数，以“0 0”结束）：\")\n",
    "while True:\n",
    "    a,b = map(int,input().split())\n",
    "    if a == 0 and b == 0:\n",
    "        break\n",
    "    i = products[a-1]\n",
    "    Sum += b*i[2]\n",
    "    alist = [i[1],b]\n",
    "    cart.append(alist)\n",
    "print(\"购物清单：{}\".format(cart))\n",
    "print(\"合计：%d元\"%(Sum))"
   ]
  },
  {
   "cell_type": "code",
   "execution_count": 9,
   "metadata": {},
   "outputs": [
    {
     "name": "stdout",
     "output_type": "stream",
     "text": [
      "2018年居民消费价格月度同比涨幅：\n",
      "1月：1.5%\n",
      "2月：2.9%\n",
      "3月：2.1%\n",
      "4月：1.8%\n",
      "5月：1.8%\n",
      "6月：1.9%\n",
      "7月：2.1%\n",
      "8月：2.3%\n",
      "9月：2.5%\n",
      "10月：2.5%\n",
      "11月：2.2%\n",
      "12月：1.9%\n"
     ]
    }
   ],
   "source": [
    "#例3-9：输出2018年居民消费价格月度同比涨幅数据\n",
    "cp_2018 = [1.5,2.9,2.1,1.8,1.8,1.9,2.1,2.3,2.5,2.5,2.2,1.9]\n",
    "print(\"2018年居民消费价格月度同比涨幅：\")\n",
    "for i in range(len(cp_2018)):\n",
    "    print(\"%d月：%.1f%%\"%(i+1,cp_2018[i]))"
   ]
  },
  {
   "cell_type": "code",
   "execution_count": 10,
   "metadata": {},
   "outputs": [
    {
     "name": "stdout",
     "output_type": "stream",
     "text": [
      "2018年中国GDP比2017增长了0.10%.\n",
      "2018年中国GDP比2017增长了0.10%.\n"
     ]
    }
   ],
   "source": [
    "# 序列程序题-1\n",
    "country = \"中国\"\n",
    "year1 = 2017\n",
    "gdp1 = 82.07\n",
    "year2 = 2018\n",
    "gdp2 = 90.03\n",
    "rate = (gdp2-gdp1)/gdp1\n",
    "#(1) %格式化方法\n",
    "print(\"%d年%sGDP比%d增长了%.2f%%.\"%(year2,country,year1,rate))\n",
    "#(2)%format格式化方法\n",
    "print(\"{year2}年{country}GDP比{year1}增长了{rate:.2f}%.\".format(year2=year2,country=country,year1=year1,rate=rate))"
   ]
  },
  {
   "cell_type": "code",
   "execution_count": 11,
   "metadata": {},
   "outputs": [
    {
     "name": "stdout",
     "output_type": "stream",
     "text": [
      "Please input the levels:\n",
      "--------1--------\n",
      "AAABB\n",
      "Pass!\n",
      "--------2--------\n",
      "ABCBB\n",
      "Not pass!\n",
      "--------3--------\n",
      "ABABB\n",
      "Not pass!\n",
      "--------4--------\n",
      "ABABA\n",
      "Pass!\n",
      "--------5--------\n",
      "BCBCC\n",
      "Not pass!\n"
     ]
    }
   ],
   "source": [
    "# 序列程序题-2\n",
    "n = 5\n",
    "i = 0\n",
    "print(\"Please input the levels:\")\n",
    "while i<n:\n",
    "   print(\"-\"*8+\"%d\"%(i+1)+\"-\"*8)\n",
    "   result = input()\n",
    "   if result.count('C')>0 or result.count('B')>=3:\n",
    "       print(\"Not pass!\")\n",
    "   else:\n",
    "       print(\"Pass!\")\n",
    "   i += 1"
   ]
  },
  {
   "cell_type": "code",
   "execution_count": 12,
   "metadata": {},
   "outputs": [
    {
     "name": "stdout",
     "output_type": "stream",
     "text": [
      "请输入一周城市PM2.5监测值：\n",
      "35\n",
      "25\n",
      "48\n",
      "75\n",
      "80\n",
      "45\n",
      "30\n",
      "一周内监测到的pm2.5最差的空气质量等级为：超标\n",
      "出现的天数： 1\n"
     ]
    }
   ],
   "source": [
    "# 序列程序题-3\n",
    "print(\"请输入一周城市PM2.5监测值：\")\n",
    "pms = []\n",
    "days = 7\n",
    "for i in range(days):\n",
    "    pm25 = int(input())\n",
    "    pms.append(pm25)\n",
    "pm_max = max(pms)\n",
    "\n",
    "if pm_max < 35:\n",
    "    level = \"一级\"\n",
    "elif pm_max <= 75:\n",
    "    level = \"二级\"\n",
    "else:\n",
    "    level = \"超标\"\n",
    "print(\"一周内监测到的pm2.5最差的空气质量等级为：\"+level)\n",
    "count = 0\n",
    "for i in pms:\n",
    "    if i==pm_max:\n",
    "        count = count+1\n",
    "print(\"出现的天数：\",count)  "
   ]
  },
  {
   "cell_type": "code",
   "execution_count": 13,
   "metadata": {},
   "outputs": [
    {
     "name": "stdout",
     "output_type": "stream",
     "text": [
      "['♥A', '♥2', '♥3', '♥4', '♥5', '♥6', '♥7', '♥8', '♥9', '♥10', '♥J', '♥Q', '♥K', '♠A', '♠2', '♠3', '♠4', '♠5', '♠6', '♠7', '♠8', '♠9', '♠10', '♠J', '♠Q', '♠K', '♦A', '♦2', '♦3', '♦4', '♦5', '♦6', '♦7', '♦8', '♦9', '♦10', '♦J', '♦Q', '♦K', '♣A', '♣2', '♣3', '♣4', '♣5', '♣6', '♣7', '♣8', '♣9', '♣10', '♣J', '♣Q', '♣K']\n"
     ]
    }
   ],
   "source": [
    "# 序列程序题-4\n",
    "A = ['♥','♠','♦','♣']\n",
    "B = ['A','2','3','4','5','6','7','8','9','10','J','Q','K']\n",
    "pokers = []\n",
    "for i in A:\n",
    "    for j in B:\n",
    "        pokers.append(i+j)\n",
    "print(pokers)"
   ]
  },
  {
   "cell_type": "code",
   "execution_count": 14,
   "metadata": {},
   "outputs": [
    {
     "name": "stdout",
     "output_type": "stream",
     "text": [
      "请输入两门选修课（用逗号隔开）：Python,人工智能\n",
      "您的课程: ['计算机导论', '高级语言程序设计', '数据结构', '组成原理', '操作系统', '计算机网络', '数据库原理', 'Python', '人工智能']\n"
     ]
    }
   ],
   "source": [
    "# 序列程序题-5\n",
    "required = [\"计算机导论\",\"高级语言程序设计\",\"数据结构\",\"组成原理\",\"操作系统\",\"计算机网络\",\"数据库原理\"]\n",
    "mycourses = required.copy()\n",
    "optional = input(\"请输入两门选修课（用逗号隔开）：\").split(\",\")\n",
    "mycourses.extend(optional)\n",
    "print(\"您的课程:\",mycourses)"
   ]
  },
  {
   "cell_type": "code",
   "execution_count": 15,
   "metadata": {},
   "outputs": [
    {
     "name": "stdout",
     "output_type": "stream",
     "text": [
      "删除前的列表为： ['a', 'a', 'b', 'b', 'c', 'a', 'b', 'a', 'c']\n",
      "请输入要删除的字母：b\n",
      "删除后的列表为： ['a', 'a', 'c', 'a', 'a', 'c']\n"
     ]
    }
   ],
   "source": [
    "# 序列程序题-6\n",
    "alist = ['a','a','b','b','c','a','b','a','c']\n",
    "print(\"删除前的列表为：\",alist)\n",
    "elem = input(\"请输入要删除的字母：\")\n",
    "length = len(alist)\n",
    "index = 0\n",
    "while index < length:\n",
    "    if alist[index] == elem :\n",
    "        alist.remove(elem)\n",
    "        index = index - 1\n",
    "        length = length -1\n",
    "    index = index + 1\n",
    "print(\"删除后的列表为：\",alist)"
   ]
  },
  {
   "cell_type": "code",
   "execution_count": 16,
   "metadata": {},
   "outputs": [
    {
     "name": "stdout",
     "output_type": "stream",
     "text": [
      "请输入考生人数：10\n",
      "请输入招生人数：5\n",
      "请输入分数线：510\n",
      "请依次输入学生的姓名、分数和志愿编号（三者之间用空格隔开）：\n",
      "刘一 540 1\n",
      "陈二 610 2\n",
      "张三 480 1\n",
      "李四 650 3\n",
      "王五 450 2\n",
      "赵六 580 1\n",
      "孙七 500 1\n",
      "周八 600 2\n",
      "吴九 566 2\n",
      "郑十 578 3\n",
      "[['赵六', 580, 1], ['刘一', 540, 1], ['孙七', 500, 1], ['张三', 480, 1], ['陈二', 610, 2], ['周八', 600, 2], ['吴九', 566, 2], ['王五', 450, 2], ['李四', 650, 3], ['郑十', 578, 3]]\n",
      "录取名单如下：\n",
      "赵六,刘一,陈二,周八,吴九,"
     ]
    }
   ],
   "source": [
    "# 序列程序题-7\n",
    "alist = []\n",
    "n = int(input(\"请输入考生人数：\"))\n",
    "m = int(input(\"请输入招生人数：\"))\n",
    "score = int(input(\"请输入分数线：\"))\n",
    "print(\"请依次输入学生的姓名、分数和志愿编号（三者之间用空格隔开）：\")\n",
    "for i in range(n):\n",
    "    scan = input().split()\n",
    "    student = [scan[0],int(scan[1]),int(scan[2])]\n",
    "    alist.append(student)\n",
    "list_sorted = sorted(alist, key = lambda x:(x[2],-x[1],x[0]))\n",
    "print(list_sorted)\n",
    "count = 0\n",
    "print(\"录取名单如下：\")\n",
    "for i in list_sorted:\n",
    "    if i[1]>=score:\n",
    "        print(i[0],end=',')\n",
    "        count += 1\n",
    "        if count == m:\n",
    "            break"
   ]
  },
  {
   "cell_type": "code",
   "execution_count": 17,
   "metadata": {},
   "outputs": [
    {
     "name": "stdout",
     "output_type": "stream",
     "text": [
      "该同学所有课程成绩为： (85, 67, 74, 82, 95)\n"
     ]
    }
   ],
   "source": [
    "# 序列程序题-8\n",
    "score1=(85,67,74)\n",
    "score2=(82,95)\n",
    "score =score1+score2\n",
    "print(\"该同学所有课程成绩为：\",score)"
   ]
  },
  {
   "cell_type": "code",
   "execution_count": 18,
   "metadata": {},
   "outputs": [
    {
     "name": "stdout",
     "output_type": "stream",
     "text": [
      "请输入第一个分数：1/3\n",
      "请输入第一个分数：1/2\n",
      "两数值和为：5/6\n"
     ]
    }
   ],
   "source": [
    "# 序列程序题-9\n",
    "a,b = map(int,input(\"请输入第一个分数：\").split('/'))\n",
    "c,d = map(int,input(\"请输入第一个分数：\").split('/'))\n",
    "fraction1 = (a,b)\n",
    "fraction2 = (c,d)\n",
    "b = fraction1[1]*fraction2[1]\n",
    "a = fraction1[0]*fraction2[1]+fraction2[0]*fraction1[1]\n",
    "print(\"两数值和为：\"+str(a)+'/'+str(b))"
   ]
  },
  {
   "cell_type": "code",
   "execution_count": 20,
   "metadata": {},
   "outputs": [
    {
     "name": "stdout",
     "output_type": "stream",
     "text": [
      "请输入像素的x坐标值：1\n",
      "请输入像素的y坐标值：1\n",
      "RGB值： (106, 230, 245)\n",
      "R矩阵元素的平均值：119\n",
      "G矩阵对角线元素之和: 1142\n",
      "B矩阵的转置矩阵：\n",
      "134     186     157     80      48      218     76      176     132     \n",
      "\n",
      "132     245     151     142     199     245     203     205     20      \n",
      "\n",
      "220     155     4       139     20      213     245     26      83      \n",
      "\n",
      "91      28      243     71      119     108     180     21      146     \n",
      "\n",
      "140     176     169     27      226     158     102     128     201     \n",
      "\n",
      "101     153     238     182     28      232     228     39      51      \n",
      "\n",
      "119     240     125     131     14      141     108     84      135     \n",
      "\n",
      "223     135     200     169     146     99      210     200     140     \n",
      "\n",
      "73      143     93      157     113     134     135     182     235     \n",
      "\n"
     ]
    }
   ],
   "source": [
    "# 序列程序题-10\n",
    "#(1) 随机生成R、G、B三个矩阵\n",
    "import random as r\n",
    "R = []\n",
    "G = []\n",
    "B = []\n",
    "for i in range(9):\n",
    "    list = []\n",
    "    for j in range(9):\n",
    "         list.append(r.randint(0,255))\n",
    "    R.append(list)\n",
    "\n",
    "for i in range(9):\n",
    "    list = []\n",
    "    for j in range(9):\n",
    "         list.append(r.randint(0,255))\n",
    "    G.append(list)\n",
    "\n",
    "for i in range(9):\n",
    "    list = []\n",
    "    for j in range(9):\n",
    "         list.append(r.randint(0,255))\n",
    "    B.append(list)\n",
    "\n",
    "\n",
    "#(2) 输入一个像素位置（x,y）,输出其对应的RGB值（R,G,B）\n",
    "x = int(input(\"请输入像素的x坐标值：\"))\n",
    "y = int(input(\"请输入像素的y坐标值：\"))\n",
    "RGB=(R[x][y],G[x][y],B[x][y])\n",
    "print(\"RGB值：\",RGB)\n",
    "\n",
    "#(3) 求R矩阵元素的平均值\n",
    "R_sum = 0\n",
    "for i in R:\n",
    "   for j in i:\n",
    "      R_sum += j\n",
    "avg = R_sum/81\n",
    "print(\"R矩阵元素的平均值：%.0f\"%avg)\n",
    "\n",
    "#(4) 求G矩阵对角线元素之和\n",
    "G_sum=0\n",
    "for i in range(9):\n",
    "     G_sum += G[i][i]\n",
    "print(\"G矩阵对角线元素之和:\",G_sum)\n",
    "\n",
    "#(5) 求B矩阵的转置矩阵\n",
    "for i in range(9):\n",
    "    for j in range(i):\n",
    "     temp = B[i][j]\n",
    "     B[i][j] = B[j][i]\n",
    "     B[j][i] = temp\n",
    "print(\"B矩阵的转置矩阵：\")\n",
    "for i in B:\n",
    "    for j in i:\n",
    "        print(\"%-8d\"%j,end='')\n",
    "    print(\"\\n\")"
   ]
  },
  {
   "cell_type": "code",
   "execution_count": null,
   "metadata": {},
   "outputs": [],
   "source": []
  }
 ],
 "metadata": {
  "kernelspec": {
   "display_name": "Python 3",
   "language": "python",
   "name": "python3"
  },
  "language_info": {
   "codemirror_mode": {
    "name": "ipython",
    "version": 3
   },
   "file_extension": ".py",
   "mimetype": "text/x-python",
   "name": "python",
   "nbconvert_exporter": "python",
   "pygments_lexer": "ipython3",
   "version": "3.7.2"
  }
 },
 "nbformat": 4,
 "nbformat_minor": 2
}
